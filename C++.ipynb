{
  "nbformat": 4,
  "nbformat_minor": 0,
  "metadata": {
    "colab": {
      "provenance": [],
      "toc_visible": true,
      "authorship_tag": "ABX9TyNUjqLovFsTRtU/5Ly3RtO1",
      "include_colab_link": true
    },
    "kernelspec": {
      "name": "python3",
      "display_name": "Python 3"
    },
    "language_info": {
      "name": "python"
    }
  },
  "cells": [
    {
      "cell_type": "markdown",
      "metadata": {
        "id": "view-in-github",
        "colab_type": "text"
      },
      "source": [
        "<a href=\"https://colab.research.google.com/github/AdrianSKazi/CPP-Library/blob/main/C%2B%2B.ipynb\" target=\"_parent\"><img src=\"https://colab.research.google.com/assets/colab-badge.svg\" alt=\"Open In Colab\"/></a>"
      ]
    },
    {
      "cell_type": "code",
      "source": [
        "!apt-get --purge remove cuda nvidia* libnvidia-*\n",
        "!dpkg -l | grep cuda- | awk '{print $2}' | xargs -n1 dpkg --purge\n",
        "!apt-get remove cuda-*\n",
        "!apt autoremove\n",
        "!apt-get update"
      ],
      "metadata": {
        "colab": {
          "base_uri": "https://localhost:8080/"
        },
        "id": "f1d2lDE1xm_r",
        "outputId": "70119bfb-65f9-4cd3-cf5c-e8424b3adb45"
      },
      "execution_count": null,
      "outputs": [
        {
          "output_type": "stream",
          "name": "stdout",
          "text": [
            "Reading package lists... Done\n",
            "Building dependency tree... Done\n",
            "Reading state information... Done\n",
            "Note, selecting 'nvidia-driver-550-server' for glob 'nvidia*'\n",
            "Note, selecting 'nvidia-firmware-535-535.154.05' for glob 'nvidia*'\n",
            "Note, selecting 'nvidia-docker2' for glob 'nvidia*'\n",
            "Note, selecting 'nvidia-cuda-toolkit-doc' for glob 'nvidia*'\n",
            "Note, selecting 'nvidia-imex' for glob 'nvidia*'\n",
            "Note, selecting 'nvidia-dkms-450-server' for glob 'nvidia*'\n",
            "Note, selecting 'nvidia-firmware-535-server-535.154.05' for glob 'nvidia*'\n",
            "Note, selecting 'nvidia-headless-390' for glob 'nvidia*'\n",
            "Note, selecting 'nvidia-cuda-toolkit-gcc' for glob 'nvidia*'\n",
            "Note, selecting 'nvidia-headless-418' for glob 'nvidia*'\n",
            "Note, selecting 'nvidia-headless-430' for glob 'nvidia*'\n",
            "Note, selecting 'nvidia-headless-435' for glob 'nvidia*'\n",
            "Note, selecting 'nvidia-headless-440' for glob 'nvidia*'\n",
            "Note, selecting 'nvidia-headless-450' for glob 'nvidia*'\n",
            "Note, selecting 'nvidia-headless-455' for glob 'nvidia*'\n",
            "Note, selecting 'nvidia-headless-460' for glob 'nvidia*'\n",
            "Note, selecting 'nvidia-headless-465' for glob 'nvidia*'\n",
            "Note, selecting 'nvidia-headless-470' for glob 'nvidia*'\n",
            "Note, selecting 'nvidia-dkms-470-server' for glob 'nvidia*'\n",
            "Note, selecting 'nvidia-headless-495' for glob 'nvidia*'\n",
            "Note, selecting 'nvidia-headless-510' for glob 'nvidia*'\n",
            "Note, selecting 'nvidia-headless-515' for glob 'nvidia*'\n",
            "Note, selecting 'nvidia-compute-utils-515-server' for glob 'nvidia*'\n",
            "Note, selecting 'nvidia-headless-520' for glob 'nvidia*'\n",
            "Note, selecting 'nvidia-headless-525' for glob 'nvidia*'\n",
            "Note, selecting 'nvidia-headless-530' for glob 'nvidia*'\n",
            "Note, selecting 'nvidia-headless-535' for glob 'nvidia*'\n",
            "Note, selecting 'nvidia-headless-545' for glob 'nvidia*'\n",
            "Note, selecting 'nvidia-headless-550' for glob 'nvidia*'\n",
            "Note, selecting 'nvidia-driver-440-server' for glob 'nvidia*'\n",
            "Note, selecting 'nvidia-fabricmanager-dev' for glob 'nvidia*'\n",
            "Note, selecting 'nvidia-compute-utils-535-server' for glob 'nvidia*'\n",
            "Note, selecting 'nvidia-325-updates' for glob 'nvidia*'\n",
            "Note, selecting 'nvidia-driver-460-server' for glob 'nvidia*'\n",
            "Note, selecting 'nvidia-primus-vk-common' for glob 'nvidia*'\n",
            "Note, selecting 'nvidia-opencl-dev' for glob 'nvidia*'\n",
            "Note, selecting 'nvidia-kernel-open-515' for glob 'nvidia*'\n",
            "Note, selecting 'nvidia-kernel-open-520' for glob 'nvidia*'\n",
            "Note, selecting 'nvidia-kernel-open-525' for glob 'nvidia*'\n",
            "Note, selecting 'nvidia-kernel-open-530' for glob 'nvidia*'\n",
            "Note, selecting 'nvidia-kernel-open-535' for glob 'nvidia*'\n",
            "Note, selecting 'nvidia-kernel-open-545' for glob 'nvidia*'\n",
            "Note, selecting 'nvidia-kernel-open-550' for glob 'nvidia*'\n",
            "Note, selecting 'nvidia-kernel-common-418-server' for glob 'nvidia*'\n",
            "Note, selecting 'nvidia-cg-toolkit' for glob 'nvidia*'\n",
            "Note, selecting 'nvidia-kernel-common-525-server' for glob 'nvidia*'\n",
            "Note, selecting 'nvidia-dkms-510-server' for glob 'nvidia*'\n",
            "Note, selecting 'nvidia-libopencl1-dev' for glob 'nvidia*'\n",
            "Note, selecting 'nvidia-texture-tools' for glob 'nvidia*'\n",
            "Note, selecting 'nvidia-driver-525-open' for glob 'nvidia*'\n",
            "Note, selecting 'nvidia-opencl-icd' for glob 'nvidia*'\n",
            "Note, selecting 'nvidia-headless-450-server' for glob 'nvidia*'\n",
            "Note, selecting 'nvidia-compute-utils-390' for glob 'nvidia*'\n",
            "Note, selecting 'nvidia-utils' for glob 'nvidia*'\n",
            "Note, selecting 'nvidia-compute-utils-418' for glob 'nvidia*'\n",
            "Note, selecting 'nvidia-compute-utils-430' for glob 'nvidia*'\n",
            "Note, selecting 'nvidia-compute-utils-435' for glob 'nvidia*'\n",
            "Note, selecting 'nvidia-compute-utils-440' for glob 'nvidia*'\n",
            "Note, selecting 'nvidia-compute-utils-450' for glob 'nvidia*'\n",
            "Note, selecting 'nvidia-compute-utils-455' for glob 'nvidia*'\n",
            "Note, selecting 'nvidia-compute-utils-460' for glob 'nvidia*'\n",
            "Note, selecting 'nvidia-compute-utils-465' for glob 'nvidia*'\n",
            "Note, selecting 'nvidia-compute-utils-470' for glob 'nvidia*'\n",
            "Note, selecting 'nvidia-compute-utils-495' for glob 'nvidia*'\n",
            "Note, selecting 'nvidia-dkms-390' for glob 'nvidia*'\n",
            "Note, selecting 'nvidia-headless-470-server' for glob 'nvidia*'\n",
            "Note, selecting 'nvidia-compute-utils-510' for glob 'nvidia*'\n",
            "Note, selecting 'nvidia-compute-utils-515' for glob 'nvidia*'\n",
            "Note, selecting 'nvidia-compute-utils-520' for glob 'nvidia*'\n",
            "Note, selecting 'nvidia-compute-utils-525' for glob 'nvidia*'\n",
            "Note, selecting 'nvidia-compute-utils-530' for glob 'nvidia*'\n",
            "Note, selecting 'nvidia-compute-utils-535' for glob 'nvidia*'\n",
            "Note, selecting 'nvidia-compute-utils-545' for glob 'nvidia*'\n",
            "Note, selecting 'nvidia-compute-utils-550' for glob 'nvidia*'\n",
            "Note, selecting 'nvidia-dkms-550-open' for glob 'nvidia*'\n",
            "Note, selecting 'nvidia-dkms-418' for glob 'nvidia*'\n",
            "Note, selecting 'nvidia-dkms-430' for glob 'nvidia*'\n",
            "Note, selecting 'nvidia-dkms-435' for glob 'nvidia*'\n",
            "Note, selecting 'nvidia-dkms-440' for glob 'nvidia*'\n",
            "Note, selecting 'nvidia-dkms-450' for glob 'nvidia*'\n",
            "Note, selecting 'nvidia-dkms-455' for glob 'nvidia*'\n",
            "Note, selecting 'nvidia-dkms-460' for glob 'nvidia*'\n",
            "Note, selecting 'nvidia-dkms-465' for glob 'nvidia*'\n",
            "Note, selecting 'nvidia-dkms-470' for glob 'nvidia*'\n",
            "Note, selecting 'nvidia-dkms-495' for glob 'nvidia*'\n",
            "Note, selecting 'nvidia-381-updates' for glob 'nvidia*'\n",
            "Note, selecting 'nvidia-dkms-510' for glob 'nvidia*'\n",
            "Note, selecting 'nvidia-dkms-515' for glob 'nvidia*'\n",
            "Note, selecting 'nvidia-dkms-520' for glob 'nvidia*'\n",
            "Note, selecting 'nvidia-dkms-525' for glob 'nvidia*'\n",
            "Note, selecting 'nvidia-dkms-530' for glob 'nvidia*'\n",
            "Note, selecting 'nvidia-dkms-535' for glob 'nvidia*'\n",
            "Note, selecting 'nvidia-fs' for glob 'nvidia*'\n",
            "Note, selecting 'nvidia-dkms-545' for glob 'nvidia*'\n",
            "Note, selecting 'nvidia-dkms-550' for glob 'nvidia*'\n",
            "Note, selecting 'nvidia-container-runtime' for glob 'nvidia*'\n",
            "Note, selecting 'nvidia-driver-390' for glob 'nvidia*'\n",
            "Note, selecting 'nvidia-driver-410' for glob 'nvidia*'\n",
            "Note, selecting 'nvidia-driver-418' for glob 'nvidia*'\n",
            "Note, selecting 'nvidia-driver-430' for glob 'nvidia*'\n",
            "Note, selecting 'nvidia-driver-435' for glob 'nvidia*'\n",
            "Note, selecting 'nvidia-driver-440' for glob 'nvidia*'\n",
            "Note, selecting 'nvidia-driver-450' for glob 'nvidia*'\n",
            "Note, selecting 'nvidia-driver-455' for glob 'nvidia*'\n",
            "Note, selecting 'nvidia-driver-460' for glob 'nvidia*'\n",
            "Note, selecting 'nvidia-driver-465' for glob 'nvidia*'\n",
            "Note, selecting 'nvidia-driver-470' for glob 'nvidia*'\n",
            "Note, selecting 'nvidia-driver-495' for glob 'nvidia*'\n",
            "Note, selecting 'nvidia-headless-550-server-open' for glob 'nvidia*'\n",
            "Note, selecting 'nvidia-driver-510' for glob 'nvidia*'\n",
            "Note, selecting 'nvidia-driver-515' for glob 'nvidia*'\n",
            "Note, selecting 'nvidia-driver-520' for glob 'nvidia*'\n",
            "Note, selecting 'nvidia-driver-525' for glob 'nvidia*'\n",
            "Note, selecting 'nvidia-driver-530' for glob 'nvidia*'\n",
            "Note, selecting 'nvidia-driver-535' for glob 'nvidia*'\n",
            "Note, selecting 'nvidia-driver-545' for glob 'nvidia*'\n",
            "Note, selecting 'nvidia-driver-550' for glob 'nvidia*'\n",
            "Note, selecting 'nvidia-dkms-440-server' for glob 'nvidia*'\n",
            "Note, selecting 'nvidia-headless-no-dkms-545-open' for glob 'nvidia*'\n",
            "Note, selecting 'nvidia-dkms-460-server' for glob 'nvidia*'\n",
            "Note, selecting 'nvidia-headless-510-server' for glob 'nvidia*'\n",
            "Note, selecting 'nvidia-387-updates' for glob 'nvidia*'\n",
            "Note, selecting 'nvidia-headless-no-dkms-515-server' for glob 'nvidia*'\n",
            "Note, selecting 'nvidia-dkms-520-open' for glob 'nvidia*'\n",
            "Note, selecting 'nvidia-utils-535-server' for glob 'nvidia*'\n",
            "Note, selecting 'nvidia-driver-450-server' for glob 'nvidia*'\n",
            "Note, selecting 'nvidia-headless-no-dkms-535-server' for glob 'nvidia*'\n",
            "Note, selecting 'nvidia-driver-470-server' for glob 'nvidia*'\n",
            "Note, selecting 'nvidia-primus-vk-wrapper' for glob 'nvidia*'\n",
            "Note, selecting 'nvidia-kernel-common-515-server' for glob 'nvidia*'\n",
            "Note, selecting 'nvidia-kernel-source-535-server-open' for glob 'nvidia*'\n",
            "Note, selecting 'nvidia-docker' for glob 'nvidia*'\n",
            "Note, selecting 'nvidia-kernel-common-535-server' for glob 'nvidia*'\n",
            "Note, selecting 'nvidia-378-updates' for glob 'nvidia*'\n",
            "Note, selecting 'nvidia-313-updates' for glob 'nvidia*'\n",
            "Note, selecting 'nvidia-headless-440-server' for glob 'nvidia*'\n",
            "Note, selecting 'nvidia-headless-460-server' for glob 'nvidia*'\n",
            "Note, selecting 'nvidia-utils-390' for glob 'nvidia*'\n",
            "Note, selecting 'nvidia-headless-545-open' for glob 'nvidia*'\n",
            "Note, selecting 'nvidia-utils-418' for glob 'nvidia*'\n",
            "Note, selecting 'nvidia-headless' for glob 'nvidia*'\n",
            "Note, selecting 'nvidia-utils-430' for glob 'nvidia*'\n",
            "Note, selecting 'nvidia-utils-435' for glob 'nvidia*'\n",
            "Note, selecting 'nvidia-utils-440' for glob 'nvidia*'\n",
            "Note, selecting 'nvidia-utils-450' for glob 'nvidia*'\n",
            "Note, selecting 'nvidia-utils-455' for glob 'nvidia*'\n",
            "Note, selecting 'nvidia-utils-460' for glob 'nvidia*'\n",
            "Note, selecting 'nvidia-utils-465' for glob 'nvidia*'\n",
            "Note, selecting 'nvidia-utils-470' for glob 'nvidia*'\n",
            "Note, selecting 'nvidia-utils-495' for glob 'nvidia*'\n",
            "Note, selecting 'nvidia-utils-510' for glob 'nvidia*'\n",
            "Note, selecting 'nvidia-utils-515' for glob 'nvidia*'\n",
            "Note, selecting 'nvidia-utils-520' for glob 'nvidia*'\n",
            "Note, selecting 'nvidia-utils-525' for glob 'nvidia*'\n",
            "Note, selecting 'nvidia-utils-530' for glob 'nvidia*'\n",
            "Note, selecting 'nvidia-utils-535' for glob 'nvidia*'\n",
            "Note, selecting 'nvidia-utils-545' for glob 'nvidia*'\n",
            "Note, selecting 'nvidia-utils-550' for glob 'nvidia*'\n",
            "Note, selecting 'nvidia-319-updates' for glob 'nvidia*'\n",
            "Note, selecting 'nvidia-kernel-source-510-server' for glob 'nvidia*'\n",
            "Note, selecting 'nvidia-kernel-source-530-open' for glob 'nvidia*'\n",
            "Note, selecting 'nvidia-egl-wayland-common' for glob 'nvidia*'\n",
            "Note, selecting 'nvidia-384-updates' for glob 'nvidia*'\n",
            "Note, selecting 'nvidia-304-updates' for glob 'nvidia*'\n",
            "Note, selecting 'nvidia-kernel-source-550-server' for glob 'nvidia*'\n",
            "Note, selecting 'nvidia-driver-550-server-open' for glob 'nvidia*'\n",
            "Note, selecting 'nvidia-utils-418-server' for glob 'nvidia*'\n",
            "Note, selecting 'nvidia-utils-525-server' for glob 'nvidia*'\n",
            "Note, selecting 'nvidia-headless-515-open' for glob 'nvidia*'\n",
            "Note, selecting 'nvidia-headless-no-dkms-418-server' for glob 'nvidia*'\n",
            "Note, selecting 'nvidia-headless-no-dkms-525-server' for glob 'nvidia*'\n",
            "Note, selecting 'nvidia-kernel-source-545-open' for glob 'nvidia*'\n",
            "Note, selecting 'nvidia-kernel-source-440-server' for glob 'nvidia*'\n",
            "Note, selecting 'nvidia-375-updates' for glob 'nvidia*'\n",
            "Note, selecting 'nvidia-310-updates' for glob 'nvidia*'\n",
            "Note, selecting 'nvidia-kernel-source-460-server' for glob 'nvidia*'\n",
            "Note, selecting 'nvidia-kernel-source-515-open' for glob 'nvidia*'\n",
            "Note, selecting 'nvidia-headless-no-dkms-535-server-open' for glob 'nvidia*'\n",
            "Note, selecting 'nvidia-headless-no-dkms-530-open' for glob 'nvidia*'\n",
            "Note, selecting 'nvidia-dkms-550-server-open' for glob 'nvidia*'\n",
            "Note, selecting 'nvidia-364-updates' for glob 'nvidia*'\n",
            "Note, selecting 'nvidia-firmware-535-535.146.02' for glob 'nvidia*'\n",
            "Note, selecting 'nvidia-gds-11-7' for glob 'nvidia*'\n",
            "Note, selecting 'nvidia-gds-11-8' for glob 'nvidia*'\n",
            "Note, selecting 'nvidia-gds-12-0' for glob 'nvidia*'\n",
            "Note, selecting 'nvidia-gds-12-1' for glob 'nvidia*'\n",
            "Note, selecting 'nvidia-gds-12-2' for glob 'nvidia*'\n",
            "Note, selecting 'nvidia-gds-12-3' for glob 'nvidia*'\n",
            "Note, selecting 'nvidia-gds-12-4' for glob 'nvidia*'\n",
            "Note, selecting 'nvidia-firmware-535-server-535.146.02' for glob 'nvidia*'\n",
            "Note, selecting 'nvidia-utils-515-server' for glob 'nvidia*'\n",
            "Note, selecting 'nvidia-firmware-545-server-545.29.02' for glob 'nvidia*'\n",
            "Note, selecting 'nvidia-firmware-545-server-545.29.06' for glob 'nvidia*'\n",
            "Note, selecting 'nvidia-firmware-550-server-550.67' for glob 'nvidia*'\n",
            "Note, selecting 'nvidia-firmware-550-server-550.78' for glob 'nvidia*'\n",
            "Note, selecting 'nvidia-dkms-525-open' for glob 'nvidia*'\n",
            "Note, selecting 'nvidia-headless-no-dkms-515-open' for glob 'nvidia*'\n",
            "Note, selecting 'nvidia-headless-530-open' for glob 'nvidia*'\n",
            "Note, selecting 'nvidia-kernel-source-450-server' for glob 'nvidia*'\n",
            "Note, selecting 'nvidia-legacy-390xx-opencl-icd' for glob 'nvidia*'\n",
            "Note, selecting 'nvidia-kernel-source-470-server' for glob 'nvidia*'\n",
            "Note, selecting 'nvidia-profiler' for glob 'nvidia*'\n",
            "Note, selecting 'nvidia-361-updates' for glob 'nvidia*'\n",
            "Note, selecting 'nvidia-firmware-535-535.54.03' for glob 'nvidia*'\n",
            "Note, selecting 'nvidia-current-updates' for glob 'nvidia*'\n",
            "Note, selecting 'nvidia-compute-utils-510-server' for glob 'nvidia*'\n",
            "Note, selecting 'nvidia-visual-profiler' for glob 'nvidia*'\n",
            "Note, selecting 'nvidia-dkms-515-server' for glob 'nvidia*'\n",
            "Note, selecting 'nvidia-367-updates' for glob 'nvidia*'\n",
            "Note, selecting 'nvidia-dkms-535-server' for glob 'nvidia*'\n",
            "Note, selecting 'nvidia-compute-utils-550-server' for glob 'nvidia*'\n",
            "Note, selecting 'nvidia-kernel-common-390' for glob 'nvidia*'\n",
            "Note, selecting 'nvidia-kernel-common-396' for glob 'nvidia*'\n",
            "Note, selecting 'nvidia-driver-545-open' for glob 'nvidia*'\n",
            "Note, selecting 'nvidia-kernel-common-418' for glob 'nvidia*'\n",
            "Note, selecting 'nvidia-kernel-common-430' for glob 'nvidia*'\n",
            "Note, selecting 'nvidia-kernel-common-435' for glob 'nvidia*'\n",
            "Note, selecting 'nvidia-kernel-common-440' for glob 'nvidia*'\n",
            "Note, selecting 'nvidia-kernel-common-450' for glob 'nvidia*'\n",
            "Note, selecting 'nvidia-kernel-common-455' for glob 'nvidia*'\n",
            "Note, selecting 'nvidia-kernel-common-460' for glob 'nvidia*'\n",
            "Note, selecting 'nvidia-kernel-common-465' for glob 'nvidia*'\n",
            "Note, selecting 'nvidia-kernel-common-470' for glob 'nvidia*'\n",
            "Note, selecting 'nvidia-kernel-common-495' for glob 'nvidia*'\n",
            "Note, selecting 'nvidia-kernel-source-535-open' for glob 'nvidia*'\n",
            "Note, selecting 'nvidia-legacy-390xx-smi' for glob 'nvidia*'\n",
            "Note, selecting 'nvidia-prebuilt-kernel' for glob 'nvidia*'\n",
            "Note, selecting 'nvidia-kernel-common-510' for glob 'nvidia*'\n",
            "Note, selecting 'nvidia-kernel-common-515' for glob 'nvidia*'\n",
            "Note, selecting 'nvidia-kernel-common-520' for glob 'nvidia*'\n",
            "Note, selecting 'nvidia-kernel-common-525' for glob 'nvidia*'\n",
            "Note, selecting 'nvidia-kernel-common-530' for glob 'nvidia*'\n",
            "Note, selecting 'nvidia-kernel-common-535' for glob 'nvidia*'\n",
            "Note, selecting 'nvidia-kernel-common-545' for glob 'nvidia*'\n",
            "Note, selecting 'nvidia-kernel-common-550' for glob 'nvidia*'\n",
            "Note, selecting 'nvidia-driver-418-server' for glob 'nvidia*'\n",
            "Note, selecting 'nvidia-current' for glob 'nvidia*'\n",
            "Note, selecting 'nvidia-compute-utils' for glob 'nvidia*'\n",
            "Note, selecting 'nvidia-driver-525-server' for glob 'nvidia*'\n",
            "Note, selecting 'nvidia-fs-modules' for glob 'nvidia*'\n",
            "Note, selecting 'nvidia-firmware-535-535.161.07' for glob 'nvidia*'\n",
            "Note, selecting 'nvidia-firmware-535-535.161.08' for glob 'nvidia*'\n",
            "Note, selecting 'nvidia-kernel-common' for glob 'nvidia*'\n",
            "Note, selecting 'nvidia-compute-utils-440-server' for glob 'nvidia*'\n",
            "Note, selecting 'nvidia-358-updates' for glob 'nvidia*'\n",
            "Note, selecting 'nvidia-driver-515-open' for glob 'nvidia*'\n",
            "Note, selecting 'nvidia-compute-utils-460-server' for glob 'nvidia*'\n",
            "Note, selecting 'nvidia-firmware-535-server-535.161.07' for glob 'nvidia*'\n",
            "Note, selecting 'nvidia-firmware-535-server-535.161.08' for glob 'nvidia*'\n",
            "Note, selecting 'nvidia-cuda-dev' for glob 'nvidia*'\n",
            "Note, selecting 'nvidia-cuda-doc' for glob 'nvidia*'\n",
            "Note, selecting 'nvidia-headless-515-server' for glob 'nvidia*'\n",
            "Note, selecting 'nvidia-fabricmanager' for glob 'nvidia*'\n",
            "Note, selecting 'nvidia-firmware-535-535.171.04' for glob 'nvidia*'\n",
            "Note, selecting 'nvidia-headless-535-server' for glob 'nvidia*'\n",
            "Note, selecting 'nvidia-cuda-gdb' for glob 'nvidia*'\n",
            "Note, selecting 'nvidia-340-dev' for glob 'nvidia*'\n",
            "Note, selecting 'nvidia-firmware-535-server-535.171.04' for glob 'nvidia*'\n",
            "Note, selecting 'nvidia-cuda-toolkit' for glob 'nvidia*'\n",
            "Note, selecting 'nvidia-dkms-545-open' for glob 'nvidia*'\n",
            "Note, selecting 'nvidia-headless-no-dkms-510-server' for glob 'nvidia*'\n",
            "Note, selecting 'nvidia-headless-no-dkms-535-open' for glob 'nvidia*'\n",
            "Note, selecting 'nvidia-headless-550-open' for glob 'nvidia*'\n",
            "Note, selecting 'nvidia-dkms-418-server' for glob 'nvidia*'\n",
            "Note, selecting 'nvidia-dkms-525-server' for glob 'nvidia*'\n",
            "Note, selecting 'nvidia-headless-no-dkms-550-server' for glob 'nvidia*'\n",
            "Note, selecting 'nvidia-prime' for glob 'nvidia*'\n",
            "Note, selecting 'nvidia-kernel-common-510-server' for glob 'nvidia*'\n",
            "Note, selecting 'nvidia-firmware-545-545.29.02' for glob 'nvidia*'\n",
            "Note, selecting 'nvidia-firmware-545-545.29.06' for glob 'nvidia*'\n",
            "Note, selecting 'nvidia-kernel-dkms' for glob 'nvidia*'\n",
            "Note, selecting 'nvidia-firmware-550-550.54.14' for glob 'nvidia*'\n",
            "Note, selecting 'nvidia-firmware-550-550.54.15' for glob 'nvidia*'\n",
            "Note, selecting 'nvidia-driver-515-server' for glob 'nvidia*'\n",
            "Note, selecting 'nvidia-dkms-515-open' for glob 'nvidia*'\n",
            "Note, selecting 'nvidia-355-updates' for glob 'nvidia*'\n",
            "Note, selecting 'nvidia-driver-535-server' for glob 'nvidia*'\n",
            "Note, selecting 'nvidia-kernel-common-550-server' for glob 'nvidia*'\n",
            "Note, selecting 'nvidia-headless-520-open' for glob 'nvidia*'\n",
            "Note, selecting 'nvidia-kernel-source-550-open' for glob 'nvidia*'\n",
            "Note, selecting 'nvidia-opencl-icd-340' for glob 'nvidia*'\n",
            "Note, selecting 'nvidia-opencl-icd-384' for glob 'nvidia*'\n",
            "Note, selecting 'nvidia-compute-utils-450-server' for glob 'nvidia*'\n",
            "Note, selecting 'nvidia-kernel-open' for glob 'nvidia*'\n",
            "Note, selecting 'nvidia-304' for glob 'nvidia*'\n",
            "Note, selecting 'nvidia-310' for glob 'nvidia*'\n",
            "Note, selecting 'nvidia-313' for glob 'nvidia*'\n",
            "Note, selecting 'nvidia-319' for glob 'nvidia*'\n",
            "Note, selecting 'nvidia-325' for glob 'nvidia*'\n",
            "Note, selecting 'nvidia-331' for glob 'nvidia*'\n",
            "Note, selecting 'nvidia-334' for glob 'nvidia*'\n",
            "Note, selecting 'nvidia-337' for glob 'nvidia*'\n",
            "Note, selecting 'nvidia-340' for glob 'nvidia*'\n",
            "Note, selecting 'nvidia-343' for glob 'nvidia*'\n",
            "Note, selecting 'nvidia-346' for glob 'nvidia*'\n",
            "Note, selecting 'nvidia-349' for glob 'nvidia*'\n",
            "Note, selecting 'nvidia-352' for glob 'nvidia*'\n",
            "Note, selecting 'nvidia-355' for glob 'nvidia*'\n",
            "Note, selecting 'nvidia-358' for glob 'nvidia*'\n",
            "Note, selecting 'nvidia-361' for glob 'nvidia*'\n",
            "Note, selecting 'nvidia-364' for glob 'nvidia*'\n",
            "Note, selecting 'nvidia-367' for glob 'nvidia*'\n",
            "Note, selecting 'nvidia-375' for glob 'nvidia*'\n",
            "Note, selecting 'nvidia-378' for glob 'nvidia*'\n",
            "Note, selecting 'nvidia-381' for glob 'nvidia*'\n",
            "Note, selecting 'nvidia-384' for glob 'nvidia*'\n",
            "Note, selecting 'nvidia-387' for glob 'nvidia*'\n",
            "Note, selecting 'nvidia-390' for glob 'nvidia*'\n",
            "Note, selecting 'nvidia-fs-dkms' for glob 'nvidia*'\n",
            "Note, selecting 'nvidia-compute-utils-470-server' for glob 'nvidia*'\n",
            "Note, selecting 'nvidia-kernel-common-440-server' for glob 'nvidia*'\n",
            "Note, selecting 'nvidia-headless-418-server' for glob 'nvidia*'\n",
            "Note, selecting 'nvidia-340-uvm' for glob 'nvidia*'\n",
            "Note, selecting 'nvidia-headless-525-server' for glob 'nvidia*'\n",
            "Note, selecting 'nvidia-headless-535-open' for glob 'nvidia*'\n",
            "Note, selecting 'nvidia-346-updates' for glob 'nvidia*'\n",
            "Note, selecting 'nvidia-fs-prebuilt-kernel' for glob 'nvidia*'\n",
            "Note, selecting 'nvidia-kernel-common-460-server' for glob 'nvidia*'\n",
            "Note, selecting 'nvidia' for glob 'nvidia*'\n",
            "Note, selecting 'nvidia-kernel-source-550-server-open' for glob 'nvidia*'\n",
            "Note, selecting 'nvidia-driver-530-open' for glob 'nvidia*'\n",
            "Note, selecting 'nvidia-kernel-source-520-open' for glob 'nvidia*'\n",
            "Note, selecting 'nvidia-headless-535-server-open' for glob 'nvidia*'\n",
            "Note, selecting 'nvidia-settings' for glob 'nvidia*'\n",
            "Note, selecting 'nvidia-headless-no-dkms-390' for glob 'nvidia*'\n",
            "Note, selecting 'nvidia-headless-no-dkms-418' for glob 'nvidia*'\n",
            "Note, selecting 'nvidia-headless-no-dkms-430' for glob 'nvidia*'\n",
            "Note, selecting 'nvidia-headless-no-dkms-435' for glob 'nvidia*'\n",
            "Note, selecting 'nvidia-headless-no-dkms-440' for glob 'nvidia*'\n",
            "Note, selecting 'nvidia-headless-no-dkms-450' for glob 'nvidia*'\n",
            "Note, selecting 'nvidia-headless-no-dkms-455' for glob 'nvidia*'\n",
            "Note, selecting 'nvidia-headless-no-dkms-460' for glob 'nvidia*'\n",
            "Note, selecting 'nvidia-headless-no-dkms-465' for glob 'nvidia*'\n",
            "Note, selecting 'nvidia-headless-no-dkms-470' for glob 'nvidia*'\n",
            "Note, selecting 'nvidia-headless-no-dkms-495' for glob 'nvidia*'\n",
            "Note, selecting 'nvidia-container-runtime-hook' for glob 'nvidia*'\n",
            "Note, selecting 'nvidia-cudnn' for glob 'nvidia*'\n",
            "Note, selecting 'nvidia-headless-no-dkms-510' for glob 'nvidia*'\n",
            "Note, selecting 'nvidia-headless-no-dkms-515' for glob 'nvidia*'\n",
            "Note, selecting 'nvidia-headless-no-dkms-520' for glob 'nvidia*'\n",
            "Note, selecting 'nvidia-headless-no-dkms-525' for glob 'nvidia*'\n",
            "Note, selecting 'nvidia-headless-no-dkms-530' for glob 'nvidia*'\n",
            "Note, selecting 'nvidia-headless-no-dkms-535' for glob 'nvidia*'\n",
            "Note, selecting 'nvidia-headless-no-dkms-545' for glob 'nvidia*'\n",
            "Note, selecting 'nvidia-headless-no-dkms-550' for glob 'nvidia*'\n",
            "Note, selecting 'nvidia-352-updates' for glob 'nvidia*'\n",
            "Note, selecting 'nvidia-headless-no-dkms-550-open' for glob 'nvidia*'\n",
            "Note, selecting 'nvidia-firmware-535-535.113.01' for glob 'nvidia*'\n",
            "Note, selecting 'nvidia-libopencl1' for glob 'nvidia*'\n",
            "Note, selecting 'nvidia-fabricmanager-dev-450' for glob 'nvidia*'\n",
            "Note, selecting 'nvidia-fabricmanager-dev-460' for glob 'nvidia*'\n",
            "Note, selecting 'nvidia-fabricmanager-dev-470' for glob 'nvidia*'\n",
            "Note, selecting 'nvidia-fabricmanager-dev-510' for glob 'nvidia*'\n",
            "Note, selecting 'nvidia-fabricmanager-dev-515' for glob 'nvidia*'\n",
            "Note, selecting 'nvidia-fabricmanager-dev-520' for glob 'nvidia*'\n",
            "Note, selecting 'nvidia-fabricmanager-dev-525' for glob 'nvidia*'\n",
            "Note, selecting 'nvidia-fabricmanager-dev-530' for glob 'nvidia*'\n",
            "Note, selecting 'nvidia-fabricmanager-dev-535' for glob 'nvidia*'\n",
            "Note, selecting 'nvidia-fabricmanager-dev-545' for glob 'nvidia*'\n",
            "Note, selecting 'nvidia-fabricmanager-dev-550' for glob 'nvidia*'\n",
            "Note, selecting 'nvidia-firmware-535-server-535.113.01' for glob 'nvidia*'\n",
            "Note, selecting 'nvidia-kernel-source-418-server' for glob 'nvidia*'\n",
            "Note, selecting 'nvidia-kernel-source-525-server' for glob 'nvidia*'\n",
            "Note, selecting 'nvidia-headless-no-dkms-450-server' for glob 'nvidia*'\n",
            "Note, selecting 'nvidia-dkms-530-open' for glob 'nvidia*'\n",
            "Note, selecting 'nvidia-headless-no-dkms-470-server' for glob 'nvidia*'\n",
            "Note, selecting 'nvidia-343-updates' for glob 'nvidia*'\n",
            "Note, selecting 'nvidia-headless-no-dkms-520-open' for glob 'nvidia*'\n",
            "Note, selecting 'nvidia-kernel-common-450-server' for glob 'nvidia*'\n",
            "Note, selecting 'nvidia-firmware-550-server-550.54.14' for glob 'nvidia*'\n",
            "Note, selecting 'nvidia-firmware-550-server-550.54.15' for glob 'nvidia*'\n",
            "Note, selecting 'nvidia-kernel-common-470-server' for glob 'nvidia*'\n",
            "Note, selecting 'nvidia-utils-510-server' for glob 'nvidia*'\n",
            "Note, selecting 'nvidia-349-updates' for glob 'nvidia*'\n",
            "Note, selecting 'nvidia-firmware-550-550.67' for glob 'nvidia*'\n",
            "Note, selecting 'nvidia-firmware-550-550.78' for glob 'nvidia*'\n",
            "Note, selecting 'nvidia-fabricmanager-450' for glob 'nvidia*'\n",
            "Note, selecting 'nvidia-fabricmanager-460' for glob 'nvidia*'\n",
            "Note, selecting 'nvidia-fabricmanager-470' for glob 'nvidia*'\n",
            "Note, selecting 'nvidia-fabricmanager-510' for glob 'nvidia*'\n",
            "Note, selecting 'nvidia-fabricmanager-515' for glob 'nvidia*'\n",
            "Note, selecting 'nvidia-fabricmanager-520' for glob 'nvidia*'\n",
            "Note, selecting 'nvidia-fabricmanager-525' for glob 'nvidia*'\n",
            "Note, selecting 'nvidia-fabricmanager-530' for glob 'nvidia*'\n",
            "Note, selecting 'nvidia-fabricmanager-535' for glob 'nvidia*'\n",
            "Note, selecting 'nvidia-fabricmanager-545' for glob 'nvidia*'\n",
            "Note, selecting 'nvidia-fabricmanager-550' for glob 'nvidia*'\n",
            "Note, selecting 'nvidia-334-updates' for glob 'nvidia*'\n",
            "Note, selecting 'nvidia-driver-535-server-open' for glob 'nvidia*'\n",
            "Note, selecting 'nvidia-headless-no-dkms-550-server-open' for glob 'nvidia*'\n",
            "Note, selecting 'nvidia-utils-550-server' for glob 'nvidia*'\n",
            "Note, selecting 'nvidia-container-toolkit' for glob 'nvidia*'\n",
            "Note, selecting 'nvidia-libopencl1-340' for glob 'nvidia*'\n",
            "Note, selecting 'nvidia-libopencl1-384' for glob 'nvidia*'\n",
            "Note, selecting 'nvidia-driver-550-open' for glob 'nvidia*'\n",
            "Note, selecting 'nvidia-firmware-550-550.40.07' for glob 'nvidia*'\n",
            "Note, selecting 'nvidia-container-toolkit-base' for glob 'nvidia*'\n",
            "Note, selecting 'nvidia-utils-440-server' for glob 'nvidia*'\n",
            "Note, selecting 'nvidia-firmware-535-535.129.03' for glob 'nvidia*'\n",
            "Note, selecting 'nvidia-kernel-source-515-server' for glob 'nvidia*'\n",
            "Note, selecting 'nvidia-kernel-source-390' for glob 'nvidia*'\n",
            "Note, selecting 'nvidia-headless-no-dkms-440-server' for glob 'nvidia*'\n",
            "Note, selecting 'nvidia-340-updates' for glob 'nvidia*'\n",
            "Note, selecting 'nvidia-utils-460-server' for glob 'nvidia*'\n",
            "Note, selecting 'nvidia-kernel-source-418' for glob 'nvidia*'\n",
            "Note, selecting 'nvidia-kernel-source-430' for glob 'nvidia*'\n",
            "Note, selecting 'nvidia-kernel-source-435' for glob 'nvidia*'\n",
            "Note, selecting 'nvidia-kernel-source-440' for glob 'nvidia*'\n",
            "Note, selecting 'nvidia-kernel-source-450' for glob 'nvidia*'\n",
            "Note, selecting 'nvidia-kernel-source-455' for glob 'nvidia*'\n",
            "Note, selecting 'nvidia-kernel-source-460' for glob 'nvidia*'\n",
            "Note, selecting 'nvidia-kernel-source-465' for glob 'nvidia*'\n",
            "Note, selecting 'nvidia-kernel-source-470' for glob 'nvidia*'\n",
            "Note, selecting 'nvidia-kernel-source-495' for glob 'nvidia*'\n",
            "Note, selecting 'nvidia-kernel-source-510' for glob 'nvidia*'\n",
            "Note, selecting 'nvidia-kernel-source-515' for glob 'nvidia*'\n",
            "Note, selecting 'nvidia-headless-525-open' for glob 'nvidia*'\n",
            "Note, selecting 'nvidia-kernel-source-535-server' for glob 'nvidia*'\n",
            "Note, selecting 'nvidia-kernel-source-520' for glob 'nvidia*'\n",
            "Note, selecting 'nvidia-kernel-source-525' for glob 'nvidia*'\n",
            "Note, selecting 'nvidia-kernel-source-530' for glob 'nvidia*'\n",
            "Note, selecting 'nvidia-kernel-source-535' for glob 'nvidia*'\n",
            "Note, selecting 'nvidia-kernel-source-545' for glob 'nvidia*'\n",
            "Note, selecting 'nvidia-kernel-source-550' for glob 'nvidia*'\n",
            "Note, selecting 'nvidia-headless-no-dkms-460-server' for glob 'nvidia*'\n",
            "Note, selecting 'nvidia-driver-520-open' for glob 'nvidia*'\n",
            "Note, selecting 'nvidia-firmware-535-server-535.129.03' for glob 'nvidia*'\n",
            "Note, selecting 'nvidia-firmware-535-535.104.05' for glob 'nvidia*'\n",
            "Note, selecting 'nvidia-firmware-535-535.104.12' for glob 'nvidia*'\n",
            "Note, selecting 'nvidia-dkms-535-server-open' for glob 'nvidia*'\n",
            "Note, selecting 'nvidia-384-dev' for glob 'nvidia*'\n",
            "Note, selecting 'nvidia-experimental-304' for glob 'nvidia*'\n",
            "Note, selecting 'nvidia-experimental-310' for glob 'nvidia*'\n",
            "Note, selecting 'nvidia-experimental-313' for glob 'nvidia*'\n",
            "Note, selecting 'nvidia-experimental-319' for glob 'nvidia*'\n",
            "Note, selecting 'nvidia-experimental-325' for glob 'nvidia*'\n",
            "Note, selecting 'nvidia-experimental-331' for glob 'nvidia*'\n",
            "Note, selecting 'nvidia-experimental-334' for glob 'nvidia*'\n",
            "Note, selecting 'nvidia-experimental-337' for glob 'nvidia*'\n",
            "Note, selecting 'nvidia-experimental-340' for glob 'nvidia*'\n",
            "Note, selecting 'nvidia-experimental-343' for glob 'nvidia*'\n",
            "Note, selecting 'nvidia-experimental-346' for glob 'nvidia*'\n",
            "Note, selecting 'nvidia-experimental-349' for glob 'nvidia*'\n",
            "Note, selecting 'nvidia-experimental-352' for glob 'nvidia*'\n",
            "Note, selecting 'nvidia-experimental-355' for glob 'nvidia*'\n",
            "Note, selecting 'nvidia-experimental-358' for glob 'nvidia*'\n",
            "Note, selecting 'nvidia-experimental-361' for glob 'nvidia*'\n",
            "Note, selecting 'nvidia-experimental-364' for glob 'nvidia*'\n",
            "Note, selecting 'nvidia-experimental-367' for glob 'nvidia*'\n",
            "Note, selecting 'nvidia-experimental-375' for glob 'nvidia*'\n",
            "Note, selecting 'nvidia-experimental-378' for glob 'nvidia*'\n",
            "Note, selecting 'nvidia-experimental-381' for glob 'nvidia*'\n",
            "Note, selecting 'nvidia-experimental-384' for glob 'nvidia*'\n",
            "Note, selecting 'nvidia-experimental-387' for glob 'nvidia*'\n",
            "Note, selecting 'nvidia-firmware-535-server-535.104.05' for glob 'nvidia*'\n",
            "Note, selecting 'nvidia-firmware-535-server-535.104.12' for glob 'nvidia*'\n",
            "Note, selecting 'nvidia-dkms-550-server' for glob 'nvidia*'\n",
            "Note, selecting 'nvidia-imex-550' for glob 'nvidia*'\n",
            "Note, selecting 'nvidia-331-updates' for glob 'nvidia*'\n",
            "Note, selecting 'nvidia-firmware-535-535.86.05' for glob 'nvidia*'\n",
            "Note, selecting 'nvidia-driver-535-open' for glob 'nvidia*'\n",
            "Note, selecting 'nvidia-kernel-source-525-open' for glob 'nvidia*'\n",
            "Note, selecting 'nvidia-337-updates' for glob 'nvidia*'\n",
            "Note, selecting 'nvidia-gds' for glob 'nvidia*'\n",
            "Note, selecting 'nvidia-firmware-535-server-535.54.03' for glob 'nvidia*'\n",
            "Note, selecting 'nvidia-compute-utils-418-server' for glob 'nvidia*'\n",
            "Note, selecting 'nvidia-fs-prebuilt' for glob 'nvidia*'\n",
            "Note, selecting 'nvidia-compute-utils-525-server' for glob 'nvidia*'\n",
            "Note, selecting 'nvidia-utils-450-server' for glob 'nvidia*'\n",
            "Note, selecting 'nvidia-headless-550-server' for glob 'nvidia*'\n",
            "Note, selecting 'nvidia-settings-binary' for glob 'nvidia*'\n",
            "Note, selecting 'nvidia-dkms-kernel' for glob 'nvidia*'\n",
            "Note, selecting 'nvidia-modprobe' for glob 'nvidia*'\n",
            "Note, selecting 'nvidia-utils-470-server' for glob 'nvidia*'\n",
            "Note, selecting 'nvidia-cg-dev' for glob 'nvidia*'\n",
            "Note, selecting 'nvidia-dkms-535-open' for glob 'nvidia*'\n",
            "Note, selecting 'nvidia-cg-doc' for glob 'nvidia*'\n",
            "Note, selecting 'nvidia-kernel-source' for glob 'nvidia*'\n",
            "Note, selecting 'nvidia-common' for glob 'nvidia*'\n",
            "Note, selecting 'nvidia-persistenced' for glob 'nvidia*'\n",
            "Note, selecting 'nvidia-headless-no-dkms-525-open' for glob 'nvidia*'\n",
            "Note, selecting 'nvidia-driver-binary' for glob 'nvidia*'\n",
            "Note, selecting 'nvidia-smi' for glob 'nvidia*'\n",
            "Note, selecting 'nvidia-driver-510-server' for glob 'nvidia*'\n",
            "Note, selecting 'nvidia-firmware-550-server-550.40.07' for glob 'nvidia*'\n",
            "Package 'nvidia-egl-wayland-common' is not installed, so not removed\n",
            "Note, selecting 'nvidia-settings' instead of 'nvidia-settings-binary'\n",
            "Package 'nvidia-390' is not installed, so not removed\n",
            "Note, selecting 'libnvtt-bin' instead of 'nvidia-texture-tools'\n",
            "Package 'nvidia-libopencl1-dev' is not installed, so not removed\n",
            "Package 'nvidia-current' is not installed, so not removed\n",
            "Package 'nvidia-current-updates' is not installed, so not removed\n",
            "Package 'nvidia-libopencl1' is not installed, so not removed\n",
            "Package 'nvidia' is not installed, so not removed\n",
            "Package 'nvidia-driver-410' is not installed, so not removed\n",
            "Package 'nvidia-387' is not installed, so not removed\n",
            "Package 'nvidia-387-updates' is not installed, so not removed\n",
            "Package 'nvidia-experimental-387' is not installed, so not removed\n",
            "Package 'nvidia-384-updates' is not installed, so not removed\n",
            "Package 'nvidia-experimental-384' is not installed, so not removed\n",
            "Package 'nvidia-381' is not installed, so not removed\n",
            "Package 'nvidia-381-updates' is not installed, so not removed\n",
            "Package 'nvidia-experimental-381' is not installed, so not removed\n",
            "Package 'nvidia-378' is not installed, so not removed\n",
            "Package 'nvidia-378-updates' is not installed, so not removed\n",
            "Package 'nvidia-experimental-378' is not installed, so not removed\n",
            "Package 'nvidia-375' is not installed, so not removed\n",
            "Package 'nvidia-375-updates' is not installed, so not removed\n",
            "Package 'nvidia-experimental-375' is not installed, so not removed\n",
            "Package 'nvidia-367' is not installed, so not removed\n",
            "Package 'nvidia-367-updates' is not installed, so not removed\n",
            "Package 'nvidia-experimental-367' is not installed, so not removed\n",
            "Package 'nvidia-364' is not installed, so not removed\n",
            "Package 'nvidia-364-updates' is not installed, so not removed\n",
            "Package 'nvidia-experimental-364' is not installed, so not removed\n",
            "Package 'nvidia-361' is not installed, so not removed\n",
            "Package 'nvidia-361-updates' is not installed, so not removed\n",
            "Package 'nvidia-experimental-361' is not installed, so not removed\n",
            "Package 'nvidia-358' is not installed, so not removed\n",
            "Package 'nvidia-358-updates' is not installed, so not removed\n",
            "Package 'nvidia-experimental-358' is not installed, so not removed\n",
            "Package 'nvidia-355' is not installed, so not removed\n",
            "Package 'nvidia-355-updates' is not installed, so not removed\n",
            "Package 'nvidia-experimental-355' is not installed, so not removed\n",
            "Package 'nvidia-352' is not installed, so not removed\n",
            "Package 'nvidia-352-updates' is not installed, so not removed\n",
            "Package 'nvidia-experimental-352' is not installed, so not removed\n",
            "Package 'nvidia-349' is not installed, so not removed\n",
            "Package 'nvidia-349-updates' is not installed, so not removed\n",
            "Package 'nvidia-experimental-349' is not installed, so not removed\n",
            "Package 'nvidia-346' is not installed, so not removed\n",
            "Package 'nvidia-346-updates' is not installed, so not removed\n",
            "Package 'nvidia-experimental-346' is not installed, so not removed\n",
            "Package 'nvidia-343' is not installed, so not removed\n",
            "Package 'nvidia-343-updates' is not installed, so not removed\n",
            "Package 'nvidia-experimental-343' is not installed, so not removed\n",
            "Package 'nvidia-340-updates' is not installed, so not removed\n",
            "Package 'nvidia-experimental-340' is not installed, so not removed\n",
            "Package 'nvidia-337' is not installed, so not removed\n",
            "Package 'nvidia-337-updates' is not installed, so not removed\n",
            "Package 'nvidia-experimental-337' is not installed, so not removed\n",
            "Package 'nvidia-334' is not installed, so not removed\n",
            "Package 'nvidia-334-updates' is not installed, so not removed\n",
            "Package 'nvidia-experimental-334' is not installed, so not removed\n",
            "Package 'nvidia-331' is not installed, so not removed\n",
            "Package 'nvidia-331-updates' is not installed, so not removed\n",
            "Package 'nvidia-experimental-331' is not installed, so not removed\n",
            "Package 'nvidia-325' is not installed, so not removed\n",
            "Package 'nvidia-325-updates' is not installed, so not removed\n",
            "Package 'nvidia-experimental-325' is not installed, so not removed\n",
            "Package 'nvidia-319' is not installed, so not removed\n",
            "Package 'nvidia-319-updates' is not installed, so not removed\n",
            "Package 'nvidia-experimental-319' is not installed, so not removed\n",
            "Package 'nvidia-313' is not installed, so not removed\n",
            "Package 'nvidia-313-updates' is not installed, so not removed\n",
            "Package 'nvidia-experimental-313' is not installed, so not removed\n",
            "Package 'nvidia-310' is not installed, so not removed\n",
            "Package 'nvidia-310-updates' is not installed, so not removed\n",
            "Package 'nvidia-experimental-310' is not installed, so not removed\n",
            "Package 'nvidia-304' is not installed, so not removed\n",
            "Package 'nvidia-304-updates' is not installed, so not removed\n",
            "Package 'nvidia-experimental-304' is not installed, so not removed\n",
            "Package 'nvidia-legacy-390xx-opencl-icd' is not installed, so not removed\n",
            "Package 'nvidia-legacy-390xx-smi' is not installed, so not removed\n",
            "Package 'nvidia-cuda-doc' is not installed, so not removed\n",
            "Package 'nvidia-firmware-535-server-535.113.01' is not installed, so not removed\n",
            "Package 'nvidia-firmware-535-server-535.146.02' is not installed, so not removed\n",
            "Package 'nvidia-firmware-535-server-535.171.04' is not installed, so not removed\n",
            "Package 'nvidia-firmware-535-535.104.12' is not installed, so not removed\n",
            "Package 'nvidia-firmware-535-535.161.08' is not installed, so not removed\n",
            "Package 'nvidia-firmware-545-server-545.29.06' is not installed, so not removed\n",
            "Package 'nvidia-firmware-550-server-550.67' is not installed, so not removed\n",
            "Note, selecting 'nvidia-imex-550' instead of 'nvidia-imex'\n",
            "Package 'nvidia-fs-prebuilt' is not installed, so not removed\n",
            "Package 'nvidia-kernel-common-396' is not installed, so not removed\n",
            "Package 'nvidia-kernel-dkms' is not installed, so not removed\n",
            "Package 'nvidia-container-runtime-hook' is not installed, so not removed\n",
            "Package 'nvidia-docker' is not installed, so not removed\n",
            "Package 'nvidia-firmware-545-server-545.29.02' is not installed, so not removed\n",
            "Package 'nvidia-firmware-550-server-550.40.07' is not installed, so not removed\n",
            "Package 'nvidia-firmware-550-server-550.78' is not installed, so not removed\n",
            "Note, selecting 'libnvidia-egl-gbm1' for glob 'libnvidia-*'\n",
            "Note, selecting 'libnvidia-compute-440-server' for glob 'libnvidia-*'\n",
            "Note, selecting 'libnvidia-common-390' for glob 'libnvidia-*'\n",
            "Note, selecting 'libnvidia-common-418' for glob 'libnvidia-*'\n",
            "Note, selecting 'libnvidia-common-430' for glob 'libnvidia-*'\n",
            "Note, selecting 'libnvidia-common-435' for glob 'libnvidia-*'\n",
            "Note, selecting 'libnvidia-common-440' for glob 'libnvidia-*'\n",
            "Note, selecting 'libnvidia-common-450' for glob 'libnvidia-*'\n",
            "Note, selecting 'libnvidia-common-455' for glob 'libnvidia-*'\n",
            "Note, selecting 'libnvidia-common-460' for glob 'libnvidia-*'\n",
            "Note, selecting 'libnvidia-common-465' for glob 'libnvidia-*'\n",
            "Note, selecting 'libnvidia-common-470' for glob 'libnvidia-*'\n",
            "Note, selecting 'libnvidia-common-495' for glob 'libnvidia-*'\n",
            "Note, selecting 'libnvidia-gl-510-server' for glob 'libnvidia-*'\n",
            "Note, selecting 'libnvidia-common-510' for glob 'libnvidia-*'\n",
            "Note, selecting 'libnvidia-common-515' for glob 'libnvidia-*'\n",
            "Note, selecting 'libnvidia-common-520' for glob 'libnvidia-*'\n",
            "Note, selecting 'libnvidia-fbc1-390' for glob 'libnvidia-*'\n",
            "Note, selecting 'libnvidia-common-525' for glob 'libnvidia-*'\n",
            "Note, selecting 'libnvidia-common-530' for glob 'libnvidia-*'\n",
            "Note, selecting 'libnvidia-common-535' for glob 'libnvidia-*'\n",
            "Note, selecting 'libnvidia-common-545' for glob 'libnvidia-*'\n",
            "Note, selecting 'libnvidia-common-550' for glob 'libnvidia-*'\n",
            "Note, selecting 'libnvidia-fbc1-418' for glob 'libnvidia-*'\n",
            "Note, selecting 'libnvidia-fbc1-430' for glob 'libnvidia-*'\n",
            "Note, selecting 'libnvidia-fbc1-435' for glob 'libnvidia-*'\n",
            "Note, selecting 'libnvidia-fbc1-440' for glob 'libnvidia-*'\n",
            "Note, selecting 'libnvidia-fbc1-450' for glob 'libnvidia-*'\n",
            "Note, selecting 'libnvidia-fbc1-455' for glob 'libnvidia-*'\n",
            "Note, selecting 'libnvidia-fbc1-460' for glob 'libnvidia-*'\n",
            "Note, selecting 'libnvidia-fbc1-465' for glob 'libnvidia-*'\n",
            "Note, selecting 'libnvidia-fbc1-470' for glob 'libnvidia-*'\n",
            "Note, selecting 'libnvidia-fbc1-495' for glob 'libnvidia-*'\n",
            "Note, selecting 'libnvidia-fbc1-510' for glob 'libnvidia-*'\n",
            "Note, selecting 'libnvidia-fbc1-515' for glob 'libnvidia-*'\n",
            "Note, selecting 'libnvidia-fbc1-520' for glob 'libnvidia-*'\n",
            "Note, selecting 'libnvidia-fbc1-525' for glob 'libnvidia-*'\n",
            "Note, selecting 'libnvidia-fbc1-530' for glob 'libnvidia-*'\n",
            "Note, selecting 'libnvidia-fbc1-535' for glob 'libnvidia-*'\n",
            "Note, selecting 'libnvidia-fbc1-545' for glob 'libnvidia-*'\n",
            "Note, selecting 'libnvidia-fbc1-550' for glob 'libnvidia-*'\n",
            "Note, selecting 'libnvidia-extra-525-server' for glob 'libnvidia-*'\n",
            "Note, selecting 'libnvidia-gl-550-server' for glob 'libnvidia-*'\n",
            "Note, selecting 'libnvidia-gl-390' for glob 'libnvidia-*'\n",
            "Note, selecting 'libnvidia-gl-410' for glob 'libnvidia-*'\n",
            "Note, selecting 'libnvidia-gl-418' for glob 'libnvidia-*'\n",
            "Note, selecting 'libnvidia-gl-430' for glob 'libnvidia-*'\n",
            "Note, selecting 'libnvidia-gl-435' for glob 'libnvidia-*'\n",
            "Note, selecting 'libnvidia-gl-440' for glob 'libnvidia-*'\n",
            "Note, selecting 'libnvidia-gl-450' for glob 'libnvidia-*'\n",
            "Note, selecting 'libnvidia-gl-455' for glob 'libnvidia-*'\n",
            "Note, selecting 'libnvidia-gl-460' for glob 'libnvidia-*'\n",
            "Note, selecting 'libnvidia-gl-465' for glob 'libnvidia-*'\n",
            "Note, selecting 'libnvidia-gl-470' for glob 'libnvidia-*'\n",
            "Note, selecting 'libnvidia-gl-495' for glob 'libnvidia-*'\n",
            "Note, selecting 'libnvidia-gl-510' for glob 'libnvidia-*'\n",
            "Note, selecting 'libnvidia-gl-515' for glob 'libnvidia-*'\n",
            "Note, selecting 'libnvidia-gl-520' for glob 'libnvidia-*'\n",
            "Note, selecting 'libnvidia-gl-525' for glob 'libnvidia-*'\n",
            "Note, selecting 'libnvidia-gl-530' for glob 'libnvidia-*'\n",
            "Note, selecting 'libnvidia-gl-535' for glob 'libnvidia-*'\n",
            "Note, selecting 'libnvidia-gl-545' for glob 'libnvidia-*'\n",
            "Note, selecting 'libnvidia-gl-550' for glob 'libnvidia-*'\n",
            "Note, selecting 'libnvidia-cfg1-any' for glob 'libnvidia-*'\n",
            "Note, selecting 'libnvidia-common-450-server' for glob 'libnvidia-*'\n",
            "Note, selecting 'libnvidia-tesla-cuda1' for glob 'libnvidia-*'\n",
            "Note, selecting 'libnvidia-common-470-server' for glob 'libnvidia-*'\n",
            "Note, selecting 'libnvidia-gl-440-server' for glob 'libnvidia-*'\n",
            "Note, selecting 'libnvidia-extra-440' for glob 'libnvidia-*'\n",
            "Note, selecting 'libnvidia-extra-450' for glob 'libnvidia-*'\n",
            "Note, selecting 'libnvidia-extra-455' for glob 'libnvidia-*'\n",
            "Note, selecting 'libnvidia-extra-460' for glob 'libnvidia-*'\n",
            "Note, selecting 'libnvidia-extra-465' for glob 'libnvidia-*'\n",
            "Note, selecting 'libnvidia-extra-470' for glob 'libnvidia-*'\n",
            "Note, selecting 'libnvidia-extra-495' for glob 'libnvidia-*'\n",
            "Note, selecting 'libnvidia-gl-460-server' for glob 'libnvidia-*'\n",
            "Note, selecting 'libnvidia-extra-510' for glob 'libnvidia-*'\n",
            "Note, selecting 'libnvidia-extra-515' for glob 'libnvidia-*'\n",
            "Note, selecting 'libnvidia-extra-520' for glob 'libnvidia-*'\n",
            "Note, selecting 'libnvidia-extra-525' for glob 'libnvidia-*'\n",
            "Note, selecting 'libnvidia-extra-530' for glob 'libnvidia-*'\n",
            "Note, selecting 'libnvidia-extra-535' for glob 'libnvidia-*'\n",
            "Note, selecting 'libnvidia-extra-545' for glob 'libnvidia-*'\n",
            "Note, selecting 'libnvidia-extra-550' for glob 'libnvidia-*'\n",
            "Note, selecting 'libnvidia-legacy-390xx-egl-wayland1' for glob 'libnvidia-*'\n",
            "Note, selecting 'libnvidia-common-510-server' for glob 'libnvidia-*'\n",
            "Note, selecting 'libnvidia-fbc1' for glob 'libnvidia-*'\n",
            "Note, selecting 'libnvidia-encode-515-server' for glob 'libnvidia-*'\n",
            "Note, selecting 'libnvidia-encode-535-server' for glob 'libnvidia-*'\n",
            "Note, selecting 'libnvidia-container1' for glob 'libnvidia-*'\n",
            "Note, selecting 'libnvidia-common-440-server' for glob 'libnvidia-*'\n",
            "Note, selecting 'libnvidia-decode-550-server' for glob 'libnvidia-*'\n",
            "Note, selecting 'libnvidia-container1-dbg' for glob 'libnvidia-*'\n",
            "Note, selecting 'libnvidia-common-460-server' for glob 'libnvidia-*'\n",
            "Note, selecting 'libnvidia-encode-390' for glob 'libnvidia-*'\n",
            "Note, selecting 'libnvidia-container-dev' for glob 'libnvidia-*'\n",
            "Note, selecting 'libnvidia-encode-418' for glob 'libnvidia-*'\n",
            "Note, selecting 'libnvidia-encode-430' for glob 'libnvidia-*'\n",
            "Note, selecting 'libnvidia-encode-435' for glob 'libnvidia-*'\n",
            "Note, selecting 'libnvidia-encode-440' for glob 'libnvidia-*'\n",
            "Note, selecting 'libnvidia-encode-450' for glob 'libnvidia-*'\n",
            "Note, selecting 'libnvidia-encode-455' for glob 'libnvidia-*'\n",
            "Note, selecting 'libnvidia-encode-460' for glob 'libnvidia-*'\n",
            "Note, selecting 'libnvidia-encode-465' for glob 'libnvidia-*'\n",
            "Note, selecting 'libnvidia-encode-470' for glob 'libnvidia-*'\n",
            "Note, selecting 'libnvidia-encode-495' for glob 'libnvidia-*'\n",
            "Note, selecting 'libnvidia-encode-510' for glob 'libnvidia-*'\n",
            "Note, selecting 'libnvidia-encode-515' for glob 'libnvidia-*'\n",
            "Note, selecting 'libnvidia-encode-520' for glob 'libnvidia-*'\n",
            "Note, selecting 'libnvidia-encode-525' for glob 'libnvidia-*'\n",
            "Note, selecting 'libnvidia-encode-530' for glob 'libnvidia-*'\n",
            "Note, selecting 'libnvidia-encode-535' for glob 'libnvidia-*'\n",
            "Note, selecting 'libnvidia-encode-545' for glob 'libnvidia-*'\n",
            "Note, selecting 'libnvidia-encode-550' for glob 'libnvidia-*'\n",
            "Note, selecting 'libnvidia-gl-450-server' for glob 'libnvidia-*'\n",
            "Note, selecting 'libnvidia-gl-470-server' for glob 'libnvidia-*'\n",
            "Note, selecting 'libnvidia-encode' for glob 'libnvidia-*'\n",
            "Note, selecting 'libnvidia-compute-525-server' for glob 'libnvidia-*'\n",
            "Note, selecting 'libnvidia-cfg1-510-server' for glob 'libnvidia-*'\n",
            "Note, selecting 'libnvidia-ifr1-390' for glob 'libnvidia-*'\n",
            "Note, selecting 'libnvidia-ifr1-418' for glob 'libnvidia-*'\n",
            "Note, selecting 'libnvidia-ifr1-430' for glob 'libnvidia-*'\n",
            "Note, selecting 'libnvidia-ifr1-435' for glob 'libnvidia-*'\n",
            "Note, selecting 'libnvidia-ifr1-440' for glob 'libnvidia-*'\n",
            "Note, selecting 'libnvidia-ifr1-450' for glob 'libnvidia-*'\n",
            "Note, selecting 'libnvidia-ifr1-455' for glob 'libnvidia-*'\n",
            "Note, selecting 'libnvidia-ifr1-460' for glob 'libnvidia-*'\n",
            "Note, selecting 'libnvidia-ifr1-465' for glob 'libnvidia-*'\n",
            "Note, selecting 'libnvidia-ifr1-470' for glob 'libnvidia-*'\n",
            "Note, selecting 'libnvidia-fbc1-550-server' for glob 'libnvidia-*'\n",
            "Note, selecting 'libnvidia-ifr1-418-server' for glob 'libnvidia-*'\n",
            "Note, selecting 'libnvidia-cfg1-550-server' for glob 'libnvidia-*'\n",
            "Note, selecting 'libnvidia-encode-418-server' for glob 'libnvidia-*'\n",
            "Note, selecting 'libnvidia-encode-525-server' for glob 'libnvidia-*'\n",
            "Note, selecting 'libnvidia-cfg1-440-server' for glob 'libnvidia-*'\n",
            "Note, selecting 'libnvidia-cfg1-460-server' for glob 'libnvidia-*'\n",
            "Note, selecting 'libnvidia-compute-495-server' for glob 'libnvidia-*'\n",
            "Note, selecting 'libnvidia-decode-450-server' for glob 'libnvidia-*'\n",
            "Note, selecting 'libnvidia-compute-515-server' for glob 'libnvidia-*'\n",
            "Note, selecting 'libnvidia-decode-470-server' for glob 'libnvidia-*'\n",
            "Note, selecting 'libnvidia-compute-535-server' for glob 'libnvidia-*'\n",
            "Note, selecting 'libnvidia-extra-550-server' for glob 'libnvidia-*'\n",
            "Note, selecting 'libnvidia-nscq-450' for glob 'libnvidia-*'\n",
            "Note, selecting 'libnvidia-nscq-460' for glob 'libnvidia-*'\n",
            "Note, selecting 'libnvidia-nscq-470' for glob 'libnvidia-*'\n",
            "Note, selecting 'libnvidia-nscq-510' for glob 'libnvidia-*'\n",
            "Note, selecting 'libnvidia-nscq-515' for glob 'libnvidia-*'\n",
            "Note, selecting 'libnvidia-nscq-520' for glob 'libnvidia-*'\n",
            "Note, selecting 'libnvidia-nscq-525' for glob 'libnvidia-*'\n",
            "Note, selecting 'libnvidia-nscq-530' for glob 'libnvidia-*'\n",
            "Note, selecting 'libnvidia-nscq-535' for glob 'libnvidia-*'\n",
            "Note, selecting 'libnvidia-nscq-545' for glob 'libnvidia-*'\n",
            "Note, selecting 'libnvidia-nscq-550' for glob 'libnvidia-*'\n",
            "Note, selecting 'libnvidia-decode-510-server' for glob 'libnvidia-*'\n",
            "Note, selecting 'libnvidia-decode-390' for glob 'libnvidia-*'\n",
            "Note, selecting 'libnvidia-fbc1-450-server' for glob 'libnvidia-*'\n",
            "Note, selecting 'libnvidia-gl-515-server' for glob 'libnvidia-*'\n",
            "Note, selecting 'libnvidia-decode-418' for glob 'libnvidia-*'\n",
            "Note, selecting 'libnvidia-decode-430' for glob 'libnvidia-*'\n",
            "Note, selecting 'libnvidia-decode-435' for glob 'libnvidia-*'\n",
            "Note, selecting 'libnvidia-decode-440' for glob 'libnvidia-*'\n",
            "Note, selecting 'libnvidia-decode-450' for glob 'libnvidia-*'\n",
            "Note, selecting 'libnvidia-decode-455' for glob 'libnvidia-*'\n",
            "Note, selecting 'libnvidia-decode-460' for glob 'libnvidia-*'\n",
            "Note, selecting 'libnvidia-decode-465' for glob 'libnvidia-*'\n",
            "Note, selecting 'libnvidia-decode-470' for glob 'libnvidia-*'\n",
            "Note, selecting 'libnvidia-decode-495' for glob 'libnvidia-*'\n",
            "Note, selecting 'libnvidia-cfg1-450-server' for glob 'libnvidia-*'\n",
            "Note, selecting 'libnvidia-decode-510' for glob 'libnvidia-*'\n",
            "Note, selecting 'libnvidia-decode-515' for glob 'libnvidia-*'\n",
            "Note, selecting 'libnvidia-decode-520' for glob 'libnvidia-*'\n",
            "Note, selecting 'libnvidia-decode-525' for glob 'libnvidia-*'\n",
            "Note, selecting 'libnvidia-decode-530' for glob 'libnvidia-*'\n",
            "Note, selecting 'libnvidia-decode-535' for glob 'libnvidia-*'\n",
            "Note, selecting 'libnvidia-decode-545' for glob 'libnvidia-*'\n",
            "Note, selecting 'libnvidia-decode-550' for glob 'libnvidia-*'\n",
            "Note, selecting 'libnvidia-fbc1-470-server' for glob 'libnvidia-*'\n",
            "Note, selecting 'libnvidia-gl-535-server' for glob 'libnvidia-*'\n",
            "Note, selecting 'libnvidia-cfg1-470-server' for glob 'libnvidia-*'\n",
            "Note, selecting 'libnvidia-egl-wayland1' for glob 'libnvidia-*'\n",
            "Note, selecting 'libnvidia-ml1' for glob 'libnvidia-*'\n",
            "Note, selecting 'libnvidia-encode1' for glob 'libnvidia-*'\n",
            "Note, selecting 'libnvidia-decode-440-server' for glob 'libnvidia-*'\n",
            "Note, selecting 'libnvidia-compute-418-server' for glob 'libnvidia-*'\n",
            "Note, selecting 'libnvidia-decode-460-server' for glob 'libnvidia-*'\n",
            "Note, selecting 'libnvidia-fbc1-510-server' for glob 'libnvidia-*'\n",
            "Note, selecting 'libnvidia-extra' for glob 'libnvidia-*'\n",
            "Note, selecting 'libnvidia-common-515-server' for glob 'libnvidia-*'\n",
            "Note, selecting 'libnvidia-extra-450-server' for glob 'libnvidia-*'\n",
            "Note, selecting 'libnvidia-common-535-server' for glob 'libnvidia-*'\n",
            "Note, selecting 'libnvidia-fbc1-440-server' for glob 'libnvidia-*'\n",
            "Note, selecting 'libnvidia-extra-470-server' for glob 'libnvidia-*'\n",
            "Note, selecting 'libnvidia-gl-418-server' for glob 'libnvidia-*'\n",
            "Note, selecting 'libnvidia-fbc1-460-server' for glob 'libnvidia-*'\n",
            "Note, selecting 'libnvidia-gl-525-server' for glob 'libnvidia-*'\n",
            "Note, selecting 'libnvidia-extra-510-server' for glob 'libnvidia-*'\n",
            "Note, selecting 'libnvidia-encode-550-server' for glob 'libnvidia-*'\n",
            "Note, selecting 'libnvidia-common-418-server' for glob 'libnvidia-*'\n",
            "Note, selecting 'libnvidia-extra-440-server' for glob 'libnvidia-*'\n",
            "Note, selecting 'libnvidia-cfg1-515-server' for glob 'libnvidia-*'\n",
            "Note, selecting 'libnvidia-common-525-server' for glob 'libnvidia-*'\n",
            "Note, selecting 'libnvidia-ml-dev' for glob 'libnvidia-*'\n",
            "Note, selecting 'libnvidia-extra-460-server' for glob 'libnvidia-*'\n",
            "Note, selecting 'libnvidia-cfg1-535-server' for glob 'libnvidia-*'\n",
            "Note, selecting 'libnvidia-nscq' for glob 'libnvidia-*'\n",
            "Note, selecting 'libnvidia-container-tools' for glob 'libnvidia-*'\n",
            "Note, selecting 'libnvidia-ifr1' for glob 'libnvidia-*'\n",
            "Note, selecting 'libnvidia-cfg1-418-server' for glob 'libnvidia-*'\n",
            "Note, selecting 'libnvidia-cfg1-525-server' for glob 'libnvidia-*'\n",
            "Note, selecting 'libnvidia-ml.so.1' for glob 'libnvidia-*'\n",
            "Note, selecting 'libnvidia-compute-510-server' for glob 'libnvidia-*'\n",
            "Note, selecting 'libnvidia-encode-450-server' for glob 'libnvidia-*'\n",
            "Note, selecting 'libnvidia-encode-470-server' for glob 'libnvidia-*'\n",
            "Note, selecting 'libnvidia-compute-550-server' for glob 'libnvidia-*'\n",
            "Note, selecting 'libnvidia-decode-515-server' for glob 'libnvidia-*'\n",
            "Note, selecting 'libnvidia-decode-535-server' for glob 'libnvidia-*'\n",
            "Note, selecting 'libnvidia-encode-510-server' for glob 'libnvidia-*'\n",
            "Note, selecting 'libnvidia-gl' for glob 'libnvidia-*'\n",
            "Note, selecting 'libnvidia-cfg1-390' for glob 'libnvidia-*'\n",
            "Note, selecting 'libnvidia-egl-wayland-dev' for glob 'libnvidia-*'\n",
            "Note, selecting 'libnvidia-cfg1-418' for glob 'libnvidia-*'\n",
            "Note, selecting 'libnvidia-cfg1-430' for glob 'libnvidia-*'\n",
            "Note, selecting 'libnvidia-cfg1-435' for glob 'libnvidia-*'\n",
            "Note, selecting 'libnvidia-cfg1-440' for glob 'libnvidia-*'\n",
            "Note, selecting 'libnvidia-cfg1-450' for glob 'libnvidia-*'\n",
            "Note, selecting 'libnvidia-cfg1-455' for glob 'libnvidia-*'\n",
            "Note, selecting 'libnvidia-cfg1-460' for glob 'libnvidia-*'\n",
            "Note, selecting 'libnvidia-cfg1-465' for glob 'libnvidia-*'\n",
            "Note, selecting 'libnvidia-cfg1-470' for glob 'libnvidia-*'\n",
            "Note, selecting 'libnvidia-cfg1-495' for glob 'libnvidia-*'\n",
            "Note, selecting 'libnvidia-compute-460-server' for glob 'libnvidia-*'\n",
            "Note, selecting 'libnvidia-cfg1-510' for glob 'libnvidia-*'\n",
            "Note, selecting 'libnvidia-cfg1-515' for glob 'libnvidia-*'\n",
            "Note, selecting 'libnvidia-cfg1-520' for glob 'libnvidia-*'\n",
            "Note, selecting 'libnvidia-cfg1-525' for glob 'libnvidia-*'\n",
            "Note, selecting 'libnvidia-cfg1-530' for glob 'libnvidia-*'\n",
            "Note, selecting 'libnvidia-cfg1-535' for glob 'libnvidia-*'\n",
            "Note, selecting 'libnvidia-cfg1-545' for glob 'libnvidia-*'\n",
            "Note, selecting 'libnvidia-cfg1-550' for glob 'libnvidia-*'\n",
            "Note, selecting 'libnvidia-ifr1-440-server' for glob 'libnvidia-*'\n",
            "Note, selecting 'libnvidia-fbc1-515-server' for glob 'libnvidia-*'\n",
            "Note, selecting 'libnvidia-ifr1-460-server' for glob 'libnvidia-*'\n",
            "Note, selecting 'libnvidia-fbc1-535-server' for glob 'libnvidia-*'\n",
            "Note, selecting 'libnvidia-encode-440-server' for glob 'libnvidia-*'\n",
            "Note, selecting 'libnvidia-compute-390' for glob 'libnvidia-*'\n",
            "Note, selecting 'libnvidia-compute-418' for glob 'libnvidia-*'\n",
            "Note, selecting 'libnvidia-compute-430' for glob 'libnvidia-*'\n",
            "Note, selecting 'libnvidia-compute-435' for glob 'libnvidia-*'\n",
            "Note, selecting 'libnvidia-compute-440' for glob 'libnvidia-*'\n",
            "Note, selecting 'libnvidia-compute-450' for glob 'libnvidia-*'\n",
            "Note, selecting 'libnvidia-compute-455' for glob 'libnvidia-*'\n",
            "Note, selecting 'libnvidia-compute-460' for glob 'libnvidia-*'\n",
            "Note, selecting 'libnvidia-compute-465' for glob 'libnvidia-*'\n",
            "Note, selecting 'libnvidia-compute-470' for glob 'libnvidia-*'\n",
            "Note, selecting 'libnvidia-compute-495' for glob 'libnvidia-*'\n",
            "Note, selecting 'libnvidia-encode-460-server' for glob 'libnvidia-*'\n",
            "Note, selecting 'libnvidia-compute-510' for glob 'libnvidia-*'\n",
            "Note, selecting 'libnvidia-compute-515' for glob 'libnvidia-*'\n",
            "Note, selecting 'libnvidia-compute-520' for glob 'libnvidia-*'\n",
            "Note, selecting 'libnvidia-compute-525' for glob 'libnvidia-*'\n",
            "Note, selecting 'libnvidia-compute-530' for glob 'libnvidia-*'\n",
            "Note, selecting 'libnvidia-compute-535' for glob 'libnvidia-*'\n",
            "Note, selecting 'libnvidia-compute-545' for glob 'libnvidia-*'\n",
            "Note, selecting 'libnvidia-compute-550' for glob 'libnvidia-*'\n",
            "Note, selecting 'libnvidia-decode-418-server' for glob 'libnvidia-*'\n",
            "Note, selecting 'libnvidia-decode-525-server' for glob 'libnvidia-*'\n",
            "Note, selecting 'libnvidia-decode' for glob 'libnvidia-*'\n",
            "Note, selecting 'libnvidia-compute-450-server' for glob 'libnvidia-*'\n",
            "Note, selecting 'libnvidia-common-550-server' for glob 'libnvidia-*'\n",
            "Note, selecting 'libnvidia-compute' for glob 'libnvidia-*'\n",
            "Note, selecting 'libnvidia-compute-470-server' for glob 'libnvidia-*'\n",
            "Note, selecting 'libnvidia-extra-515-server' for glob 'libnvidia-*'\n",
            "Note, selecting 'libnvidia-ifr1-450-server' for glob 'libnvidia-*'\n",
            "Note, selecting 'libnvidia-extra-535-server' for glob 'libnvidia-*'\n",
            "Note, selecting 'libnvidia-fbc1-418-server' for glob 'libnvidia-*'\n",
            "Note, selecting 'libnvidia-fbc1-525-server' for glob 'libnvidia-*'\n",
            "Note, selecting 'libnvidia-ifr1-470-server' for glob 'libnvidia-*'\n",
            "Note, selecting 'libnvidia-common' for glob 'libnvidia-*'\n",
            "Package 'libnvidia-gl-410' is not installed, so not removed\n",
            "Package 'libnvidia-legacy-390xx-egl-wayland1' is not installed, so not removed\n",
            "Package 'libnvidia-encode1' is not installed, so not removed\n",
            "Package 'libnvidia-tesla-cuda1' is not installed, so not removed\n",
            "Package 'libnvidia-compute-495-server' is not installed, so not removed\n",
            "Package 'libnvidia-egl-wayland-dev' is not installed, so not removed\n",
            "Package 'libnvidia-egl-wayland1' is not installed, so not removed\n",
            "Package 'nvidia-prime' is not installed, so not removed\n",
            "Package 'libnvidia-cfg1-418' is not installed, so not removed\n",
            "Package 'libnvidia-cfg1-435' is not installed, so not removed\n",
            "Package 'libnvidia-cfg1-440' is not installed, so not removed\n",
            "Package 'libnvidia-cfg1-450' is not installed, so not removed\n",
            "Package 'libnvidia-cfg1-455' is not installed, so not removed\n",
            "Package 'libnvidia-common-418' is not installed, so not removed\n",
            "Package 'libnvidia-common-435' is not installed, so not removed\n",
            "Package 'libnvidia-common-440' is not installed, so not removed\n",
            "Package 'libnvidia-common-450' is not installed, so not removed\n",
            "Package 'libnvidia-common-455' is not installed, so not removed\n",
            "Package 'libnvidia-compute-418' is not installed, so not removed\n",
            "Package 'libnvidia-compute-435' is not installed, so not removed\n",
            "Package 'libnvidia-compute-440' is not installed, so not removed\n",
            "Package 'libnvidia-compute-450' is not installed, so not removed\n",
            "Package 'libnvidia-compute-455' is not installed, so not removed\n",
            "Package 'libnvidia-decode-418' is not installed, so not removed\n",
            "Package 'libnvidia-decode-435' is not installed, so not removed\n",
            "Package 'libnvidia-decode-440' is not installed, so not removed\n",
            "Package 'libnvidia-decode-450' is not installed, so not removed\n",
            "Package 'libnvidia-decode-455' is not installed, so not removed\n",
            "Package 'libnvidia-encode-418' is not installed, so not removed\n",
            "Package 'libnvidia-encode-435' is not installed, so not removed\n",
            "Package 'libnvidia-encode-440' is not installed, so not removed\n",
            "Package 'libnvidia-encode-450' is not installed, so not removed\n",
            "Package 'libnvidia-encode-455' is not installed, so not removed\n",
            "Package 'libnvidia-extra-440' is not installed, so not removed\n",
            "Package 'libnvidia-extra-450' is not installed, so not removed\n",
            "Package 'libnvidia-extra-455' is not installed, so not removed\n",
            "Package 'libnvidia-fbc1-418' is not installed, so not removed\n",
            "Package 'libnvidia-fbc1-435' is not installed, so not removed\n",
            "Package 'libnvidia-fbc1-440' is not installed, so not removed\n",
            "Package 'libnvidia-fbc1-450' is not installed, so not removed\n",
            "Package 'libnvidia-fbc1-455' is not installed, so not removed\n",
            "Package 'libnvidia-gl-418' is not installed, so not removed\n",
            "Package 'libnvidia-gl-435' is not installed, so not removed\n",
            "Package 'libnvidia-gl-440' is not installed, so not removed\n",
            "Package 'libnvidia-gl-450' is not installed, so not removed\n",
            "Package 'libnvidia-gl-455' is not installed, so not removed\n",
            "Package 'libnvidia-ifr1-418' is not installed, so not removed\n",
            "Package 'libnvidia-ifr1-430' is not installed, so not removed\n",
            "Package 'libnvidia-ifr1-435' is not installed, so not removed\n",
            "Package 'libnvidia-ifr1-440' is not installed, so not removed\n",
            "Package 'libnvidia-ifr1-450' is not installed, so not removed\n",
            "Package 'libnvidia-ifr1-455' is not installed, so not removed\n",
            "Package 'nvidia-340' is not installed, so not removed\n",
            "Package 'nvidia-340-dev' is not installed, so not removed\n",
            "Package 'nvidia-340-uvm' is not installed, so not removed\n",
            "Package 'nvidia-compute-utils-418' is not installed, so not removed\n",
            "Package 'nvidia-compute-utils-435' is not installed, so not removed\n",
            "Package 'nvidia-compute-utils-440' is not installed, so not removed\n",
            "Package 'nvidia-compute-utils-450' is not installed, so not removed\n",
            "Package 'nvidia-compute-utils-455' is not installed, so not removed\n",
            "Package 'nvidia-dkms-418' is not installed, so not removed\n",
            "Package 'nvidia-dkms-435' is not installed, so not removed\n",
            "Package 'nvidia-dkms-440' is not installed, so not removed\n",
            "Package 'nvidia-dkms-450' is not installed, so not removed\n",
            "Package 'nvidia-dkms-455' is not installed, so not removed\n",
            "Package 'nvidia-driver-418' is not installed, so not removed\n",
            "Package 'nvidia-driver-435' is not installed, so not removed\n",
            "Package 'nvidia-driver-440' is not installed, so not removed\n",
            "Package 'nvidia-driver-450' is not installed, so not removed\n",
            "Package 'nvidia-driver-455' is not installed, so not removed\n",
            "Package 'nvidia-headless-418' is not installed, so not removed\n",
            "Package 'nvidia-headless-435' is not installed, so not removed\n",
            "Package 'nvidia-headless-440' is not installed, so not removed\n",
            "Package 'nvidia-headless-450' is not installed, so not removed\n",
            "Package 'nvidia-headless-455' is not installed, so not removed\n",
            "Package 'nvidia-headless-no-dkms-418' is not installed, so not removed\n",
            "Package 'nvidia-headless-no-dkms-435' is not installed, so not removed\n",
            "Package 'nvidia-headless-no-dkms-440' is not installed, so not removed\n",
            "Package 'nvidia-headless-no-dkms-450' is not installed, so not removed\n",
            "Package 'nvidia-headless-no-dkms-455' is not installed, so not removed\n",
            "Package 'nvidia-kernel-common-418' is not installed, so not removed\n",
            "Package 'nvidia-kernel-common-435' is not installed, so not removed\n",
            "Package 'nvidia-kernel-common-440' is not installed, so not removed\n",
            "Package 'nvidia-kernel-common-450' is not installed, so not removed\n",
            "Package 'nvidia-kernel-common-455' is not installed, so not removed\n",
            "Package 'nvidia-kernel-source-418' is not installed, so not removed\n",
            "Package 'nvidia-kernel-source-435' is not installed, so not removed\n",
            "Package 'nvidia-kernel-source-440' is not installed, so not removed\n",
            "Package 'nvidia-kernel-source-450' is not installed, so not removed\n",
            "Package 'nvidia-kernel-source-455' is not installed, so not removed\n",
            "Package 'nvidia-utils-418' is not installed, so not removed\n",
            "Package 'nvidia-utils-435' is not installed, so not removed\n",
            "Package 'nvidia-utils-440' is not installed, so not removed\n",
            "Package 'nvidia-utils-450' is not installed, so not removed\n",
            "Package 'nvidia-utils-455' is not installed, so not removed\n",
            "Package 'libnvidia-egl-gbm1' is not installed, so not removed\n",
            "Package 'libnvidia-ml-dev' is not installed, so not removed\n",
            "Package 'nvidia-cg-dev' is not installed, so not removed\n",
            "Package 'nvidia-cg-doc' is not installed, so not removed\n",
            "Package 'nvidia-cg-toolkit' is not installed, so not removed\n",
            "Package 'nvidia-cuda-dev' is not installed, so not removed\n",
            "Package 'nvidia-cuda-gdb' is not installed, so not removed\n",
            "Package 'nvidia-cuda-toolkit' is not installed, so not removed\n",
            "Package 'nvidia-cuda-toolkit-doc' is not installed, so not removed\n",
            "Package 'nvidia-cuda-toolkit-gcc' is not installed, so not removed\n",
            "Package 'nvidia-cudnn' is not installed, so not removed\n",
            "Package 'nvidia-libopencl1-340' is not installed, so not removed\n",
            "Package 'nvidia-opencl-icd-340' is not installed, so not removed\n",
            "Package 'nvidia-primus-vk-common' is not installed, so not removed\n",
            "Package 'nvidia-primus-vk-wrapper' is not installed, so not removed\n",
            "Package 'nvidia-profiler' is not installed, so not removed\n",
            "Package 'nvidia-visual-profiler' is not installed, so not removed\n",
            "Package 'libnvidia-cfg1-390' is not installed, so not removed\n",
            "Package 'libnvidia-cfg1-418-server' is not installed, so not removed\n",
            "Package 'libnvidia-cfg1-440-server' is not installed, so not removed\n",
            "Package 'libnvidia-cfg1-450-server' is not installed, so not removed\n",
            "Package 'libnvidia-cfg1-460' is not installed, so not removed\n",
            "Package 'libnvidia-cfg1-460-server' is not installed, so not removed\n",
            "Package 'libnvidia-cfg1-465' is not installed, so not removed\n",
            "Package 'libnvidia-cfg1-470' is not installed, so not removed\n",
            "Package 'libnvidia-cfg1-470-server' is not installed, so not removed\n",
            "Package 'libnvidia-cfg1-495' is not installed, so not removed\n",
            "Package 'libnvidia-cfg1-510' is not installed, so not removed\n",
            "Package 'libnvidia-cfg1-510-server' is not installed, so not removed\n",
            "Package 'libnvidia-cfg1-515' is not installed, so not removed\n",
            "Package 'libnvidia-cfg1-515-server' is not installed, so not removed\n",
            "Package 'libnvidia-cfg1-520' is not installed, so not removed\n",
            "Package 'libnvidia-cfg1-525' is not installed, so not removed\n",
            "Package 'libnvidia-cfg1-525-server' is not installed, so not removed\n",
            "Package 'libnvidia-cfg1-535' is not installed, so not removed\n",
            "Package 'libnvidia-cfg1-535-server' is not installed, so not removed\n",
            "Package 'libnvidia-cfg1-545' is not installed, so not removed\n",
            "Package 'libnvidia-cfg1-550-server' is not installed, so not removed\n",
            "Package 'libnvidia-common-390' is not installed, so not removed\n",
            "Package 'libnvidia-common-418-server' is not installed, so not removed\n",
            "Package 'libnvidia-common-440-server' is not installed, so not removed\n",
            "Package 'libnvidia-common-450-server' is not installed, so not removed\n",
            "Package 'libnvidia-common-460' is not installed, so not removed\n",
            "Package 'libnvidia-common-460-server' is not installed, so not removed\n",
            "Package 'libnvidia-common-465' is not installed, so not removed\n",
            "Package 'libnvidia-common-470' is not installed, so not removed\n",
            "Package 'libnvidia-common-470-server' is not installed, so not removed\n",
            "Package 'libnvidia-common-495' is not installed, so not removed\n",
            "Package 'libnvidia-common-510' is not installed, so not removed\n",
            "Package 'libnvidia-common-510-server' is not installed, so not removed\n",
            "Package 'libnvidia-common-515' is not installed, so not removed\n",
            "Package 'libnvidia-common-515-server' is not installed, so not removed\n",
            "Package 'libnvidia-common-520' is not installed, so not removed\n",
            "Package 'libnvidia-common-525' is not installed, so not removed\n",
            "Package 'libnvidia-common-525-server' is not installed, so not removed\n",
            "Package 'libnvidia-common-535' is not installed, so not removed\n",
            "Package 'libnvidia-common-535-server' is not installed, so not removed\n",
            "Package 'libnvidia-common-545' is not installed, so not removed\n",
            "Package 'libnvidia-common-550-server' is not installed, so not removed\n",
            "Package 'libnvidia-compute-390' is not installed, so not removed\n",
            "Package 'libnvidia-compute-418-server' is not installed, so not removed\n",
            "Package 'libnvidia-compute-440-server' is not installed, so not removed\n",
            "Package 'libnvidia-compute-450-server' is not installed, so not removed\n",
            "Package 'libnvidia-compute-460' is not installed, so not removed\n",
            "Package 'libnvidia-compute-460-server' is not installed, so not removed\n",
            "Package 'libnvidia-compute-465' is not installed, so not removed\n",
            "Package 'libnvidia-compute-470' is not installed, so not removed\n",
            "Package 'libnvidia-compute-470-server' is not installed, so not removed\n",
            "Package 'libnvidia-compute-495' is not installed, so not removed\n",
            "Package 'libnvidia-compute-510' is not installed, so not removed\n",
            "Package 'libnvidia-compute-510-server' is not installed, so not removed\n",
            "Package 'libnvidia-compute-515' is not installed, so not removed\n",
            "Package 'libnvidia-compute-515-server' is not installed, so not removed\n",
            "Package 'libnvidia-compute-520' is not installed, so not removed\n",
            "Package 'libnvidia-compute-525' is not installed, so not removed\n",
            "Package 'libnvidia-compute-525-server' is not installed, so not removed\n",
            "Package 'libnvidia-compute-535' is not installed, so not removed\n",
            "Package 'libnvidia-compute-535-server' is not installed, so not removed\n",
            "Package 'libnvidia-compute-545' is not installed, so not removed\n",
            "Package 'libnvidia-compute-550-server' is not installed, so not removed\n",
            "Package 'libnvidia-decode-390' is not installed, so not removed\n",
            "Package 'libnvidia-decode-418-server' is not installed, so not removed\n",
            "Package 'libnvidia-decode-440-server' is not installed, so not removed\n",
            "Package 'libnvidia-decode-450-server' is not installed, so not removed\n",
            "Package 'libnvidia-decode-460' is not installed, so not removed\n",
            "Package 'libnvidia-decode-460-server' is not installed, so not removed\n",
            "Package 'libnvidia-decode-465' is not installed, so not removed\n",
            "Package 'libnvidia-decode-470' is not installed, so not removed\n",
            "Package 'libnvidia-decode-470-server' is not installed, so not removed\n",
            "Package 'libnvidia-decode-495' is not installed, so not removed\n",
            "Package 'libnvidia-decode-510' is not installed, so not removed\n",
            "Package 'libnvidia-decode-510-server' is not installed, so not removed\n",
            "Package 'libnvidia-decode-515' is not installed, so not removed\n",
            "Package 'libnvidia-decode-515-server' is not installed, so not removed\n",
            "Package 'libnvidia-decode-520' is not installed, so not removed\n",
            "Package 'libnvidia-decode-525' is not installed, so not removed\n",
            "Package 'libnvidia-decode-525-server' is not installed, so not removed\n",
            "Package 'libnvidia-decode-535' is not installed, so not removed\n",
            "Package 'libnvidia-decode-535-server' is not installed, so not removed\n",
            "Package 'libnvidia-decode-545' is not installed, so not removed\n",
            "Package 'libnvidia-decode-550-server' is not installed, so not removed\n",
            "Package 'libnvidia-encode-390' is not installed, so not removed\n",
            "Package 'libnvidia-encode-418-server' is not installed, so not removed\n",
            "Package 'libnvidia-encode-440-server' is not installed, so not removed\n",
            "Package 'libnvidia-encode-450-server' is not installed, so not removed\n",
            "Package 'libnvidia-encode-460' is not installed, so not removed\n",
            "Package 'libnvidia-encode-460-server' is not installed, so not removed\n",
            "Package 'libnvidia-encode-465' is not installed, so not removed\n",
            "Package 'libnvidia-encode-470' is not installed, so not removed\n",
            "Package 'libnvidia-encode-470-server' is not installed, so not removed\n",
            "Package 'libnvidia-encode-495' is not installed, so not removed\n",
            "Package 'libnvidia-encode-510' is not installed, so not removed\n",
            "Package 'libnvidia-encode-510-server' is not installed, so not removed\n",
            "Package 'libnvidia-encode-515' is not installed, so not removed\n",
            "Package 'libnvidia-encode-515-server' is not installed, so not removed\n",
            "Package 'libnvidia-encode-520' is not installed, so not removed\n",
            "Package 'libnvidia-encode-525' is not installed, so not removed\n",
            "Package 'libnvidia-encode-525-server' is not installed, so not removed\n",
            "Package 'libnvidia-encode-535' is not installed, so not removed\n",
            "Package 'libnvidia-encode-535-server' is not installed, so not removed\n",
            "Package 'libnvidia-encode-545' is not installed, so not removed\n",
            "Package 'libnvidia-encode-550-server' is not installed, so not removed\n",
            "Package 'libnvidia-extra-440-server' is not installed, so not removed\n",
            "Package 'libnvidia-extra-450-server' is not installed, so not removed\n",
            "Package 'libnvidia-extra-460' is not installed, so not removed\n",
            "Package 'libnvidia-extra-460-server' is not installed, so not removed\n",
            "Package 'libnvidia-extra-465' is not installed, so not removed\n",
            "Package 'libnvidia-extra-470' is not installed, so not removed\n",
            "Package 'libnvidia-extra-470-server' is not installed, so not removed\n",
            "Package 'libnvidia-extra-495' is not installed, so not removed\n",
            "Package 'libnvidia-extra-510' is not installed, so not removed\n",
            "Package 'libnvidia-extra-510-server' is not installed, so not removed\n",
            "Package 'libnvidia-extra-515' is not installed, so not removed\n",
            "Package 'libnvidia-extra-515-server' is not installed, so not removed\n",
            "Package 'libnvidia-extra-520' is not installed, so not removed\n",
            "Package 'libnvidia-extra-525' is not installed, so not removed\n",
            "Package 'libnvidia-extra-525-server' is not installed, so not removed\n",
            "Package 'libnvidia-extra-535' is not installed, so not removed\n",
            "Package 'libnvidia-extra-535-server' is not installed, so not removed\n",
            "Package 'libnvidia-extra-545' is not installed, so not removed\n",
            "Package 'libnvidia-extra-550-server' is not installed, so not removed\n",
            "Package 'libnvidia-fbc1-390' is not installed, so not removed\n",
            "Package 'libnvidia-fbc1-418-server' is not installed, so not removed\n",
            "Package 'libnvidia-fbc1-440-server' is not installed, so not removed\n",
            "Package 'libnvidia-fbc1-450-server' is not installed, so not removed\n",
            "Package 'libnvidia-fbc1-460' is not installed, so not removed\n",
            "Package 'libnvidia-fbc1-460-server' is not installed, so not removed\n",
            "Package 'libnvidia-fbc1-465' is not installed, so not removed\n",
            "Package 'libnvidia-fbc1-470' is not installed, so not removed\n",
            "Package 'libnvidia-fbc1-470-server' is not installed, so not removed\n",
            "Package 'libnvidia-fbc1-495' is not installed, so not removed\n",
            "Package 'libnvidia-fbc1-510' is not installed, so not removed\n",
            "Package 'libnvidia-fbc1-510-server' is not installed, so not removed\n",
            "Package 'libnvidia-fbc1-515' is not installed, so not removed\n",
            "Package 'libnvidia-fbc1-515-server' is not installed, so not removed\n",
            "Package 'libnvidia-fbc1-520' is not installed, so not removed\n",
            "Package 'libnvidia-fbc1-525' is not installed, so not removed\n",
            "Package 'libnvidia-fbc1-525-server' is not installed, so not removed\n",
            "Package 'libnvidia-fbc1-535' is not installed, so not removed\n",
            "Package 'libnvidia-fbc1-535-server' is not installed, so not removed\n",
            "Package 'libnvidia-fbc1-545' is not installed, so not removed\n",
            "Package 'libnvidia-fbc1-550-server' is not installed, so not removed\n",
            "Package 'libnvidia-gl-390' is not installed, so not removed\n",
            "Package 'libnvidia-gl-418-server' is not installed, so not removed\n",
            "Package 'libnvidia-gl-440-server' is not installed, so not removed\n",
            "Package 'libnvidia-gl-450-server' is not installed, so not removed\n",
            "Package 'libnvidia-gl-460' is not installed, so not removed\n",
            "Package 'libnvidia-gl-460-server' is not installed, so not removed\n",
            "Package 'libnvidia-gl-465' is not installed, so not removed\n",
            "Package 'libnvidia-gl-470' is not installed, so not removed\n",
            "Package 'libnvidia-gl-470-server' is not installed, so not removed\n",
            "Package 'libnvidia-gl-495' is not installed, so not removed\n",
            "Package 'libnvidia-gl-510' is not installed, so not removed\n",
            "Package 'libnvidia-gl-510-server' is not installed, so not removed\n",
            "Package 'libnvidia-gl-515' is not installed, so not removed\n",
            "Package 'libnvidia-gl-515-server' is not installed, so not removed\n",
            "Package 'libnvidia-gl-520' is not installed, so not removed\n",
            "Package 'libnvidia-gl-525' is not installed, so not removed\n",
            "Package 'libnvidia-gl-525-server' is not installed, so not removed\n",
            "Package 'libnvidia-gl-535' is not installed, so not removed\n",
            "Package 'libnvidia-gl-535-server' is not installed, so not removed\n",
            "Package 'libnvidia-gl-545' is not installed, so not removed\n",
            "Package 'libnvidia-gl-550-server' is not installed, so not removed\n",
            "Package 'libnvidia-ifr1-390' is not installed, so not removed\n",
            "Package 'libnvidia-ifr1-418-server' is not installed, so not removed\n",
            "Package 'libnvidia-ifr1-440-server' is not installed, so not removed\n",
            "Package 'libnvidia-ifr1-450-server' is not installed, so not removed\n",
            "Package 'libnvidia-ifr1-460' is not installed, so not removed\n",
            "Package 'libnvidia-ifr1-460-server' is not installed, so not removed\n",
            "Package 'libnvidia-ifr1-465' is not installed, so not removed\n",
            "Package 'libnvidia-ifr1-470' is not installed, so not removed\n",
            "Package 'libnvidia-ifr1-470-server' is not installed, so not removed\n",
            "Package 'libnvidia-nscq-515' is not installed, so not removed\n",
            "Package 'nvidia-384' is not installed, so not removed\n",
            "Package 'nvidia-384-dev' is not installed, so not removed\n",
            "Package 'nvidia-compute-utils-390' is not installed, so not removed\n",
            "Package 'nvidia-compute-utils-418-server' is not installed, so not removed\n",
            "Package 'nvidia-compute-utils-440-server' is not installed, so not removed\n",
            "Package 'nvidia-compute-utils-450-server' is not installed, so not removed\n",
            "Package 'nvidia-compute-utils-460' is not installed, so not removed\n",
            "Package 'nvidia-compute-utils-460-server' is not installed, so not removed\n",
            "Package 'nvidia-compute-utils-465' is not installed, so not removed\n",
            "Package 'nvidia-compute-utils-470' is not installed, so not removed\n",
            "Package 'nvidia-compute-utils-470-server' is not installed, so not removed\n",
            "Package 'nvidia-compute-utils-495' is not installed, so not removed\n",
            "Package 'nvidia-compute-utils-510' is not installed, so not removed\n",
            "Package 'nvidia-compute-utils-510-server' is not installed, so not removed\n",
            "Package 'nvidia-compute-utils-515' is not installed, so not removed\n",
            "Package 'nvidia-compute-utils-515-server' is not installed, so not removed\n",
            "Package 'nvidia-compute-utils-520' is not installed, so not removed\n",
            "Package 'nvidia-compute-utils-525' is not installed, so not removed\n",
            "Package 'nvidia-compute-utils-525-server' is not installed, so not removed\n",
            "Package 'nvidia-compute-utils-535' is not installed, so not removed\n",
            "Package 'nvidia-compute-utils-535-server' is not installed, so not removed\n",
            "Package 'nvidia-compute-utils-545' is not installed, so not removed\n",
            "Package 'nvidia-compute-utils-550-server' is not installed, so not removed\n",
            "Package 'nvidia-dkms-390' is not installed, so not removed\n",
            "Package 'nvidia-dkms-418-server' is not installed, so not removed\n",
            "Package 'nvidia-dkms-440-server' is not installed, so not removed\n",
            "Package 'nvidia-dkms-450-server' is not installed, so not removed\n",
            "Package 'nvidia-dkms-460' is not installed, so not removed\n",
            "Package 'nvidia-dkms-460-server' is not installed, so not removed\n",
            "Package 'nvidia-dkms-465' is not installed, so not removed\n",
            "Package 'nvidia-dkms-470' is not installed, so not removed\n",
            "Package 'nvidia-dkms-470-server' is not installed, so not removed\n",
            "Package 'nvidia-dkms-495' is not installed, so not removed\n",
            "Package 'nvidia-dkms-510' is not installed, so not removed\n",
            "Package 'nvidia-dkms-510-server' is not installed, so not removed\n",
            "Package 'nvidia-dkms-515' is not installed, so not removed\n",
            "Package 'nvidia-dkms-515-open' is not installed, so not removed\n",
            "Package 'nvidia-dkms-515-server' is not installed, so not removed\n",
            "Package 'nvidia-dkms-520' is not installed, so not removed\n",
            "Package 'nvidia-dkms-520-open' is not installed, so not removed\n",
            "Package 'nvidia-dkms-525' is not installed, so not removed\n",
            "Package 'nvidia-dkms-525-open' is not installed, so not removed\n",
            "Package 'nvidia-dkms-525-server' is not installed, so not removed\n",
            "Package 'nvidia-dkms-535' is not installed, so not removed\n",
            "Package 'nvidia-dkms-535-open' is not installed, so not removed\n",
            "Package 'nvidia-dkms-535-server' is not installed, so not removed\n",
            "Package 'nvidia-dkms-535-server-open' is not installed, so not removed\n",
            "Package 'nvidia-dkms-545' is not installed, so not removed\n",
            "Package 'nvidia-dkms-545-open' is not installed, so not removed\n",
            "Package 'nvidia-dkms-550-server' is not installed, so not removed\n",
            "Package 'nvidia-dkms-550-server-open' is not installed, so not removed\n",
            "Package 'nvidia-driver-390' is not installed, so not removed\n",
            "Package 'nvidia-driver-418-server' is not installed, so not removed\n",
            "Package 'nvidia-driver-440-server' is not installed, so not removed\n",
            "Package 'nvidia-driver-450-server' is not installed, so not removed\n",
            "Package 'nvidia-driver-460' is not installed, so not removed\n",
            "Package 'nvidia-driver-460-server' is not installed, so not removed\n",
            "Package 'nvidia-driver-465' is not installed, so not removed\n",
            "Package 'nvidia-driver-470' is not installed, so not removed\n",
            "Package 'nvidia-driver-470-server' is not installed, so not removed\n",
            "Package 'nvidia-driver-495' is not installed, so not removed\n",
            "Package 'nvidia-driver-510' is not installed, so not removed\n",
            "Package 'nvidia-driver-510-server' is not installed, so not removed\n",
            "Package 'nvidia-driver-515' is not installed, so not removed\n",
            "Package 'nvidia-driver-515-open' is not installed, so not removed\n",
            "Package 'nvidia-driver-515-server' is not installed, so not removed\n",
            "Package 'nvidia-driver-520' is not installed, so not removed\n",
            "Package 'nvidia-driver-520-open' is not installed, so not removed\n",
            "Package 'nvidia-driver-525' is not installed, so not removed\n",
            "Package 'nvidia-driver-525-open' is not installed, so not removed\n",
            "Package 'nvidia-driver-525-server' is not installed, so not removed\n",
            "Package 'nvidia-driver-535' is not installed, so not removed\n",
            "Package 'nvidia-driver-535-open' is not installed, so not removed\n",
            "Package 'nvidia-driver-535-server' is not installed, so not removed\n",
            "Package 'nvidia-driver-535-server-open' is not installed, so not removed\n",
            "Package 'nvidia-driver-545' is not installed, so not removed\n",
            "Package 'nvidia-driver-545-open' is not installed, so not removed\n",
            "Package 'nvidia-driver-550-server' is not installed, so not removed\n",
            "Package 'nvidia-driver-550-server-open' is not installed, so not removed\n",
            "Package 'nvidia-fabricmanager-515' is not installed, so not removed\n",
            "Package 'nvidia-fabricmanager-dev-515' is not installed, so not removed\n",
            "Package 'nvidia-firmware-535-535.104.05' is not installed, so not removed\n",
            "Package 'nvidia-firmware-535-535.113.01' is not installed, so not removed\n",
            "Package 'nvidia-firmware-535-535.129.03' is not installed, so not removed\n",
            "Package 'nvidia-firmware-535-535.146.02' is not installed, so not removed\n",
            "Package 'nvidia-firmware-535-535.154.05' is not installed, so not removed\n",
            "Package 'nvidia-firmware-535-535.161.07' is not installed, so not removed\n",
            "Package 'nvidia-firmware-535-535.171.04' is not installed, so not removed\n",
            "Package 'nvidia-firmware-535-535.54.03' is not installed, so not removed\n",
            "Package 'nvidia-firmware-535-535.86.05' is not installed, so not removed\n",
            "Package 'nvidia-firmware-535-server-535.104.05' is not installed, so not removed\n",
            "Package 'nvidia-firmware-535-server-535.104.12' is not installed, so not removed\n",
            "Package 'nvidia-firmware-535-server-535.129.03' is not installed, so not removed\n",
            "Package 'nvidia-firmware-535-server-535.154.05' is not installed, so not removed\n",
            "Package 'nvidia-firmware-535-server-535.161.07' is not installed, so not removed\n",
            "Package 'nvidia-firmware-535-server-535.161.08' is not installed, so not removed\n",
            "Package 'nvidia-firmware-535-server-535.54.03' is not installed, so not removed\n",
            "Package 'nvidia-firmware-545-545.29.06' is not installed, so not removed\n",
            "Package 'nvidia-firmware-550-550.67' is not installed, so not removed\n",
            "Package 'nvidia-firmware-550-server-550.54.15' is not installed, so not removed\n",
            "Package 'nvidia-headless-390' is not installed, so not removed\n",
            "Package 'nvidia-headless-418-server' is not installed, so not removed\n",
            "Package 'nvidia-headless-440-server' is not installed, so not removed\n",
            "Package 'nvidia-headless-450-server' is not installed, so not removed\n",
            "Package 'nvidia-headless-460' is not installed, so not removed\n",
            "Package 'nvidia-headless-460-server' is not installed, so not removed\n",
            "Package 'nvidia-headless-465' is not installed, so not removed\n",
            "Package 'nvidia-headless-470' is not installed, so not removed\n",
            "Package 'nvidia-headless-470-server' is not installed, so not removed\n",
            "Package 'nvidia-headless-495' is not installed, so not removed\n",
            "Package 'nvidia-headless-510' is not installed, so not removed\n",
            "Package 'nvidia-headless-510-server' is not installed, so not removed\n",
            "Package 'nvidia-headless-515' is not installed, so not removed\n",
            "Package 'nvidia-headless-515-open' is not installed, so not removed\n",
            "Package 'nvidia-headless-515-server' is not installed, so not removed\n",
            "Package 'nvidia-headless-520' is not installed, so not removed\n",
            "Package 'nvidia-headless-520-open' is not installed, so not removed\n",
            "Package 'nvidia-headless-525' is not installed, so not removed\n",
            "Package 'nvidia-headless-525-open' is not installed, so not removed\n",
            "Package 'nvidia-headless-525-server' is not installed, so not removed\n",
            "Package 'nvidia-headless-535' is not installed, so not removed\n",
            "Package 'nvidia-headless-535-open' is not installed, so not removed\n",
            "Package 'nvidia-headless-535-server' is not installed, so not removed\n",
            "Package 'nvidia-headless-535-server-open' is not installed, so not removed\n",
            "Package 'nvidia-headless-545' is not installed, so not removed\n",
            "Package 'nvidia-headless-545-open' is not installed, so not removed\n",
            "Package 'nvidia-headless-550-server' is not installed, so not removed\n",
            "Package 'nvidia-headless-550-server-open' is not installed, so not removed\n",
            "Package 'nvidia-headless-no-dkms-390' is not installed, so not removed\n",
            "Package 'nvidia-headless-no-dkms-418-server' is not installed, so not removed\n",
            "Package 'nvidia-headless-no-dkms-440-server' is not installed, so not removed\n",
            "Package 'nvidia-headless-no-dkms-450-server' is not installed, so not removed\n",
            "Package 'nvidia-headless-no-dkms-460' is not installed, so not removed\n",
            "Package 'nvidia-headless-no-dkms-460-server' is not installed, so not removed\n",
            "Package 'nvidia-headless-no-dkms-465' is not installed, so not removed\n",
            "Package 'nvidia-headless-no-dkms-470' is not installed, so not removed\n",
            "Package 'nvidia-headless-no-dkms-470-server' is not installed, so not removed\n",
            "Package 'nvidia-headless-no-dkms-495' is not installed, so not removed\n",
            "Package 'nvidia-headless-no-dkms-510' is not installed, so not removed\n",
            "Package 'nvidia-headless-no-dkms-510-server' is not installed, so not removed\n",
            "Package 'nvidia-headless-no-dkms-515' is not installed, so not removed\n",
            "Package 'nvidia-headless-no-dkms-515-open' is not installed, so not removed\n",
            "Package 'nvidia-headless-no-dkms-515-server' is not installed, so not removed\n",
            "Package 'nvidia-headless-no-dkms-520' is not installed, so not removed\n",
            "Package 'nvidia-headless-no-dkms-520-open' is not installed, so not removed\n",
            "Package 'nvidia-headless-no-dkms-525' is not installed, so not removed\n",
            "Package 'nvidia-headless-no-dkms-525-open' is not installed, so not removed\n",
            "Package 'nvidia-headless-no-dkms-525-server' is not installed, so not removed\n",
            "Package 'nvidia-headless-no-dkms-535' is not installed, so not removed\n",
            "Package 'nvidia-headless-no-dkms-535-open' is not installed, so not removed\n",
            "Package 'nvidia-headless-no-dkms-535-server' is not installed, so not removed\n",
            "Package 'nvidia-headless-no-dkms-535-server-open' is not installed, so not removed\n",
            "Package 'nvidia-headless-no-dkms-545' is not installed, so not removed\n",
            "Package 'nvidia-headless-no-dkms-545-open' is not installed, so not removed\n",
            "Package 'nvidia-headless-no-dkms-550-server' is not installed, so not removed\n",
            "Package 'nvidia-headless-no-dkms-550-server-open' is not installed, so not removed\n",
            "Package 'nvidia-imex-550' is not installed, so not removed\n",
            "Package 'nvidia-kernel-common-390' is not installed, so not removed\n",
            "Package 'nvidia-kernel-common-418-server' is not installed, so not removed\n",
            "Package 'nvidia-kernel-common-440-server' is not installed, so not removed\n",
            "Package 'nvidia-kernel-common-450-server' is not installed, so not removed\n",
            "Package 'nvidia-kernel-common-460' is not installed, so not removed\n",
            "Package 'nvidia-kernel-common-460-server' is not installed, so not removed\n",
            "Package 'nvidia-kernel-common-465' is not installed, so not removed\n",
            "Package 'nvidia-kernel-common-470' is not installed, so not removed\n",
            "Package 'nvidia-kernel-common-470-server' is not installed, so not removed\n",
            "Package 'nvidia-kernel-common-495' is not installed, so not removed\n",
            "Package 'nvidia-kernel-common-510' is not installed, so not removed\n",
            "Package 'nvidia-kernel-common-510-server' is not installed, so not removed\n",
            "Package 'nvidia-kernel-common-515' is not installed, so not removed\n",
            "Package 'nvidia-kernel-common-515-server' is not installed, so not removed\n",
            "Package 'nvidia-kernel-common-520' is not installed, so not removed\n",
            "Package 'nvidia-kernel-common-525' is not installed, so not removed\n",
            "Package 'nvidia-kernel-common-525-server' is not installed, so not removed\n",
            "Package 'nvidia-kernel-common-535' is not installed, so not removed\n",
            "Package 'nvidia-kernel-common-535-server' is not installed, so not removed\n",
            "Package 'nvidia-kernel-common-545' is not installed, so not removed\n",
            "Package 'nvidia-kernel-common-550-server' is not installed, so not removed\n",
            "Package 'nvidia-kernel-source-390' is not installed, so not removed\n",
            "Package 'nvidia-kernel-source-418-server' is not installed, so not removed\n",
            "Package 'nvidia-kernel-source-440-server' is not installed, so not removed\n",
            "Package 'nvidia-kernel-source-450-server' is not installed, so not removed\n",
            "Package 'nvidia-kernel-source-460' is not installed, so not removed\n",
            "Package 'nvidia-kernel-source-460-server' is not installed, so not removed\n",
            "Package 'nvidia-kernel-source-465' is not installed, so not removed\n",
            "Package 'nvidia-kernel-source-470' is not installed, so not removed\n",
            "Package 'nvidia-kernel-source-470-server' is not installed, so not removed\n",
            "Package 'nvidia-kernel-source-495' is not installed, so not removed\n",
            "Package 'nvidia-kernel-source-510' is not installed, so not removed\n",
            "Package 'nvidia-kernel-source-510-server' is not installed, so not removed\n",
            "Package 'nvidia-kernel-source-515' is not installed, so not removed\n",
            "Package 'nvidia-kernel-source-515-open' is not installed, so not removed\n",
            "Package 'nvidia-kernel-source-515-server' is not installed, so not removed\n",
            "Package 'nvidia-kernel-source-520' is not installed, so not removed\n",
            "Package 'nvidia-kernel-source-520-open' is not installed, so not removed\n",
            "Package 'nvidia-kernel-source-525' is not installed, so not removed\n",
            "Package 'nvidia-kernel-source-525-open' is not installed, so not removed\n",
            "Package 'nvidia-kernel-source-525-server' is not installed, so not removed\n",
            "Package 'nvidia-kernel-source-535' is not installed, so not removed\n",
            "Package 'nvidia-kernel-source-535-open' is not installed, so not removed\n",
            "Package 'nvidia-kernel-source-535-server' is not installed, so not removed\n",
            "Package 'nvidia-kernel-source-535-server-open' is not installed, so not removed\n",
            "Package 'nvidia-kernel-source-545' is not installed, so not removed\n",
            "Package 'nvidia-kernel-source-545-open' is not installed, so not removed\n",
            "Package 'nvidia-kernel-source-550-server' is not installed, so not removed\n",
            "Package 'nvidia-kernel-source-550-server-open' is not installed, so not removed\n",
            "Package 'nvidia-utils-390' is not installed, so not removed\n",
            "Package 'nvidia-utils-418-server' is not installed, so not removed\n",
            "Package 'nvidia-utils-440-server' is not installed, so not removed\n",
            "Package 'nvidia-utils-450-server' is not installed, so not removed\n",
            "Package 'nvidia-utils-460' is not installed, so not removed\n",
            "Package 'nvidia-utils-460-server' is not installed, so not removed\n",
            "Package 'nvidia-utils-465' is not installed, so not removed\n",
            "Package 'nvidia-utils-470' is not installed, so not removed\n",
            "Package 'nvidia-utils-470-server' is not installed, so not removed\n",
            "Package 'nvidia-utils-495' is not installed, so not removed\n",
            "Package 'nvidia-utils-510' is not installed, so not removed\n",
            "Package 'nvidia-utils-510-server' is not installed, so not removed\n",
            "Package 'nvidia-utils-515' is not installed, so not removed\n",
            "Package 'nvidia-utils-515-server' is not installed, so not removed\n",
            "Package 'nvidia-utils-520' is not installed, so not removed\n",
            "Package 'nvidia-utils-525' is not installed, so not removed\n",
            "Package 'nvidia-utils-525-server' is not installed, so not removed\n",
            "Package 'nvidia-utils-535' is not installed, so not removed\n",
            "Package 'nvidia-utils-535-server' is not installed, so not removed\n",
            "Package 'nvidia-utils-545' is not installed, so not removed\n",
            "Package 'nvidia-utils-550-server' is not installed, so not removed\n",
            "Package 'nvidia-common' is not installed, so not removed\n",
            "Package 'libnvidia-nscq-450' is not installed, so not removed\n",
            "Package 'libnvidia-nscq-460' is not installed, so not removed\n",
            "Package 'libnvidia-nscq-470' is not installed, so not removed\n",
            "Package 'libnvidia-nscq-510' is not installed, so not removed\n",
            "Package 'nvidia-fabricmanager-450' is not installed, so not removed\n",
            "Package 'nvidia-fabricmanager-460' is not installed, so not removed\n",
            "Package 'nvidia-fabricmanager-470' is not installed, so not removed\n",
            "Package 'nvidia-fabricmanager-510' is not installed, so not removed\n",
            "Package 'nvidia-fabricmanager-dev-450' is not installed, so not removed\n",
            "Package 'nvidia-fabricmanager-dev-460' is not installed, so not removed\n",
            "Package 'nvidia-fabricmanager-dev-470' is not installed, so not removed\n",
            "Package 'nvidia-fabricmanager-dev-510' is not installed, so not removed\n",
            "Package 'nvidia-firmware-550-server-550.54.14' is not installed, so not removed\n",
            "Package 'nvidia-libopencl1-384' is not installed, so not removed\n",
            "Package 'nvidia-opencl-icd-384' is not installed, so not removed\n",
            "Package 'nvidia-gds-11-7' is not installed, so not removed\n",
            "Package 'libnvidia-nscq-520' is not installed, so not removed\n",
            "Package 'nvidia-fabricmanager-520' is not installed, so not removed\n",
            "Package 'nvidia-fabricmanager-dev-520' is not installed, so not removed\n",
            "Package 'nvidia-gds-11-8' is not installed, so not removed\n",
            "Package 'nvidia-kernel-open-520' is not installed, so not removed\n",
            "Package 'nvidia-gds-12-0' is not installed, so not removed\n",
            "Package 'libnvidia-nscq-530' is not installed, so not removed\n",
            "Package 'nvidia-fabricmanager-530' is not installed, so not removed\n",
            "Package 'nvidia-fabricmanager-dev-530' is not installed, so not removed\n",
            "Package 'nvidia-kernel-open-530' is not installed, so not removed\n",
            "Package 'nvidia-kernel-open-515' is not installed, so not removed\n",
            "Package 'nvidia-container-runtime' is not installed, so not removed\n",
            "Package 'nvidia-docker2' is not installed, so not removed\n",
            "Package 'nvidia-gds-12-1' is not installed, so not removed\n",
            "Package 'nvidia-gds-12-2' is not installed, so not removed\n",
            "Package 'libnvidia-nscq-525' is not installed, so not removed\n",
            "Package 'nvidia-fabricmanager-525' is not installed, so not removed\n",
            "Package 'nvidia-fabricmanager-dev-525' is not installed, so not removed\n",
            "Package 'nvidia-kernel-open-525' is not installed, so not removed\n",
            "Package 'libnvidia-cfg1-430' is not installed, so not removed\n",
            "Package 'libnvidia-common-430' is not installed, so not removed\n",
            "Package 'libnvidia-compute-430' is not installed, so not removed\n",
            "Package 'libnvidia-decode-430' is not installed, so not removed\n",
            "Package 'libnvidia-encode-430' is not installed, so not removed\n",
            "Package 'libnvidia-fbc1-430' is not installed, so not removed\n",
            "Package 'libnvidia-gl-430' is not installed, so not removed\n",
            "Package 'libnvidia-nscq-545' is not installed, so not removed\n",
            "Package 'nvidia-compute-utils-430' is not installed, so not removed\n",
            "Package 'nvidia-dkms-430' is not installed, so not removed\n",
            "Package 'nvidia-driver-430' is not installed, so not removed\n",
            "Package 'nvidia-fabricmanager-545' is not installed, so not removed\n",
            "Package 'nvidia-fabricmanager-dev-545' is not installed, so not removed\n",
            "Package 'nvidia-headless-430' is not installed, so not removed\n",
            "Package 'nvidia-headless-no-dkms-430' is not installed, so not removed\n",
            "Package 'nvidia-kernel-common-430' is not installed, so not removed\n",
            "Package 'nvidia-kernel-open-545' is not installed, so not removed\n",
            "Package 'nvidia-kernel-source-430' is not installed, so not removed\n",
            "Package 'nvidia-utils-430' is not installed, so not removed\n",
            "Package 'nvidia-gds-12-3' is not installed, so not removed\n",
            "Package 'nvidia-firmware-550-550.54.14' is not installed, so not removed\n",
            "Package 'libnvidia-cfg1-530' is not installed, so not removed\n",
            "Package 'libnvidia-common-530' is not installed, so not removed\n",
            "Package 'libnvidia-compute-530' is not installed, so not removed\n",
            "Package 'libnvidia-decode-530' is not installed, so not removed\n",
            "Package 'libnvidia-encode-530' is not installed, so not removed\n",
            "Package 'libnvidia-extra-530' is not installed, so not removed\n",
            "Package 'libnvidia-fbc1-530' is not installed, so not removed\n",
            "Package 'libnvidia-gl-530' is not installed, so not removed\n",
            "Package 'libnvidia-nscq-535' is not installed, so not removed\n",
            "Package 'libnvidia-nscq-550' is not installed, so not removed\n",
            "Package 'nvidia-compute-utils-530' is not installed, so not removed\n",
            "Package 'nvidia-dkms-530' is not installed, so not removed\n",
            "Package 'nvidia-dkms-530-open' is not installed, so not removed\n",
            "Package 'nvidia-driver-530' is not installed, so not removed\n",
            "Package 'nvidia-driver-530-open' is not installed, so not removed\n",
            "Package 'nvidia-fabricmanager-535' is not installed, so not removed\n",
            "Package 'nvidia-fabricmanager-550' is not installed, so not removed\n",
            "Package 'nvidia-fabricmanager-dev-535' is not installed, so not removed\n",
            "Package 'nvidia-fabricmanager-dev-550' is not installed, so not removed\n",
            "Package 'nvidia-firmware-550-550.54.15' is not installed, so not removed\n",
            "Package 'nvidia-headless-530' is not installed, so not removed\n",
            "Package 'nvidia-headless-530-open' is not installed, so not removed\n",
            "Package 'nvidia-headless-no-dkms-530' is not installed, so not removed\n",
            "Package 'nvidia-headless-no-dkms-530-open' is not installed, so not removed\n",
            "Package 'nvidia-kernel-common-530' is not installed, so not removed\n",
            "Package 'nvidia-kernel-open-535' is not installed, so not removed\n",
            "Package 'nvidia-kernel-open-550' is not installed, so not removed\n",
            "Package 'nvidia-kernel-source-530' is not installed, so not removed\n",
            "Package 'nvidia-kernel-source-530-open' is not installed, so not removed\n",
            "Package 'nvidia-modprobe' is not installed, so not removed\n",
            "Package 'nvidia-settings' is not installed, so not removed\n",
            "Package 'nvidia-utils-530' is not installed, so not removed\n",
            "Package 'cuda' is not installed, so not removed\n",
            "Package 'nvidia-fs' is not installed, so not removed\n",
            "Package 'nvidia-fs-dkms' is not installed, so not removed\n",
            "Package 'nvidia-gds' is not installed, so not removed\n",
            "Package 'nvidia-gds-12-4' is not installed, so not removed\n",
            "Package 'libnvidia-container1' is not installed, so not removed\n",
            "Package 'libnvidia-container1-dbg' is not installed, so not removed\n",
            "Package 'libnvidia-container-dev' is not installed, so not removed\n",
            "Package 'libnvidia-container-tools' is not installed, so not removed\n",
            "Package 'nvidia-container-toolkit' is not installed, so not removed\n",
            "Package 'nvidia-container-toolkit-base' is not installed, so not removed\n",
            "Package 'libnvidia-cfg1-550' is not installed, so not removed\n",
            "Package 'libnvidia-common-550' is not installed, so not removed\n",
            "Package 'libnvidia-compute-550' is not installed, so not removed\n",
            "Package 'libnvidia-decode-550' is not installed, so not removed\n",
            "Package 'libnvidia-encode-550' is not installed, so not removed\n",
            "Package 'libnvidia-extra-550' is not installed, so not removed\n",
            "Package 'libnvidia-fbc1-550' is not installed, so not removed\n",
            "Package 'libnvidia-gl-550' is not installed, so not removed\n",
            "Package 'nvidia-compute-utils-550' is not installed, so not removed\n",
            "Package 'nvidia-dkms-550' is not installed, so not removed\n",
            "Package 'nvidia-dkms-550-open' is not installed, so not removed\n",
            "Package 'nvidia-driver-550' is not installed, so not removed\n",
            "Package 'nvidia-driver-550-open' is not installed, so not removed\n",
            "Package 'nvidia-firmware-545-545.29.02' is not installed, so not removed\n",
            "Package 'nvidia-firmware-550-550.40.07' is not installed, so not removed\n",
            "Package 'nvidia-firmware-550-550.78' is not installed, so not removed\n",
            "Package 'nvidia-headless-550' is not installed, so not removed\n",
            "Package 'nvidia-headless-550-open' is not installed, so not removed\n",
            "Package 'nvidia-headless-no-dkms-550' is not installed, so not removed\n",
            "Package 'nvidia-headless-no-dkms-550-open' is not installed, so not removed\n",
            "Package 'nvidia-kernel-common-550' is not installed, so not removed\n",
            "Package 'nvidia-kernel-source-550' is not installed, so not removed\n",
            "Package 'nvidia-kernel-source-550-open' is not installed, so not removed\n",
            "Package 'nvidia-utils-550' is not installed, so not removed\n",
            "The following packages were automatically installed and are no longer required:\n",
            "  ocl-icd-opencl-dev opencl-c-headers opencl-clhpp-headers\n",
            "Use 'apt autoremove' to remove them.\n",
            "The following packages will be REMOVED:\n",
            "  nvidia-opencl-dev*\n",
            "0 upgraded, 0 newly installed, 1 to remove and 45 not upgraded.\n",
            "After this operation, 88.1 kB disk space will be freed.\n",
            "(Reading database ... 121918 files and directories currently installed.)\n",
            "Removing nvidia-opencl-dev:amd64 (11.5.1-1ubuntu1) ...\n",
            "\u001b[1mdpkg:\u001b[0m dependency problems prevent removal of cuda-cccl-12-2:\n",
            " cuda-minimal-build-12-2 depends on cuda-cccl-12-2 (>= 12.2.140).\n",
            " cuda-libraries-dev-12-2 depends on cuda-cccl-12-2 (>= 12.2.140).\n",
            " cuda-cudart-dev-12-2 depends on cuda-cccl-12-2.\n",
            "\n",
            "\u001b[1mdpkg:\u001b[0m error processing package cuda-cccl-12-2 (--purge):\n",
            " dependency problems - not removing\n",
            "Errors were encountered while processing:\n",
            " cuda-cccl-12-2\n",
            "(Reading database ... 121915 files and directories currently installed.)\n",
            "Removing cuda-command-line-tools-12-2 (12.2.2-1) ...\n",
            "(Reading database ... 121913 files and directories currently installed.)\n",
            "Removing cuda-compat-12-2 (535.129.03-1) ...\n",
            "Processing triggers for libc-bin (2.35-0ubuntu3.4) ...\n",
            "/sbin/ldconfig.real: /usr/local/lib/libtbbmalloc_proxy.so.2 is not a symbolic link\n",
            "\n",
            "/sbin/ldconfig.real: /usr/local/lib/libtbbbind_2_5.so.3 is not a symbolic link\n",
            "\n",
            "/sbin/ldconfig.real: /usr/local/lib/libtbbmalloc.so.2 is not a symbolic link\n",
            "\n",
            "/sbin/ldconfig.real: /usr/local/lib/libtbbbind.so.3 is not a symbolic link\n",
            "\n",
            "/sbin/ldconfig.real: /usr/local/lib/libtbbbind_2_0.so.3 is not a symbolic link\n",
            "\n",
            "/sbin/ldconfig.real: /usr/local/lib/libtbb.so.12 is not a symbolic link\n",
            "\n",
            "\u001b[1mdpkg:\u001b[0m dependency problems prevent removal of cuda-compiler-12-2:\n",
            " cuda-minimal-build-12-2 depends on cuda-compiler-12-2 (>= 12.2.2).\n",
            "\n",
            "\u001b[1mdpkg:\u001b[0m error processing package cuda-compiler-12-2 (--purge):\n",
            " dependency problems - not removing\n",
            "Errors were encountered while processing:\n",
            " cuda-compiler-12-2\n",
            "\u001b[1mdpkg:\u001b[0m dependency problems prevent removal of cuda-crt-12-2:\n",
            " cuda-nvcc-12-2 depends on cuda-crt-12-2 (= 12.2.140-1).\n",
            "\n",
            "\u001b[1mdpkg:\u001b[0m error processing package cuda-crt-12-2 (--purge):\n",
            " dependency problems - not removing\n",
            "Errors were encountered while processing:\n",
            " cuda-crt-12-2\n",
            "\u001b[1mdpkg:\u001b[0m dependency problems prevent removal of cuda-cudart-12-2:\n",
            " cuda-libraries-12-2 depends on cuda-cudart-12-2 (>= 12.2.140).\n",
            " cuda-cudart-dev-12-2 depends on cuda-cudart-12-2 (>= 12.2.140).\n",
            "\n",
            "\u001b[1mdpkg:\u001b[0m error processing package cuda-cudart-12-2 (--purge):\n",
            " dependency problems - not removing\n",
            "Errors were encountered while processing:\n",
            " cuda-cudart-12-2\n",
            "\u001b[1mdpkg:\u001b[0m dependency problems prevent removal of cuda-cudart-dev-12-2:\n",
            " cuda-nvcc-12-2 depends on cuda-cudart-dev-12-2.\n",
            " cuda-minimal-build-12-2 depends on cuda-cudart-dev-12-2 (>= 12.2.140).\n",
            " cuda-libraries-dev-12-2 depends on cuda-cudart-dev-12-2 (>= 12.2.140).\n",
            " cuda-crt-12-2 depends on cuda-cudart-dev-12-2.\n",
            "\n",
            "\u001b[1mdpkg:\u001b[0m error processing package cuda-cudart-dev-12-2 (--purge):\n",
            " dependency problems - not removing\n",
            "Errors were encountered while processing:\n",
            " cuda-cudart-dev-12-2\n",
            "\u001b[1mdpkg:\u001b[0m dependency problems prevent removal of cuda-cuobjdump-12-2:\n",
            " cuda-gdb-12-2 depends on cuda-cuobjdump-12-2.\n",
            " cuda-compiler-12-2 depends on cuda-cuobjdump-12-2 (>= 12.2.140).\n",
            "\n",
            "\u001b[1mdpkg:\u001b[0m error processing package cuda-cuobjdump-12-2 (--purge):\n",
            " dependency problems - not removing\n",
            "Errors were encountered while processing:\n",
            " cuda-cuobjdump-12-2\n",
            "\u001b[1mdpkg:\u001b[0m dependency problems prevent removal of cuda-cupti-12-2:\n",
            " cuda-cupti-dev-12-2 depends on cuda-cupti-12-2 (>= 12.2.142).\n",
            "\n",
            "\u001b[1mdpkg:\u001b[0m error processing package cuda-cupti-12-2 (--purge):\n",
            " dependency problems - not removing\n",
            "Errors were encountered while processing:\n",
            " cuda-cupti-12-2\n",
            "(Reading database ... 121900 files and directories currently installed.)\n",
            "Removing cuda-cupti-dev-12-2 (12.2.142-1) ...\n",
            "\u001b[1mdpkg:\u001b[0m dependency problems prevent removal of cuda-cuxxfilt-12-2:\n",
            " cuda-compiler-12-2 depends on cuda-cuxxfilt-12-2 (>= 12.2.140).\n",
            "\n",
            "\u001b[1mdpkg:\u001b[0m error processing package cuda-cuxxfilt-12-2 (--purge):\n",
            " dependency problems - not removing\n",
            "Errors were encountered while processing:\n",
            " cuda-cuxxfilt-12-2\n",
            "\u001b[1mdpkg:\u001b[0m dependency problems prevent removal of cuda-driver-dev-12-2:\n",
            " cuda-libraries-dev-12-2 depends on cuda-driver-dev-12-2 (>= 12.2.140).\n",
            " cuda-cudart-dev-12-2 depends on cuda-driver-dev-12-2 (>= 12.2.140).\n",
            "\n",
            "\u001b[1mdpkg:\u001b[0m error processing package cuda-driver-dev-12-2 (--purge):\n",
            " dependency problems - not removing\n",
            "Errors were encountered while processing:\n",
            " cuda-driver-dev-12-2\n",
            "(Reading database ... 121402 files and directories currently installed.)\n",
            "Removing cuda-gdb-12-2 (12.2.140-1) ...\n",
            "(Reading database ... 121336 files and directories currently installed.)\n",
            "Removing cuda-keyring (1.0-1) ...\n",
            "Purging configuration files for cuda-keyring (1.0-1) ...\n",
            "(Reading database ... 121331 files and directories currently installed.)\n",
            "Removing cuda-libraries-12-2 (12.2.2-1) ...\n",
            "(Reading database ... 121329 files and directories currently installed.)\n",
            "Removing cuda-libraries-dev-12-2 (12.2.2-1) ...\n",
            "(Reading database ... 121327 files and directories currently installed.)\n",
            "Removing cuda-minimal-build-12-2 (12.2.2-1) ...\n",
            "(Reading database ... 121325 files and directories currently installed.)\n",
            "Removing cuda-nsight-compute-12-2 (12.2.2-1) ...\n",
            "\u001b[1mdpkg:\u001b[0m dependency problems prevent removal of cuda-nvcc-12-2:\n",
            " cuda-compiler-12-2 depends on cuda-nvcc-12-2 (>= 12.2.140).\n",
            "\n",
            "\u001b[1mdpkg:\u001b[0m error processing package cuda-nvcc-12-2 (--purge):\n",
            " dependency problems - not removing\n",
            "Errors were encountered while processing:\n",
            " cuda-nvcc-12-2\n",
            "(Reading database ... 121321 files and directories currently installed.)\n",
            "Removing cuda-nvdisasm-12-2 (12.2.140-1) ...\n",
            "(Reading database ... 121317 files and directories currently installed.)\n",
            "Removing cuda-nvml-dev-12-2 (12.2.140-1) ...\n",
            "(Reading database ... 121305 files and directories currently installed.)\n",
            "Removing cuda-nvprof-12-2 (12.2.142-1) ...\n",
            "\u001b[1mdpkg:\u001b[0m dependency problems prevent removal of cuda-nvprune-12-2:\n",
            " cuda-compiler-12-2 depends on cuda-nvprune-12-2 (>= 12.2.140).\n",
            "\n",
            "\u001b[1mdpkg:\u001b[0m error processing package cuda-nvprune-12-2 (--purge):\n",
            " dependency problems - not removing\n",
            "Errors were encountered while processing:\n",
            " cuda-nvprune-12-2\n",
            "\u001b[1mdpkg:\u001b[0m dependency problems prevent removal of cuda-nvrtc-12-2:\n",
            " cuda-nvrtc-dev-12-2 depends on cuda-nvrtc-12-2 (>= 12.2.140).\n",
            "\n",
            "\u001b[1mdpkg:\u001b[0m error processing package cuda-nvrtc-12-2 (--purge):\n",
            " dependency problems - not removing\n",
            "Errors were encountered while processing:\n",
            " cuda-nvrtc-12-2\n",
            "(Reading database ... 121293 files and directories currently installed.)\n",
            "Removing cuda-nvrtc-dev-12-2 (12.2.140-1) ...\n",
            "(Reading database ... 121283 files and directories currently installed.)\n",
            "Removing cuda-nvtx-12-2 (12.2.140-1) ...\n",
            "\u001b[1mdpkg:\u001b[0m dependency problems prevent removal of cuda-nvvm-12-2:\n",
            " cuda-nvcc-12-2 depends on cuda-nvvm-12-2 (= 12.2.140-1).\n",
            "\n",
            "\u001b[1mdpkg:\u001b[0m error processing package cuda-nvvm-12-2 (--purge):\n",
            " dependency problems - not removing\n",
            "Errors were encountered while processing:\n",
            " cuda-nvvm-12-2\n",
            "\u001b[1mdpkg:\u001b[0m dependency problems prevent removal of cuda-opencl-12-2:\n",
            " cuda-opencl-dev-12-2 depends on cuda-opencl-12-2 (>= 12.2.140).\n",
            "\n",
            "\u001b[1mdpkg:\u001b[0m error processing package cuda-opencl-12-2 (--purge):\n",
            " dependency problems - not removing\n",
            "Errors were encountered while processing:\n",
            " cuda-opencl-12-2\n",
            "(Reading database ... 121253 files and directories currently installed.)\n",
            "Removing cuda-opencl-dev-12-2 (12.2.140-1) ...\n",
            "(Reading database ... 121238 files and directories currently installed.)\n",
            "Removing cuda-profiler-api-12-2 (12.2.140-1) ...\n",
            "(Reading database ... 121233 files and directories currently installed.)\n",
            "Removing cuda-sanitizer-12-2 (12.2.140-1) ...\n",
            "\u001b[1mdpkg:\u001b[0m dependency problems prevent removal of cuda-toolkit-12-2-config-common:\n",
            " libnvjpeg-12-2 depends on cuda-toolkit-12-2-config-common.\n",
            " libnvjitlink-12-2 depends on cuda-toolkit-12-2-config-common.\n",
            " libnpp-12-2 depends on cuda-toolkit-12-2-config-common.\n",
            " libcusparse-12-2 depends on cuda-toolkit-12-2-config-common.\n",
            " libcusolver-12-2 depends on cuda-toolkit-12-2-config-common.\n",
            " libcurand-12-2 depends on cuda-toolkit-12-2-config-common.\n",
            " libcufile-12-2 depends on cuda-toolkit-12-2-config-common.\n",
            " libcufft-12-2 depends on cuda-toolkit-12-2-config-common.\n",
            " libcublas-12-2 depends on cuda-toolkit-12-2-config-common.\n",
            " cuda-opencl-12-2 depends on cuda-toolkit-12-2-config-common.\n",
            " cuda-cudart-12-2 depends on cuda-toolkit-12-2-config-common.\n",
            "\n",
            "\u001b[1mdpkg:\u001b[0m error processing package cuda-toolkit-12-2-config-common (--purge):\n",
            " dependency problems - not removing\n",
            "Errors were encountered while processing:\n",
            " cuda-toolkit-12-2-config-common\n",
            "\u001b[1mdpkg:\u001b[0m dependency problems prevent removal of cuda-toolkit-12-config-common:\n",
            " libnvjpeg-12-2 depends on cuda-toolkit-12-config-common.\n",
            " libnvjitlink-12-2 depends on cuda-toolkit-12-config-common.\n",
            " libnpp-12-2 depends on cuda-toolkit-12-config-common.\n",
            " libcusparse-12-2 depends on cuda-toolkit-12-config-common.\n",
            " libcusolver-12-2 depends on cuda-toolkit-12-config-common.\n",
            " libcurand-12-2 depends on cuda-toolkit-12-config-common.\n",
            " libcufile-12-2 depends on cuda-toolkit-12-config-common.\n",
            " libcufft-12-2 depends on cuda-toolkit-12-config-common.\n",
            " libcublas-12-2 depends on cuda-toolkit-12-config-common.\n",
            " cuda-opencl-12-2 depends on cuda-toolkit-12-config-common.\n",
            " cuda-cudart-12-2 depends on cuda-toolkit-12-config-common.\n",
            "\n",
            "\u001b[1mdpkg:\u001b[0m error processing package cuda-toolkit-12-config-common (--purge):\n",
            " dependency problems - not removing\n",
            "Errors were encountered while processing:\n",
            " cuda-toolkit-12-config-common\n",
            "\u001b[1mdpkg:\u001b[0m dependency problems prevent removal of cuda-toolkit-config-common:\n",
            " libnvjpeg-12-2 depends on cuda-toolkit-config-common.\n",
            " libnvjitlink-12-2 depends on cuda-toolkit-config-common.\n",
            " libnpp-12-2 depends on cuda-toolkit-config-common.\n",
            " libcusparse-12-2 depends on cuda-toolkit-config-common.\n",
            " libcusolver-12-2 depends on cuda-toolkit-config-common.\n",
            " libcurand-12-2 depends on cuda-toolkit-config-common.\n",
            " libcufile-12-2 depends on cuda-toolkit-config-common.\n",
            " libcufft-12-2 depends on cuda-toolkit-config-common.\n",
            " libcublas-12-2 depends on cuda-toolkit-config-common.\n",
            " cuda-opencl-12-2 depends on cuda-toolkit-config-common.\n",
            " cuda-cudart-12-2 depends on cuda-toolkit-config-common.\n",
            "\n",
            "\u001b[1mdpkg:\u001b[0m error processing package cuda-toolkit-config-common (--purge):\n",
            " dependency problems - not removing\n",
            "Errors were encountered while processing:\n",
            " cuda-toolkit-config-common\n",
            "Reading package lists... Done\n",
            "Building dependency tree... Done\n",
            "Reading state information... Done\n",
            "Note, selecting 'cuda-cudart-dev-12-2' for glob 'cuda-*'\n",
            "Note, selecting 'cuda-opencl-12-2' for glob 'cuda-*'\n",
            "Note, selecting 'cuda-toolkit-12-2-config-common' for glob 'cuda-*'\n",
            "Note, selecting 'cuda-cuobjdump-12-2' for glob 'cuda-*'\n",
            "Note, selecting 'cuda-toolkit-config-common' for glob 'cuda-*'\n",
            "Note, selecting 'cuda-driver-dev-12-2' for glob 'cuda-*'\n",
            "Note, selecting 'cuda-nvrtc-12-2' for glob 'cuda-*'\n",
            "Note, selecting 'cuda-drivers-fabricmanager-450' for glob 'cuda-*'\n",
            "Note, selecting 'cuda-drivers-fabricmanager-460' for glob 'cuda-*'\n",
            "Note, selecting 'cuda-drivers-fabricmanager-470' for glob 'cuda-*'\n",
            "Note, selecting 'cuda-drivers-fabricmanager-510' for glob 'cuda-*'\n",
            "Note, selecting 'cuda-drivers-fabricmanager-515' for glob 'cuda-*'\n",
            "Note, selecting 'cuda-drivers-fabricmanager-525' for glob 'cuda-*'\n",
            "Note, selecting 'cuda-drivers-fabricmanager-535' for glob 'cuda-*'\n",
            "Note, selecting 'cuda-drivers-fabricmanager-550' for glob 'cuda-*'\n",
            "Note, selecting 'cuda-thrust-12-2' for glob 'cuda-*'\n",
            "Note, selecting 'cuda-drivers-fabricmanager' for glob 'cuda-*'\n",
            "Note, selecting 'cuda-cuxxfilt-12-2' for glob 'cuda-*'\n",
            "Note, selecting 'cuda-cccl-12-2' for glob 'cuda-*'\n",
            "Note, selecting 'cuda-cupti-12-2' for glob 'cuda-*'\n",
            "Note, selecting 'cuda-nvprune-12-2' for glob 'cuda-*'\n",
            "Note, selecting 'cuda-license-10-1' for glob 'cuda-*'\n",
            "Note, selecting 'cuda-license-10-2' for glob 'cuda-*'\n",
            "Note, selecting 'cuda-nvvm-12-2' for glob 'cuda-*'\n",
            "Note, selecting 'cuda-cudart-12-2' for glob 'cuda-*'\n",
            "Note, selecting 'cuda-crt-12-2' for glob 'cuda-*'\n",
            "Note, selecting 'cuda-nvcc-12-2' for glob 'cuda-*'\n",
            "Note, selecting 'cuda-compiler-12-2' for glob 'cuda-*'\n",
            "Note, selecting 'cuda-toolkit-12-config-common' for glob 'cuda-*'\n",
            "Note, selecting 'cuda-cub-12-2' for glob 'cuda-*'\n",
            "Package 'cuda-license-10-1' is not installed, so not removed\n",
            "Package 'cuda-license-10-2' is not installed, so not removed\n",
            "Note, selecting 'cuda-cccl-12-2' instead of 'cuda-cub-12-2'\n",
            "Note, selecting 'cuda-cccl-12-2' instead of 'cuda-thrust-12-2'\n",
            "Package 'cuda-drivers-fabricmanager-515' is not installed, so not removed\n",
            "Package 'cuda-drivers-fabricmanager-550' is not installed, so not removed\n",
            "Package 'cuda-drivers-fabricmanager-450' is not installed, so not removed\n",
            "Package 'cuda-drivers-fabricmanager-460' is not installed, so not removed\n",
            "Package 'cuda-drivers-fabricmanager-470' is not installed, so not removed\n",
            "Package 'cuda-drivers-fabricmanager-510' is not installed, so not removed\n",
            "Package 'cuda-drivers-fabricmanager-525' is not installed, so not removed\n",
            "Package 'cuda-drivers-fabricmanager-535' is not installed, so not removed\n",
            "Some packages could not be installed. This may mean that you have\n",
            "requested an impossible situation or if you are using the unstable\n",
            "distribution that some required packages have not yet been created\n",
            "or been moved out of Incoming.\n",
            "The following information may help to resolve the situation:\n",
            "\n",
            "The following packages have unmet dependencies:\n",
            " libcublas-12-2 : Depends: cuda-toolkit-config-common but it is not going to be installed\n",
            "                  Depends: cuda-toolkit-12-config-common but it is not going to be installed\n",
            "                  Depends: cuda-toolkit-12-2-config-common but it is not going to be installed\n",
            "E: Error, pkgProblemResolver::Resolve generated breaks, this may be caused by held packages.\n",
            "Reading package lists... Done\n",
            "Building dependency tree... Done\n",
            "Reading state information... Done\n",
            "The following packages will be REMOVED:\n",
            "  cuda-compiler-12-2 cuda-crt-12-2 cuda-cuobjdump-12-2 cuda-cupti-12-2 cuda-cuxxfilt-12-2\n",
            "  cuda-nvcc-12-2 cuda-nvprune-12-2 cuda-nvrtc-12-2 cuda-nvvm-12-2 cuda-opencl-12-2 libcufft-12-2\n",
            "  libcufft-dev-12-2 libcufile-12-2 libcufile-dev-12-2 libcurand-12-2 libcurand-dev-12-2\n",
            "  libcusolver-12-2 libcusolver-dev-12-2 libnvjitlink-12-2 libnvjitlink-dev-12-2 libnvjpeg-12-2\n",
            "  libnvjpeg-dev-12-2 nsight-compute-2023.2.2 ocl-icd-opencl-dev opencl-c-headers\n",
            "  opencl-clhpp-headers\n",
            "0 upgraded, 0 newly installed, 26 to remove and 37 not upgraded.\n",
            "After this operation, 3,169 MB disk space will be freed.\n",
            "(Reading database ... 121018 files and directories currently installed.)\n",
            "Removing cuda-compiler-12-2 (12.2.2-1) ...\n",
            "Removing cuda-nvcc-12-2 (12.2.140-1) ...\n",
            "Removing cuda-crt-12-2 (12.2.140-1) ...\n",
            "Removing cuda-cuobjdump-12-2 (12.2.140-1) ...\n",
            "Removing cuda-cupti-12-2 (12.2.142-1) ...\n",
            "Removing cuda-cuxxfilt-12-2 (12.2.140-1) ...\n",
            "Removing cuda-nvprune-12-2 (12.2.140-1) ...\n",
            "Removing cuda-nvrtc-12-2 (12.2.140-1) ...\n",
            "Removing cuda-nvvm-12-2 (12.2.140-1) ...\n",
            "Removing cuda-opencl-12-2 (12.2.140-1) ...\n",
            "Removing libcufft-dev-12-2 (11.0.8.103-1) ...\n",
            "Removing libcufft-12-2 (11.0.8.103-1) ...\n",
            "Removing libcufile-dev-12-2 (1.7.2.10-1) ...\n",
            "Removing libcufile-12-2 (1.7.2.10-1) ...\n",
            "Removing alternatives\n",
            "Removing libcurand-dev-12-2 (10.3.3.141-1) ...\n",
            "Removing libcurand-12-2 (10.3.3.141-1) ...\n",
            "Removing libcusolver-dev-12-2 (11.5.2.141-1) ...\n",
            "Removing libcusolver-12-2 (11.5.2.141-1) ...\n",
            "Removing libnvjitlink-dev-12-2 (12.2.140-1) ...\n",
            "Removing libnvjitlink-12-2 (12.2.140-1) ...\n",
            "Removing libnvjpeg-dev-12-2 (12.2.2.4-1) ...\n",
            "Removing libnvjpeg-12-2 (12.2.2.4-1) ...\n",
            "Removing nsight-compute-2023.2.2 (2023.2.2.3-1) ...\n",
            "\u001b[1mdpkg:\u001b[0m \u001b[1;33mwarning:\u001b[0m while removing nsight-compute-2023.2.2, directory '/opt/nvidia' not empty so not removed\n",
            "Removing ocl-icd-opencl-dev:amd64 (2.2.14-3) ...\n",
            "Removing opencl-clhpp-headers (3.0~2.0.15-1ubuntu1) ...\n",
            "Removing opencl-c-headers (3.0~2022.01.04-1) ...\n",
            "Processing triggers for libc-bin (2.35-0ubuntu3.4) ...\n",
            "/sbin/ldconfig.real: /usr/local/lib/libtbbmalloc_proxy.so.2 is not a symbolic link\n",
            "\n",
            "/sbin/ldconfig.real: /usr/local/lib/libtbbbind_2_5.so.3 is not a symbolic link\n",
            "\n",
            "/sbin/ldconfig.real: /usr/local/lib/libtbbmalloc.so.2 is not a symbolic link\n",
            "\n",
            "/sbin/ldconfig.real: /usr/local/lib/libtbbbind.so.3 is not a symbolic link\n",
            "\n",
            "/sbin/ldconfig.real: /usr/local/lib/libtbbbind_2_0.so.3 is not a symbolic link\n",
            "\n",
            "/sbin/ldconfig.real: /usr/local/lib/libtbb.so.12 is not a symbolic link\n",
            "\n",
            "Get:1 https://cloud.r-project.org/bin/linux/ubuntu jammy-cran40/ InRelease [3,626 B]\n",
            "Hit:2 http://archive.ubuntu.com/ubuntu jammy InRelease\n",
            "Get:3 http://security.ubuntu.com/ubuntu jammy-security InRelease [110 kB]\n",
            "Get:4 http://archive.ubuntu.com/ubuntu jammy-updates InRelease [119 kB]\n",
            "Hit:5 http://archive.ubuntu.com/ubuntu jammy-backports InRelease\n",
            "Hit:6 https://ppa.launchpadcontent.net/c2d4u.team/c2d4u4.0+/ubuntu jammy InRelease\n",
            "Hit:7 https://ppa.launchpadcontent.net/deadsnakes/ppa/ubuntu jammy InRelease\n",
            "Hit:8 https://ppa.launchpadcontent.net/graphics-drivers/ppa/ubuntu jammy InRelease\n",
            "Get:9 http://archive.ubuntu.com/ubuntu jammy-updates/main amd64 Packages [2,118 kB]\n",
            "Hit:10 https://ppa.launchpadcontent.net/ubuntugis/ppa/ubuntu jammy InRelease\n",
            "Fetched 2,351 kB in 1s (1,752 kB/s)\n",
            "Reading package lists... Done\n"
          ]
        }
      ]
    },
    {
      "cell_type": "code",
      "source": [
        "!wget https://developer.nvidia.com/compute/cuda/9.2/Prod/local_installers/cuda-repo-ubuntu1604-9-2-local_9.2.88-1_amd64 -O cuda-repo-ubuntu1604-9-2-local_9.2.88-1_amd64.deb\n",
        "!dpkg -i cuda-repo-ubuntu1604-9-2-local_9.2.88-1_amd64.deb\n",
        "!apt-key add /var/cuda-repo-9-2-local/7fa2af80.pub\n",
        "!apt-get update\n",
        "!apt-get install cuda-9.2"
      ],
      "metadata": {
        "colab": {
          "base_uri": "https://localhost:8080/"
        },
        "id": "9jr3fmQgxolQ",
        "outputId": "790291c2-6c49-44c3-b645-8140a5ca96b5"
      },
      "execution_count": null,
      "outputs": [
        {
          "output_type": "stream",
          "name": "stdout",
          "text": [
            "--2024-05-18 08:17:29--  https://developer.nvidia.com/compute/cuda/9.2/Prod/local_installers/cuda-repo-ubuntu1604-9-2-local_9.2.88-1_amd64\n",
            "Resolving developer.nvidia.com (developer.nvidia.com)... 152.195.19.142\n",
            "Connecting to developer.nvidia.com (developer.nvidia.com)|152.195.19.142|:443... connected.\n",
            "HTTP request sent, awaiting response... 302 Found\n",
            "Location: https://developer.nvidia.com/downloads/compute/cuda/9.2/prod/local_installers/cuda-repo-ubuntu1604-9-2-local_9.2.88-1_amd64 [following]\n",
            "--2024-05-18 08:17:29--  https://developer.nvidia.com/downloads/compute/cuda/9.2/prod/local_installers/cuda-repo-ubuntu1604-9-2-local_9.2.88-1_amd64\n",
            "Reusing existing connection to developer.nvidia.com:443.\n",
            "HTTP request sent, awaiting response... 302 Found\n",
            "Location: https://developer.download.nvidia.com/compute/cuda/9.2/secure/Prod/local_installers/cuda-repo-ubuntu1604-9-2-local_9.2.88-1_amd64.deb?gkrHe15C-t795IZ9f-5c2tMDJURav_wUBFzBBUHXbX7H4QwkefDXFHUsDa95sc7m-UxtqsmvWeFYfZjUlfoypL13fJ8S2IHQlrQVj5vg7obM3bG7RVJS0HY4RxzEJ1AN5P27cFNrXkTSUDylY0e_mwTDhtgug0fElHg8f_FRyeotnLGdZinvwd6f9A7PNcI2i2Owg-aTPXg3hN-rNqA= [following]\n",
            "--2024-05-18 08:17:29--  https://developer.download.nvidia.com/compute/cuda/9.2/secure/Prod/local_installers/cuda-repo-ubuntu1604-9-2-local_9.2.88-1_amd64.deb?gkrHe15C-t795IZ9f-5c2tMDJURav_wUBFzBBUHXbX7H4QwkefDXFHUsDa95sc7m-UxtqsmvWeFYfZjUlfoypL13fJ8S2IHQlrQVj5vg7obM3bG7RVJS0HY4RxzEJ1AN5P27cFNrXkTSUDylY0e_mwTDhtgug0fElHg8f_FRyeotnLGdZinvwd6f9A7PNcI2i2Owg-aTPXg3hN-rNqA=\n",
            "Resolving developer.download.nvidia.com (developer.download.nvidia.com)... 152.195.19.142\n",
            "Connecting to developer.download.nvidia.com (developer.download.nvidia.com)|152.195.19.142|:443... connected.\n",
            "HTTP request sent, awaiting response... 200 OK\n",
            "Length: 1267391958 (1.2G) [application/x-deb]\n",
            "Saving to: ‘cuda-repo-ubuntu1604-9-2-local_9.2.88-1_amd64.deb’\n",
            "\n",
            "cuda-repo-ubuntu160 100%[===================>]   1.18G   218MB/s    in 7.8s    \n",
            "\n",
            "2024-05-18 08:17:37 (155 MB/s) - ‘cuda-repo-ubuntu1604-9-2-local_9.2.88-1_amd64.deb’ saved [1267391958/1267391958]\n",
            "\n",
            "Selecting previously unselected package cuda-repo-ubuntu1604-9-2-local.\n",
            "(Reading database ... 119805 files and directories currently installed.)\n",
            "Preparing to unpack cuda-repo-ubuntu1604-9-2-local_9.2.88-1_amd64.deb ...\n",
            "Unpacking cuda-repo-ubuntu1604-9-2-local (9.2.88-1) ...\n",
            "Setting up cuda-repo-ubuntu1604-9-2-local (9.2.88-1) ...\n",
            "\n",
            "The public CUDA GPG key does not appear to be installed.\n",
            "To install the key, run this command:\n",
            "sudo apt-key add /var/cuda-repo-9-2-local/7fa2af80.pub\n",
            "\n",
            "Warning: apt-key is deprecated. Manage keyring files in trusted.gpg.d instead (see apt-key(8)).\n",
            "OK\n",
            "Get:1 file:/var/cuda-repo-9-2-local  InRelease\n",
            "Ign:1 file:/var/cuda-repo-9-2-local  InRelease\n",
            "Get:2 file:/var/cuda-repo-9-2-local  Release [574 B]\n",
            "Get:2 file:/var/cuda-repo-9-2-local  Release [574 B]\n",
            "Get:3 file:/var/cuda-repo-9-2-local  Release.gpg [819 B]\n",
            "Get:3 file:/var/cuda-repo-9-2-local  Release.gpg [819 B]\n",
            "Hit:4 http://archive.ubuntu.com/ubuntu jammy InRelease\n",
            "Hit:5 http://security.ubuntu.com/ubuntu jammy-security InRelease\n",
            "Hit:6 http://archive.ubuntu.com/ubuntu jammy-updates InRelease\n",
            "Hit:7 http://archive.ubuntu.com/ubuntu jammy-backports InRelease\n",
            "Hit:8 https://cloud.r-project.org/bin/linux/ubuntu jammy-cran40/ InRelease\n",
            "Get:9 file:/var/cuda-repo-9-2-local  Packages [18.7 kB]\n",
            "Hit:10 https://ppa.launchpadcontent.net/c2d4u.team/c2d4u4.0+/ubuntu jammy InRelease\n",
            "Hit:11 https://ppa.launchpadcontent.net/deadsnakes/ppa/ubuntu jammy InRelease\n",
            "Hit:12 https://ppa.launchpadcontent.net/graphics-drivers/ppa/ubuntu jammy InRelease\n",
            "Hit:13 https://ppa.launchpadcontent.net/ubuntugis/ppa/ubuntu jammy InRelease\n",
            "Reading package lists... Done\n",
            "W: file:/var/cuda-repo-9-2-local/Release.gpg: Key is stored in legacy trusted.gpg keyring (/etc/apt/trusted.gpg), see the DEPRECATION section in apt-key(8) for details.\n",
            "Reading package lists... Done\n",
            "Building dependency tree... Done\n",
            "Reading state information... Done\n",
            "Note, selecting 'libcuda-9.2-1' for regex 'cuda-9.2'\n",
            "Note, selecting 'cuda-9-2' for regex 'cuda-9.2'\n",
            "Some packages could not be installed. This may mean that you have\n",
            "requested an impossible situation or if you are using the unstable\n",
            "distribution that some required packages have not yet been created\n",
            "or been moved out of Incoming.\n",
            "The following information may help to resolve the situation:\n",
            "\n",
            "The following packages have unmet dependencies:\n",
            " nvidia-396 : Depends: lib32gcc1 but it is not installable\n",
            "              Depends: xorg-video-abi-11 but it is not installable or\n",
            "                       xorg-video-abi-12 but it is not installable or\n",
            "                       xorg-video-abi-13 but it is not installable or\n",
            "                       xorg-video-abi-14 but it is not installable or\n",
            "                       xorg-video-abi-15 but it is not installable or\n",
            "                       xorg-video-abi-18 but it is not installable or\n",
            "                       xorg-video-abi-19 but it is not installable or\n",
            "                       xorg-video-abi-20 but it is not installable or\n",
            "                       xorg-video-abi-23 but it is not installable\n",
            "              Recommends: nvidia-prime (>= 0.5) but it is not going to be installed or\n",
            "                          bumblebee but it is not going to be installed\n",
            "E: Unable to correct problems, you have held broken packages.\n"
          ]
        }
      ]
    },
    {
      "cell_type": "code",
      "source": [
        "!nvcc --version"
      ],
      "metadata": {
        "colab": {
          "base_uri": "https://localhost:8080/"
        },
        "id": "kRWjsrXcxq_F",
        "outputId": "c3883217-f8da-4336-9c4a-29d319fcc77a"
      },
      "execution_count": null,
      "outputs": [
        {
          "output_type": "stream",
          "name": "stdout",
          "text": [
            "/bin/bash: line 1: nvcc: command not found\n"
          ]
        }
      ]
    },
    {
      "cell_type": "code",
      "source": [
        "!pip install git+git://github.com/andreinechaev/nvcc4jupyter.git"
      ],
      "metadata": {
        "colab": {
          "base_uri": "https://localhost:8080/"
        },
        "id": "7uoMDV-kxtAY",
        "outputId": "e523be15-a422-4564-907b-3951372c8b3c"
      },
      "execution_count": null,
      "outputs": [
        {
          "output_type": "stream",
          "name": "stdout",
          "text": [
            "Collecting git+git://github.com/andreinechaev/nvcc4jupyter.git\n",
            "  Cloning git://github.com/andreinechaev/nvcc4jupyter.git to /tmp/pip-req-build-1jqbrkz6\n",
            "  Running command git clone --filter=blob:none --quiet git://github.com/andreinechaev/nvcc4jupyter.git /tmp/pip-req-build-1jqbrkz6\n",
            "  fatal: unable to connect to github.com:\n",
            "  github.com[0: 140.82.112.4]: errno=Connection timed out\n",
            "\n",
            "  \u001b[1;31merror\u001b[0m: \u001b[1msubprocess-exited-with-error\u001b[0m\n",
            "  \n",
            "  \u001b[31m×\u001b[0m \u001b[32mgit clone --\u001b[0m\u001b[32mfilter\u001b[0m\u001b[32m=\u001b[0m\u001b[32mblob\u001b[0m\u001b[32m:none --quiet git:\u001b[0m\u001b[32m/\u001b[0m\u001b[32m/github.com/andreinechaev/\u001b[0m\u001b[32mnvcc4jupyter.git\u001b[0m\u001b[32m \u001b[0m\u001b[32m/tmp/\u001b[0m\u001b[32mpip-req-build-1jqbrkz6\u001b[0m did not run successfully.\n",
            "  \u001b[31m│\u001b[0m exit code: \u001b[1;36m128\u001b[0m\n",
            "  \u001b[31m╰─>\u001b[0m See above for output.\n",
            "  \n",
            "  \u001b[1;35mnote\u001b[0m: This error originates from a subprocess, and is likely not a problem with pip.\n",
            "\u001b[1;31merror\u001b[0m: \u001b[1msubprocess-exited-with-error\u001b[0m\n",
            "\n",
            "\u001b[31m×\u001b[0m \u001b[32mgit clone --\u001b[0m\u001b[32mfilter\u001b[0m\u001b[32m=\u001b[0m\u001b[32mblob\u001b[0m\u001b[32m:none --quiet git:\u001b[0m\u001b[32m/\u001b[0m\u001b[32m/github.com/andreinechaev/\u001b[0m\u001b[32mnvcc4jupyter.git\u001b[0m\u001b[32m \u001b[0m\u001b[32m/tmp/\u001b[0m\u001b[32mpip-req-build-1jqbrkz6\u001b[0m did not run successfully.\n",
            "\u001b[31m│\u001b[0m exit code: \u001b[1;36m128\u001b[0m\n",
            "\u001b[31m╰─>\u001b[0m See above for output.\n",
            "\n",
            "\u001b[1;35mnote\u001b[0m: This error originates from a subprocess, and is likely not a problem with pip.\n"
          ]
        }
      ]
    },
    {
      "cell_type": "code",
      "source": [
        "%load_ext nvcc_plugin"
      ],
      "metadata": {
        "colab": {
          "base_uri": "https://localhost:8080/",
          "height": 487
        },
        "id": "poYwODbkxvF5",
        "outputId": "63a96aa0-ed1f-4f76-b4b5-bf48a9522814"
      },
      "execution_count": null,
      "outputs": [
        {
          "output_type": "error",
          "ename": "ModuleNotFoundError",
          "evalue": "No module named 'nvcc_plugin'",
          "traceback": [
            "\u001b[0;31m---------------------------------------------------------------------------\u001b[0m",
            "\u001b[0;31mModuleNotFoundError\u001b[0m                       Traceback (most recent call last)",
            "\u001b[0;32m<ipython-input-5-5df49c27db81>\u001b[0m in \u001b[0;36m<cell line: 1>\u001b[0;34m()\u001b[0m\n\u001b[0;32m----> 1\u001b[0;31m \u001b[0mget_ipython\u001b[0m\u001b[0;34m(\u001b[0m\u001b[0;34m)\u001b[0m\u001b[0;34m.\u001b[0m\u001b[0mrun_line_magic\u001b[0m\u001b[0;34m(\u001b[0m\u001b[0;34m'load_ext'\u001b[0m\u001b[0;34m,\u001b[0m \u001b[0;34m'nvcc_plugin'\u001b[0m\u001b[0;34m)\u001b[0m\u001b[0;34m\u001b[0m\u001b[0;34m\u001b[0m\u001b[0m\n\u001b[0m",
            "\u001b[0;32m/usr/local/lib/python3.10/dist-packages/IPython/core/interactiveshell.py\u001b[0m in \u001b[0;36mrun_line_magic\u001b[0;34m(self, magic_name, line, _stack_depth)\u001b[0m\n\u001b[1;32m   2416\u001b[0m                 \u001b[0mkwargs\u001b[0m\u001b[0;34m[\u001b[0m\u001b[0;34m'local_ns'\u001b[0m\u001b[0;34m]\u001b[0m \u001b[0;34m=\u001b[0m \u001b[0mself\u001b[0m\u001b[0;34m.\u001b[0m\u001b[0mget_local_scope\u001b[0m\u001b[0;34m(\u001b[0m\u001b[0mstack_depth\u001b[0m\u001b[0;34m)\u001b[0m\u001b[0;34m\u001b[0m\u001b[0;34m\u001b[0m\u001b[0m\n\u001b[1;32m   2417\u001b[0m             \u001b[0;32mwith\u001b[0m \u001b[0mself\u001b[0m\u001b[0;34m.\u001b[0m\u001b[0mbuiltin_trap\u001b[0m\u001b[0;34m:\u001b[0m\u001b[0;34m\u001b[0m\u001b[0;34m\u001b[0m\u001b[0m\n\u001b[0;32m-> 2418\u001b[0;31m                 \u001b[0mresult\u001b[0m \u001b[0;34m=\u001b[0m \u001b[0mfn\u001b[0m\u001b[0;34m(\u001b[0m\u001b[0;34m*\u001b[0m\u001b[0margs\u001b[0m\u001b[0;34m,\u001b[0m \u001b[0;34m**\u001b[0m\u001b[0mkwargs\u001b[0m\u001b[0;34m)\u001b[0m\u001b[0;34m\u001b[0m\u001b[0;34m\u001b[0m\u001b[0m\n\u001b[0m\u001b[1;32m   2419\u001b[0m             \u001b[0;32mreturn\u001b[0m \u001b[0mresult\u001b[0m\u001b[0;34m\u001b[0m\u001b[0;34m\u001b[0m\u001b[0m\n\u001b[1;32m   2420\u001b[0m \u001b[0;34m\u001b[0m\u001b[0m\n",
            "\u001b[0;32m<decorator-gen-57>\u001b[0m in \u001b[0;36mload_ext\u001b[0;34m(self, module_str)\u001b[0m\n",
            "\u001b[0;32m/usr/local/lib/python3.10/dist-packages/IPython/core/magic.py\u001b[0m in \u001b[0;36m<lambda>\u001b[0;34m(f, *a, **k)\u001b[0m\n\u001b[1;32m    185\u001b[0m     \u001b[0;31m# but it's overkill for just that one bit of state.\u001b[0m\u001b[0;34m\u001b[0m\u001b[0;34m\u001b[0m\u001b[0m\n\u001b[1;32m    186\u001b[0m     \u001b[0;32mdef\u001b[0m \u001b[0mmagic_deco\u001b[0m\u001b[0;34m(\u001b[0m\u001b[0marg\u001b[0m\u001b[0;34m)\u001b[0m\u001b[0;34m:\u001b[0m\u001b[0;34m\u001b[0m\u001b[0;34m\u001b[0m\u001b[0m\n\u001b[0;32m--> 187\u001b[0;31m         \u001b[0mcall\u001b[0m \u001b[0;34m=\u001b[0m \u001b[0;32mlambda\u001b[0m \u001b[0mf\u001b[0m\u001b[0;34m,\u001b[0m \u001b[0;34m*\u001b[0m\u001b[0ma\u001b[0m\u001b[0;34m,\u001b[0m \u001b[0;34m**\u001b[0m\u001b[0mk\u001b[0m\u001b[0;34m:\u001b[0m \u001b[0mf\u001b[0m\u001b[0;34m(\u001b[0m\u001b[0;34m*\u001b[0m\u001b[0ma\u001b[0m\u001b[0;34m,\u001b[0m \u001b[0;34m**\u001b[0m\u001b[0mk\u001b[0m\u001b[0;34m)\u001b[0m\u001b[0;34m\u001b[0m\u001b[0;34m\u001b[0m\u001b[0m\n\u001b[0m\u001b[1;32m    188\u001b[0m \u001b[0;34m\u001b[0m\u001b[0m\n\u001b[1;32m    189\u001b[0m         \u001b[0;32mif\u001b[0m \u001b[0mcallable\u001b[0m\u001b[0;34m(\u001b[0m\u001b[0marg\u001b[0m\u001b[0;34m)\u001b[0m\u001b[0;34m:\u001b[0m\u001b[0;34m\u001b[0m\u001b[0;34m\u001b[0m\u001b[0m\n",
            "\u001b[0;32m/usr/local/lib/python3.10/dist-packages/IPython/core/magics/extension.py\u001b[0m in \u001b[0;36mload_ext\u001b[0;34m(self, module_str)\u001b[0m\n\u001b[1;32m     31\u001b[0m         \u001b[0;32mif\u001b[0m \u001b[0;32mnot\u001b[0m \u001b[0mmodule_str\u001b[0m\u001b[0;34m:\u001b[0m\u001b[0;34m\u001b[0m\u001b[0;34m\u001b[0m\u001b[0m\n\u001b[1;32m     32\u001b[0m             \u001b[0;32mraise\u001b[0m \u001b[0mUsageError\u001b[0m\u001b[0;34m(\u001b[0m\u001b[0;34m'Missing module name.'\u001b[0m\u001b[0;34m)\u001b[0m\u001b[0;34m\u001b[0m\u001b[0;34m\u001b[0m\u001b[0m\n\u001b[0;32m---> 33\u001b[0;31m         \u001b[0mres\u001b[0m \u001b[0;34m=\u001b[0m \u001b[0mself\u001b[0m\u001b[0;34m.\u001b[0m\u001b[0mshell\u001b[0m\u001b[0;34m.\u001b[0m\u001b[0mextension_manager\u001b[0m\u001b[0;34m.\u001b[0m\u001b[0mload_extension\u001b[0m\u001b[0;34m(\u001b[0m\u001b[0mmodule_str\u001b[0m\u001b[0;34m)\u001b[0m\u001b[0;34m\u001b[0m\u001b[0;34m\u001b[0m\u001b[0m\n\u001b[0m\u001b[1;32m     34\u001b[0m \u001b[0;34m\u001b[0m\u001b[0m\n\u001b[1;32m     35\u001b[0m         \u001b[0;32mif\u001b[0m \u001b[0mres\u001b[0m \u001b[0;34m==\u001b[0m \u001b[0;34m'already loaded'\u001b[0m\u001b[0;34m:\u001b[0m\u001b[0;34m\u001b[0m\u001b[0;34m\u001b[0m\u001b[0m\n",
            "\u001b[0;32m/usr/local/lib/python3.10/dist-packages/IPython/core/extensions.py\u001b[0m in \u001b[0;36mload_extension\u001b[0;34m(self, module_str)\u001b[0m\n\u001b[1;32m     78\u001b[0m             \u001b[0;32mif\u001b[0m \u001b[0mmodule_str\u001b[0m \u001b[0;32mnot\u001b[0m \u001b[0;32min\u001b[0m \u001b[0msys\u001b[0m\u001b[0;34m.\u001b[0m\u001b[0mmodules\u001b[0m\u001b[0;34m:\u001b[0m\u001b[0;34m\u001b[0m\u001b[0;34m\u001b[0m\u001b[0m\n\u001b[1;32m     79\u001b[0m                 \u001b[0;32mwith\u001b[0m \u001b[0mprepended_to_syspath\u001b[0m\u001b[0;34m(\u001b[0m\u001b[0mself\u001b[0m\u001b[0;34m.\u001b[0m\u001b[0mipython_extension_dir\u001b[0m\u001b[0;34m)\u001b[0m\u001b[0;34m:\u001b[0m\u001b[0;34m\u001b[0m\u001b[0;34m\u001b[0m\u001b[0m\n\u001b[0;32m---> 80\u001b[0;31m                     \u001b[0mmod\u001b[0m \u001b[0;34m=\u001b[0m \u001b[0mimport_module\u001b[0m\u001b[0;34m(\u001b[0m\u001b[0mmodule_str\u001b[0m\u001b[0;34m)\u001b[0m\u001b[0;34m\u001b[0m\u001b[0;34m\u001b[0m\u001b[0m\n\u001b[0m\u001b[1;32m     81\u001b[0m                     \u001b[0;32mif\u001b[0m \u001b[0mmod\u001b[0m\u001b[0;34m.\u001b[0m\u001b[0m__file__\u001b[0m\u001b[0;34m.\u001b[0m\u001b[0mstartswith\u001b[0m\u001b[0;34m(\u001b[0m\u001b[0mself\u001b[0m\u001b[0;34m.\u001b[0m\u001b[0mipython_extension_dir\u001b[0m\u001b[0;34m)\u001b[0m\u001b[0;34m:\u001b[0m\u001b[0;34m\u001b[0m\u001b[0;34m\u001b[0m\u001b[0m\n\u001b[1;32m     82\u001b[0m                         print((\"Loading extensions from {dir} is deprecated. \"\n",
            "\u001b[0;32m/usr/lib/python3.10/importlib/__init__.py\u001b[0m in \u001b[0;36mimport_module\u001b[0;34m(name, package)\u001b[0m\n\u001b[1;32m    124\u001b[0m                 \u001b[0;32mbreak\u001b[0m\u001b[0;34m\u001b[0m\u001b[0;34m\u001b[0m\u001b[0m\n\u001b[1;32m    125\u001b[0m             \u001b[0mlevel\u001b[0m \u001b[0;34m+=\u001b[0m \u001b[0;36m1\u001b[0m\u001b[0;34m\u001b[0m\u001b[0;34m\u001b[0m\u001b[0m\n\u001b[0;32m--> 126\u001b[0;31m     \u001b[0;32mreturn\u001b[0m \u001b[0m_bootstrap\u001b[0m\u001b[0;34m.\u001b[0m\u001b[0m_gcd_import\u001b[0m\u001b[0;34m(\u001b[0m\u001b[0mname\u001b[0m\u001b[0;34m[\u001b[0m\u001b[0mlevel\u001b[0m\u001b[0;34m:\u001b[0m\u001b[0;34m]\u001b[0m\u001b[0;34m,\u001b[0m \u001b[0mpackage\u001b[0m\u001b[0;34m,\u001b[0m \u001b[0mlevel\u001b[0m\u001b[0;34m)\u001b[0m\u001b[0;34m\u001b[0m\u001b[0;34m\u001b[0m\u001b[0m\n\u001b[0m\u001b[1;32m    127\u001b[0m \u001b[0;34m\u001b[0m\u001b[0m\n\u001b[1;32m    128\u001b[0m \u001b[0;34m\u001b[0m\u001b[0m\n",
            "\u001b[0;32m/usr/lib/python3.10/importlib/_bootstrap.py\u001b[0m in \u001b[0;36m_gcd_import\u001b[0;34m(name, package, level)\u001b[0m\n",
            "\u001b[0;32m/usr/lib/python3.10/importlib/_bootstrap.py\u001b[0m in \u001b[0;36m_find_and_load\u001b[0;34m(name, import_)\u001b[0m\n",
            "\u001b[0;32m/usr/lib/python3.10/importlib/_bootstrap.py\u001b[0m in \u001b[0;36m_find_and_load_unlocked\u001b[0;34m(name, import_)\u001b[0m\n",
            "\u001b[0;31mModuleNotFoundError\u001b[0m: No module named 'nvcc_plugin'",
            "",
            "\u001b[0;31m---------------------------------------------------------------------------\u001b[0;32m\nNOTE: If your import is failing due to a missing package, you can\nmanually install dependencies using either !pip or !apt.\n\nTo view examples of installing some common dependencies, click the\n\"Open Examples\" button below.\n\u001b[0;31m---------------------------------------------------------------------------\u001b[0m\n"
          ],
          "errorDetails": {
            "actions": [
              {
                "action": "open_url",
                "actionText": "Open Examples",
                "url": "/notebooks/snippets/importing_libraries.ipynb"
              }
            ]
          }
        }
      ]
    },
    {
      "cell_type": "markdown",
      "source": [
        "Reference: https://colab.research.google.com/github/hussain0048/C-Plus-Plus/blob/master/Basic_of_C%2B%2B.ipynb"
      ],
      "metadata": {
        "id": "IgOqk6oJvz3c"
      }
    },
    {
      "cell_type": "markdown",
      "source": [
        "To see color coding of cpp program comment out `%%writefile filename.cpp` line. To execute this cell make this line active back again."
      ],
      "metadata": {
        "id": "nGz7BXynB_bm"
      }
    },
    {
      "cell_type": "markdown",
      "source": [
        "# 1.Hello World"
      ],
      "metadata": {
        "id": "Lz7XS3Uhyxje"
      }
    },
    {
      "cell_type": "markdown",
      "source": [
        "To execute cpp in Google Colab we need to create separate program file and then execute it. For this we'd need g++."
      ],
      "metadata": {
        "id": "tj1KWfAfzj_Q"
      }
    },
    {
      "cell_type": "code",
      "source": [
        "!apt-get -qq install g++"
      ],
      "metadata": {
        "id": "4TXKkJctvcu-"
      },
      "execution_count": null,
      "outputs": []
    },
    {
      "cell_type": "markdown",
      "source": [
        "by `%%writefile program_name.cpp` we create file with given text"
      ],
      "metadata": {
        "id": "bD_68EgyztwL"
      }
    },
    {
      "cell_type": "code",
      "execution_count": null,
      "metadata": {
        "colab": {
          "base_uri": "https://localhost:8080/"
        },
        "id": "PBfq2XIevPEX",
        "outputId": "2a85333d-45cb-4fc6-e05e-fc77c14b241f"
      },
      "outputs": [
        {
          "output_type": "stream",
          "name": "stdout",
          "text": [
            "Overwriting helloworld.cpp\n"
          ]
        }
      ],
      "source": [
        "%%writefile helloworld.cpp\n",
        "#include <iostream>\n",
        "\n",
        "int main(){\n",
        "    std::cout << \"Hello World\";\n",
        "    return 0;\n",
        "}"
      ]
    },
    {
      "cell_type": "code",
      "source": [
        "! g++ helloworld.cpp -o helloProgram"
      ],
      "metadata": {
        "id": "BDr_tTbYyCZn"
      },
      "execution_count": null,
      "outputs": []
    },
    {
      "cell_type": "code",
      "source": [
        "! ./helloProgram"
      ],
      "metadata": {
        "colab": {
          "base_uri": "https://localhost:8080/"
        },
        "id": "UUTfHvAEyqiF",
        "outputId": "a6e785a8-ca84-47ab-955d-105582009bd0"
      },
      "execution_count": null,
      "outputs": [
        {
          "output_type": "stream",
          "name": "stdout",
          "text": [
            "Hello World"
          ]
        }
      ]
    },
    {
      "cell_type": "markdown",
      "source": [
        "# 2.Comments"
      ],
      "metadata": {
        "id": "lsd_JcB70LIt"
      }
    },
    {
      "cell_type": "markdown",
      "source": [],
      "metadata": {
        "id": "6kzv8IJY0bd5"
      }
    },
    {
      "cell_type": "markdown",
      "source": [
        "Despite the fact we have sdfdf program is compiled properly due to comments\n",
        "\n",
        "multiple lines: `/* */`\n",
        "\n",
        "single line: `//`"
      ],
      "metadata": {
        "id": "BNY8jaMO0dDE"
      }
    },
    {
      "cell_type": "code",
      "source": [
        "%%writefile comments.cpp\n",
        "/* hellow wors\n",
        "sdfdf\n",
        "*/\n",
        "#include <iostream>\n",
        "using namespace std; // it used for explaination\n",
        "\n",
        "int main() {\n",
        "  cout << \"Goodbye, World!\" << std::endl;\n",
        "  return 0;\n",
        "}"
      ],
      "metadata": {
        "colab": {
          "base_uri": "https://localhost:8080/"
        },
        "id": "GXkB5AXm0MQC",
        "outputId": "02b18d18-c534-4583-f46b-a8301ae633db"
      },
      "execution_count": null,
      "outputs": [
        {
          "output_type": "stream",
          "name": "stdout",
          "text": [
            "Writing comments.cpp\n"
          ]
        }
      ]
    },
    {
      "cell_type": "code",
      "source": [
        "! g++ comments.cpp -o commentsProgram"
      ],
      "metadata": {
        "id": "fqk_jPUk0RSS"
      },
      "execution_count": null,
      "outputs": []
    },
    {
      "cell_type": "code",
      "source": [
        "! ./commentsProgram"
      ],
      "metadata": {
        "colab": {
          "base_uri": "https://localhost:8080/"
        },
        "id": "O35KyWpp0X3e",
        "outputId": "ecfc8f84-9799-4fca-92e6-4e2340de6953"
      },
      "execution_count": null,
      "outputs": [
        {
          "output_type": "stream",
          "name": "stdout",
          "text": [
            "Goodbye, World!\n"
          ]
        }
      ]
    },
    {
      "cell_type": "markdown",
      "source": [
        "# 3.C++ User Input"
      ],
      "metadata": {
        "id": "jTVPTJ0V3wzd"
      }
    },
    {
      "cell_type": "code",
      "source": [
        "%%writefile userInput.cpp\n",
        "#include <iostream>\n",
        "using namespace std;\n",
        "\n",
        "int main() {\n",
        "  int x=0;\n",
        "cout << \"Type in a number: \";\n",
        "cin >> x;\n",
        "cout << \"Your number is \" << x;\n",
        "}"
      ],
      "metadata": {
        "colab": {
          "base_uri": "https://localhost:8080/"
        },
        "id": "8vLILVRx3zcW",
        "outputId": "8fb4481a-4f61-4cdb-e7fc-d2e0f83bed78"
      },
      "execution_count": null,
      "outputs": [
        {
          "output_type": "stream",
          "name": "stdout",
          "text": [
            "Overwriting userInput.cpp\n"
          ]
        }
      ]
    },
    {
      "cell_type": "code",
      "source": [
        "! g++ userInput.cpp -o userInputProgram"
      ],
      "metadata": {
        "id": "bity_HHj4Pls"
      },
      "execution_count": null,
      "outputs": []
    },
    {
      "cell_type": "code",
      "source": [
        "! ./userInputProgram"
      ],
      "metadata": {
        "colab": {
          "base_uri": "https://localhost:8080/"
        },
        "id": "J-v_ipq56Of8",
        "outputId": "a1186e4d-7c72-4f42-aa79-bb857a4ad623"
      },
      "execution_count": null,
      "outputs": [
        {
          "output_type": "stream",
          "name": "stdout",
          "text": [
            "Type in a number: 2-\n",
            "Your number is 2"
          ]
        }
      ]
    },
    {
      "cell_type": "markdown",
      "source": [
        "# 4.Variables and Types"
      ],
      "metadata": {
        "id": "WKNpbExHhLSu"
      }
    },
    {
      "cell_type": "markdown",
      "source": [
        "## 4.1.Numbers"
      ],
      "metadata": {
        "id": "7_VYrNn3km19"
      }
    },
    {
      "cell_type": "markdown",
      "source": [
        "* ***int*** includes numbers from $-2.1 B$ to $2.1 B$\n",
        "* ***unasigned*** int includes from $0$ to $4.2 B$\n",
        "* ***float insludes*** from $-3.4 * 10^{-38}$ to $3.4 * 10^{38}$\n",
        "* ***double includes*** from $1.7 * 10^{-308}$ to $1.7 * 10^{308}$\n",
        "* ***long double includes*** from $1.7 * 10^{-4932}$ to $1.7 * 10^{4932}$\n",
        "* ***char*** includes from $0$ to $255$\n",
        "\n",
        "---\n",
        "\n",
        "\n"
      ],
      "metadata": {
        "id": "cZcCDFmKiXaN"
      }
    },
    {
      "cell_type": "code",
      "source": [
        "%%writefile vars.cpp\n",
        "#include <iostream>\n",
        "using namespace std;\n",
        "\n",
        "int main() {\n",
        "    int a = 5;\n",
        "    float b = 4.5;\n",
        "    double c = 10.23;\n",
        "    double sum;\n",
        "    double multiplication;\n",
        "\n",
        "    sum = a + b + c;\n",
        "    multiplication = a * b * c;\n",
        "\n",
        "    cout << \"Your sum is \" << sum << \" and you multiplication is \" << multiplication;\n",
        "}"
      ],
      "metadata": {
        "colab": {
          "base_uri": "https://localhost:8080/"
        },
        "id": "EbDMPdwlhRGK",
        "outputId": "d901adba-9bb5-4e04-8793-483568b0e532"
      },
      "execution_count": null,
      "outputs": [
        {
          "output_type": "stream",
          "name": "stdout",
          "text": [
            "Overwriting vars.cpp\n"
          ]
        }
      ]
    },
    {
      "cell_type": "code",
      "source": [
        "! g++ vars.cpp -o varsProgram"
      ],
      "metadata": {
        "id": "rQvQ3lp_h98F"
      },
      "execution_count": null,
      "outputs": []
    },
    {
      "cell_type": "code",
      "source": [
        "! ./varsProgram"
      ],
      "metadata": {
        "colab": {
          "base_uri": "https://localhost:8080/"
        },
        "id": "UJULf5KliIya",
        "outputId": "264bda70-e9cb-4a72-95d5-af9b03824c05"
      },
      "execution_count": null,
      "outputs": [
        {
          "output_type": "stream",
          "name": "stdout",
          "text": [
            "Your sum is 19.73 and you multiplication is 230.175"
          ]
        }
      ]
    },
    {
      "cell_type": "markdown",
      "source": [
        "## 4.2.Strings"
      ],
      "metadata": {
        "id": "QvFx3r8RkvHz"
      }
    },
    {
      "cell_type": "markdown",
      "source": [
        "For strings we simply use `string` data type. Here we need to define text with only duoble quotes, not single ones."
      ],
      "metadata": {
        "id": "0epCCwMfk238"
      }
    },
    {
      "cell_type": "code",
      "source": [
        "%%writefile strings.cpp\n",
        "#include <iostream>\n",
        "using namespace std;\n",
        "\n",
        "int main() {\n",
        "  string text = \"Once upon a time, there was a huge ogre named Shrek...\";\n",
        "  cout << text;\n",
        "}"
      ],
      "metadata": {
        "colab": {
          "base_uri": "https://localhost:8080/"
        },
        "id": "422v51MvkwmY",
        "outputId": "88583291-5e2f-44ca-ffaa-14bb21aa2710"
      },
      "execution_count": null,
      "outputs": [
        {
          "output_type": "stream",
          "name": "stdout",
          "text": [
            "Overwriting strings.cpp\n"
          ]
        }
      ]
    },
    {
      "cell_type": "code",
      "source": [
        "! g++ strings.cpp -o stringsProgram"
      ],
      "metadata": {
        "id": "qsgcTPNilTNf"
      },
      "execution_count": null,
      "outputs": []
    },
    {
      "cell_type": "code",
      "source": [
        "! ./stringsProgram"
      ],
      "metadata": {
        "colab": {
          "base_uri": "https://localhost:8080/"
        },
        "id": "TesAVWHHldLA",
        "outputId": "a356608c-ab36-4940-c625-15f6b2d140a1"
      },
      "execution_count": null,
      "outputs": [
        {
          "output_type": "stream",
          "name": "stdout",
          "text": [
            "Once upon a time, there was a huge ogre named Shrek..."
          ]
        }
      ]
    },
    {
      "cell_type": "markdown",
      "source": [
        "# 5.CPP Operators"
      ],
      "metadata": {
        "id": "sXirLwf4s81u"
      }
    },
    {
      "cell_type": "markdown",
      "source": [
        "## 5.1.Arithmetic Operators"
      ],
      "metadata": {
        "id": "QzbCX4Uwmnci"
      }
    },
    {
      "cell_type": "markdown",
      "source": [],
      "metadata": {
        "id": "Lx5gr0kcmquL"
      }
    },
    {
      "cell_type": "code",
      "source": [
        "%%writefile arithmeticOps.cpp\n",
        "#include <iostream>\n",
        "#include <iomanip>\n",
        "using namespace std;\n",
        "\n",
        "int main(){\n",
        "    // Display results without scientific notation\n",
        "    cout << fixed << std::cout.precision(4);\n",
        "\n",
        "    double a = 12348291.0;\n",
        "    double b = 23412.3123;\n",
        "\n",
        "    int c = 5;\n",
        "    int d = 4;\n",
        "\n",
        "    double addition = a + b;\n",
        "    double subtraction = a - b;\n",
        "    double multiplication = a * b;\n",
        "    double division = a / b;\n",
        "    float modulus = c % d;\n",
        "    float increment = ++c;\n",
        "    float decrement = --c;\n",
        "\n",
        "    cout << \"a = \" << a << endl;\n",
        "    cout << \"b = \" << b << endl;\n",
        "    cout << \"c = \" << c << endl;\n",
        "    cout << \"d = \" << d << endl;\n",
        "    cout << endl;\n",
        "    cout << \"addition (a + b) = \" << addition << endl;\n",
        "    cout << \"subtraction (a - b) = \" << subtraction << endl;\n",
        "    cout << \"multiplication (a * b) = \" << multiplication << endl;\n",
        "    cout << \"division (a / b) = \" << division << endl;\n",
        "    cout << \"modulus (c % d) = \" << modulus << endl;\n",
        "    cout << \"increment (c++) = \" << increment << endl;\n",
        "    cout << \"decrement (c--) = \" << decrement << endl;\n",
        "\n",
        "}"
      ],
      "metadata": {
        "colab": {
          "base_uri": "https://localhost:8080/"
        },
        "id": "FjIKh1rdmvzh",
        "outputId": "96835e04-b7bb-464b-9a71-5845210832ef"
      },
      "execution_count": null,
      "outputs": [
        {
          "output_type": "stream",
          "name": "stdout",
          "text": [
            "Overwriting arithmeticOps.cpp\n"
          ]
        }
      ]
    },
    {
      "cell_type": "code",
      "source": [
        "! g++ arithmeticOps.cpp -o arithmeticOpsProgram"
      ],
      "metadata": {
        "id": "PmrrVe7PoGB0"
      },
      "execution_count": null,
      "outputs": []
    },
    {
      "cell_type": "code",
      "source": [
        "! ./arithmeticOpsProgram"
      ],
      "metadata": {
        "colab": {
          "base_uri": "https://localhost:8080/"
        },
        "id": "q97eY4xXoj5S",
        "outputId": "1f5edbd7-4b6e-4fd6-f282-d50e5b29ab85"
      },
      "execution_count": null,
      "outputs": [
        {
          "output_type": "stream",
          "name": "stdout",
          "text": [
            "6a = 12348291.0000\n",
            "b = 23412.3123\n",
            "c = 5\n",
            "d = 4\n",
            "\n",
            "addition (a + b) = 12371703.3123\n",
            "subtraction (a - b) = 12324878.6877\n",
            "multiplication (a * b) = 289102045263.2793\n",
            "division (a / b) = 527.4272\n",
            "modulus (c % d) = 1.0000\n",
            "increment (c++) = 6.0000\n",
            "decrement (c--) = 5.0000\n"
          ]
        }
      ]
    },
    {
      "cell_type": "markdown",
      "source": [
        "## 5.2 Assignments Operators"
      ],
      "metadata": {
        "id": "0BG3gKk-9m7n"
      }
    },
    {
      "cell_type": "markdown",
      "source": [
        "We use `=` to assign values to variables"
      ],
      "metadata": {
        "id": "YUfCYMVH9paA"
      }
    },
    {
      "cell_type": "code",
      "source": [
        "%%writefile assignmentOps.cpp\n",
        "#include <iostream>\n",
        "using namespace std;\n",
        "\n",
        "int main(){\n",
        "    int a = 5;\n",
        "    cout << a;\n",
        "}"
      ],
      "metadata": {
        "colab": {
          "base_uri": "https://localhost:8080/"
        },
        "id": "vwAuCEPRsCBI",
        "outputId": "359c1e52-31d8-420d-c3d3-65b0e16c7ed5"
      },
      "execution_count": null,
      "outputs": [
        {
          "output_type": "stream",
          "name": "stdout",
          "text": [
            "Overwriting assignmentOps.cpp\n"
          ]
        }
      ]
    },
    {
      "cell_type": "code",
      "source": [
        "! g++ assignmentOps.cpp -o assignmentOpsProgram"
      ],
      "metadata": {
        "id": "0JA-sAfH98uA"
      },
      "execution_count": null,
      "outputs": []
    },
    {
      "cell_type": "code",
      "source": [
        "! ./assignmentOpsProgram"
      ],
      "metadata": {
        "colab": {
          "base_uri": "https://localhost:8080/"
        },
        "id": "SmhEe9UR-E7B",
        "outputId": "d121d65f-c8b1-443f-ebe5-66e9f019cc89"
      },
      "execution_count": null,
      "outputs": [
        {
          "output_type": "stream",
          "name": "stdout",
          "text": [
            "5"
          ]
        }
      ]
    },
    {
      "cell_type": "markdown",
      "source": [
        "## 5.3 Comparison Operators"
      ],
      "metadata": {
        "id": "x1vQ9Iov-OBS"
      }
    },
    {
      "cell_type": "markdown",
      "source": [
        "We use `<`, `>`, `==` as comparison operators. We need to put whole comparison in `(`, `)`.Comparison operators return 0 or 1 for False or True"
      ],
      "metadata": {
        "id": "4mCeD68p-RGO"
      }
    },
    {
      "cell_type": "code",
      "source": [
        "%%writefile comparisonOps.cpp\n",
        "#include <iostream>\n",
        "using namespace std;\n",
        "\n",
        "int main(){\n",
        "    int a = 5;\n",
        "    int b = 10;\n",
        "    cout << \"a: \" << a << endl;\n",
        "    cout << \"b: \" << b << endl;\n",
        "    cout << \"a < b = \" << (a < b) << endl;\n",
        "    cout << \"a > b = \" << (a > b) << endl;\n",
        "    cout << \"a == b = \" << (a == b) << endl;\n",
        "}"
      ],
      "metadata": {
        "colab": {
          "base_uri": "https://localhost:8080/"
        },
        "id": "3Xw_ccmR-ccX",
        "outputId": "320c3cd6-9223-4f77-ad7f-0c6d8b439e2f"
      },
      "execution_count": null,
      "outputs": [
        {
          "output_type": "stream",
          "name": "stdout",
          "text": [
            "Overwriting comparisonOps.cpp\n"
          ]
        }
      ]
    },
    {
      "cell_type": "code",
      "source": [
        "! g++ comparisonOps.cpp -o comparisonOpsProgram"
      ],
      "metadata": {
        "id": "jto00jro-6-x"
      },
      "execution_count": null,
      "outputs": []
    },
    {
      "cell_type": "code",
      "source": [
        "! ./comparisonOpsProgram"
      ],
      "metadata": {
        "colab": {
          "base_uri": "https://localhost:8080/"
        },
        "id": "FrUKC_wU_YC2",
        "outputId": "4a66b829-2e2e-4eb4-b47d-31785b2a3f8f"
      },
      "execution_count": null,
      "outputs": [
        {
          "output_type": "stream",
          "name": "stdout",
          "text": [
            "a: 5\n",
            "b: 10\n",
            "a < b = 1\n",
            "a > b = 0\n",
            "a == b = 0\n"
          ]
        }
      ]
    },
    {
      "cell_type": "markdown",
      "source": [
        "## 5.4 Logical Operators"
      ],
      "metadata": {
        "id": "pHp4XuWXAJIa"
      }
    },
    {
      "cell_type": "markdown",
      "source": [
        "We use && for and and II for or. We need to put whole logical test in `(`, `)`. They return 1 or 0."
      ],
      "metadata": {
        "id": "1xd0R6L0AP-h"
      }
    },
    {
      "cell_type": "code",
      "source": [
        "%%writefile logicalOps.cpp\n",
        "#include <iostream>\n",
        "using namespace std;\n",
        "\n",
        "int main(){\n",
        "    int a = 5;\n",
        "    int b = 10;\n",
        "    int c = 15;\n",
        "\n",
        "    cout << \"a = \" << a << endl;\n",
        "    cout << \"b = \" << b << endl;\n",
        "    cout << \"c = \" << c << endl;\n",
        "    cout << endl;\n",
        "    cout << \"a<b && a>b = \" << (a<b && a>b) << endl;\n",
        "    cout << \"a<b && b<c = \" << (a<b && b<c) << endl;\n",
        "    cout << \"a>b || b<c = \" << (a>b || b<c) << endl;\n",
        "    return 0;\n",
        "\n",
        "}"
      ],
      "metadata": {
        "colab": {
          "base_uri": "https://localhost:8080/"
        },
        "id": "qkyu4kF-ALEm",
        "outputId": "2cf5737a-ce47-4498-bf47-d5c6f3ea4ccd"
      },
      "execution_count": null,
      "outputs": [
        {
          "output_type": "stream",
          "name": "stdout",
          "text": [
            "Overwriting logicalOps.cpp\n"
          ]
        }
      ]
    },
    {
      "cell_type": "code",
      "source": [
        "! g++ logicalOps.cpp -o logicalOpsProgram"
      ],
      "metadata": {
        "id": "33KbkaU8BV2X"
      },
      "execution_count": null,
      "outputs": []
    },
    {
      "cell_type": "code",
      "source": [
        "! ./logicalOpsProgram"
      ],
      "metadata": {
        "colab": {
          "base_uri": "https://localhost:8080/"
        },
        "id": "OlBsFVlKBq0z",
        "outputId": "001b7a46-a4db-483f-ba95-b3b237728bcc"
      },
      "execution_count": null,
      "outputs": [
        {
          "output_type": "stream",
          "name": "stdout",
          "text": [
            "a = 5\n",
            "b = 10\n",
            "c = 15\n",
            "\n",
            "a<b && a>b = 0\n",
            "a<b && b<c = 1\n",
            "a>b || b<c = 1\n"
          ]
        }
      ]
    },
    {
      "cell_type": "markdown",
      "source": [
        "# 6.Math"
      ],
      "metadata": {
        "id": "P_D5ZHSPCv7i"
      }
    },
    {
      "cell_type": "markdown",
      "source": [
        "## 6.1.Max and Min"
      ],
      "metadata": {
        "id": "OSmeSdr6CxlD"
      }
    },
    {
      "cell_type": "markdown",
      "source": [
        "`max(a,b)` and `min(a,b)` can return max or min values from x and y"
      ],
      "metadata": {
        "id": "0DWCgaAxC7Yl"
      }
    },
    {
      "cell_type": "code",
      "source": [
        "%%writefile maxAndMin.cpp\n",
        "#include <iostream>\n",
        "using namespace std;\n",
        "\n",
        "int main(){\n",
        "    int a = 5;\n",
        "    int b = 10;\n",
        "    int c = 15;\n",
        "\n",
        "    cout << \"a = \" << a << endl;\n",
        "    cout << \"b = \" << b << endl;\n",
        "    cout << endl;\n",
        "    cout << \"max(a,b) = \" << max(a,b) << endl;\n",
        "    cout << \"min(a,b) = \" << min(a,b) << endl;\n",
        "\n",
        "    return 0;\n",
        "}"
      ],
      "metadata": {
        "colab": {
          "base_uri": "https://localhost:8080/"
        },
        "id": "mY0W-ZgNC1k-",
        "outputId": "094e1527-e755-4e2d-d1fb-3454af619d9d"
      },
      "execution_count": null,
      "outputs": [
        {
          "output_type": "stream",
          "name": "stdout",
          "text": [
            "Overwriting maxAndMin.cpp\n"
          ]
        }
      ]
    },
    {
      "cell_type": "code",
      "source": [
        "! g++ maxAndMin.cpp -o maxAndMinProgram"
      ],
      "metadata": {
        "id": "ovJEQur8DSVY"
      },
      "execution_count": null,
      "outputs": []
    },
    {
      "cell_type": "code",
      "source": [
        "! ./maxAndMinProgram"
      ],
      "metadata": {
        "colab": {
          "base_uri": "https://localhost:8080/"
        },
        "id": "RiU2xjUfDXQ6",
        "outputId": "06fdf806-b210-49ce-92e0-4d2746b6993f"
      },
      "execution_count": null,
      "outputs": [
        {
          "output_type": "stream",
          "name": "stdout",
          "text": [
            "a = 5\n",
            "b = 10\n",
            "\n",
            "max(a,b) = 10\n",
            "min(a,b) = 5\n"
          ]
        }
      ]
    },
    {
      "cell_type": "markdown",
      "source": [
        "## 6.2.Math header"
      ],
      "metadata": {
        "id": "4cq5HRi2ENwC"
      }
    },
    {
      "cell_type": "markdown",
      "source": [
        "We can use sqr(a), round(a), log(a), abs(a) to get relevant outputs."
      ],
      "metadata": {
        "id": "Y_HlDfXYEXUL"
      }
    },
    {
      "cell_type": "code",
      "source": [
        "%%writefile math.cpp\n",
        "#include <iostream>\n",
        "#include <cmath>\n",
        "using namespace std;\n",
        "\n",
        "int main(){\n",
        "  int a = -5;\n",
        "  float b = 5.9;\n",
        "\n",
        "  cout << \"a = \" << a << endl;\n",
        "  cout << \"b = \" << b << endl;\n",
        "  cout << endl;\n",
        "  cout << \"sqrt(b) = \" << sqrt(b) << endl;\n",
        "  cout << \"log(b) = \" << log(b) << endl;\n",
        "  cout << \"round(b) = \" << round(b) << endl;\n",
        "  cout << \"abs(a) = \" << abs(a) << endl;\n",
        "\n",
        "  return 0;\n",
        "}"
      ],
      "metadata": {
        "colab": {
          "base_uri": "https://localhost:8080/"
        },
        "id": "lSfRHtIREUCv",
        "outputId": "f6e626f3-b408-4ae2-ae6d-81471b13f453"
      },
      "execution_count": null,
      "outputs": [
        {
          "output_type": "stream",
          "name": "stdout",
          "text": [
            "Overwriting math.cpp\n"
          ]
        }
      ]
    },
    {
      "cell_type": "code",
      "source": [
        "! g++ math.cpp -o mathProgram"
      ],
      "metadata": {
        "id": "MeK0miIRFHbd"
      },
      "execution_count": null,
      "outputs": []
    },
    {
      "cell_type": "code",
      "source": [
        "! ./mathProgram"
      ],
      "metadata": {
        "colab": {
          "base_uri": "https://localhost:8080/"
        },
        "id": "pJutTp5QGSvm",
        "outputId": "4d8908d8-6639-44af-e488-dd8731836507"
      },
      "execution_count": null,
      "outputs": [
        {
          "output_type": "stream",
          "name": "stdout",
          "text": [
            "a = -5\n",
            "b = 5.9\n",
            "\n",
            "sqrt(b) = 2.42899\n",
            "log(b) = 1.77495\n",
            "round(b) = 6\n",
            "abs(a) = 5\n"
          ]
        }
      ]
    },
    {
      "cell_type": "markdown",
      "source": [
        "# 7.Booleans"
      ],
      "metadata": {
        "id": "MIl61o51GNk_"
      }
    },
    {
      "cell_type": "markdown",
      "source": [
        "## 7.1 Operators"
      ],
      "metadata": {
        "id": "KLcf1-yVQvAA"
      }
    },
    {
      "cell_type": "code",
      "source": [
        "%%writefile bool.cpp\n",
        "#include <iostream>\n",
        "using namespace std;\n",
        "\n",
        "int main(){\n",
        "    bool a = true;\n",
        "    bool b = false;\n",
        "\n",
        "    cout << \"a: \" << a << endl;\n",
        "    cout << \"b: \" << b << endl;\n",
        "\n",
        "    return 0;\n",
        "}"
      ],
      "metadata": {
        "colab": {
          "base_uri": "https://localhost:8080/"
        },
        "id": "Ba1P1NzwGQGK",
        "outputId": "822ce443-b119-4392-db97-e279795b5741"
      },
      "execution_count": null,
      "outputs": [
        {
          "output_type": "stream",
          "name": "stdout",
          "text": [
            "Overwriting bool.cpp\n"
          ]
        }
      ]
    },
    {
      "cell_type": "code",
      "source": [
        "! g++ bool.cpp -o boolProgram"
      ],
      "metadata": {
        "id": "6hVvTDj6GqLt"
      },
      "execution_count": null,
      "outputs": []
    },
    {
      "cell_type": "code",
      "source": [
        "! ./boolProgram"
      ],
      "metadata": {
        "colab": {
          "base_uri": "https://localhost:8080/"
        },
        "id": "44qPCU-QG21b",
        "outputId": "b1632736-c0af-47c1-97bc-5771f3f8a415"
      },
      "execution_count": null,
      "outputs": [
        {
          "output_type": "stream",
          "name": "stdout",
          "text": [
            "a: 1\n",
            "b: 0\n"
          ]
        }
      ]
    },
    {
      "cell_type": "markdown",
      "source": [
        "## 7.2 Comparison"
      ],
      "metadata": {
        "id": "pyrmmPQxHgSd"
      }
    },
    {
      "cell_type": "markdown",
      "source": [
        "`true` is 1 and `false` is 0, thus we can compare it by `>` operator"
      ],
      "metadata": {
        "id": "eSnsJFw7HkhF"
      }
    },
    {
      "cell_type": "code",
      "source": [
        "%%writefile boolExp.cpp\n",
        "#include <iostream>\n",
        "\n",
        "using namespace std;\n",
        "\n",
        "int main(){\n",
        "  bool a = true;\n",
        "  bool b = false;\n",
        "\n",
        "  cout << \"a: \" << a << endl;\n",
        "  cout << \"b: \" << b << endl;\n",
        "  cout << endl;\n",
        "  cout << \"a < b = \" << (a < b) << endl;\n",
        "  cout << \"a > b = \" << (a > b) << endl;\n",
        "\n",
        "  return 0;\n",
        "}"
      ],
      "metadata": {
        "colab": {
          "base_uri": "https://localhost:8080/"
        },
        "id": "WtUtX0p-Hr3p",
        "outputId": "ba0c65d1-4e53-459a-d69c-19104d17ae0f"
      },
      "execution_count": null,
      "outputs": [
        {
          "output_type": "stream",
          "name": "stdout",
          "text": [
            "Overwriting boolExp.cpp\n"
          ]
        }
      ]
    },
    {
      "cell_type": "code",
      "source": [
        "! g++ boolExp.cpp -o boolExpProgram"
      ],
      "metadata": {
        "id": "TzTyL1JQIETv"
      },
      "execution_count": null,
      "outputs": []
    },
    {
      "cell_type": "code",
      "source": [
        "! ./boolExpProgram"
      ],
      "metadata": {
        "colab": {
          "base_uri": "https://localhost:8080/"
        },
        "id": "h2XTDxz5INnH",
        "outputId": "b9cf1185-7a9a-4448-cf12-252de012cc4e"
      },
      "execution_count": null,
      "outputs": [
        {
          "output_type": "stream",
          "name": "stdout",
          "text": [
            "a: 1\n",
            "b: 0\n",
            "\n",
            "a < b = 0\n",
            "a > b = 1\n"
          ]
        }
      ]
    },
    {
      "cell_type": "markdown",
      "source": [
        "# 8.Conditional Statements"
      ],
      "metadata": {
        "id": "jiMQow3vQ6o_"
      }
    },
    {
      "cell_type": "markdown",
      "source": [
        "C++ supports the usual logical conditions from mathematics:\n",
        "\n",
        "- Less than: a < b\n",
        "- Less than or equal to: a <= b\n",
        "- Greater than: a > b\n",
        "- Greater than or equal to: a >= b\n",
        "- Equal to a == b\n",
        "- Not Equal to: a != b\n",
        "- You can use these conditions to perform different actions for different decisions."
      ],
      "metadata": {
        "id": "39OLFfxCQ9F9"
      }
    },
    {
      "cell_type": "markdown",
      "source": [
        "## 8.1.If Statement"
      ],
      "metadata": {
        "id": "hwpNC0-FRW24"
      }
    },
    {
      "cell_type": "code",
      "source": [
        "%%writefile ifState.cpp\n",
        "#include <iostream>\n",
        "\n",
        "using namespace std;\n",
        "\n",
        "int main() {\n",
        "  double x = 0;\n",
        "\n",
        "  cout << \"Type in a number higher than 0: \";\n",
        "  cin >> x;\n",
        "\n",
        "  if (x > 0){\n",
        "    cout << \"You've typed in number higher than 0\" << endl;\n",
        "  }\n",
        "  cout << \"Program is done\" << endl;\n",
        "}"
      ],
      "metadata": {
        "colab": {
          "base_uri": "https://localhost:8080/"
        },
        "id": "GTft1Js9Q-3W",
        "outputId": "84495afa-cff8-44df-b529-61bb1fc7c883"
      },
      "execution_count": null,
      "outputs": [
        {
          "output_type": "stream",
          "name": "stdout",
          "text": [
            "Overwriting ifState.cpp\n"
          ]
        }
      ]
    },
    {
      "cell_type": "code",
      "source": [
        "! g++ ifState.cpp -o ifStateProgram"
      ],
      "metadata": {
        "id": "SdB_Xs_mRwNa"
      },
      "execution_count": null,
      "outputs": []
    },
    {
      "cell_type": "code",
      "source": [
        "! ./ifStateProgram"
      ],
      "metadata": {
        "colab": {
          "base_uri": "https://localhost:8080/"
        },
        "id": "ts1JyUTcSUra",
        "outputId": "6d9cc95a-0019-49b2-d1ee-2ab1dd5021ae"
      },
      "execution_count": null,
      "outputs": [
        {
          "output_type": "stream",
          "name": "stdout",
          "text": [
            "Type in a number higher than 0: 100\n",
            "You've typed in number higher than 0\n",
            "Program is done\n"
          ]
        }
      ]
    },
    {
      "cell_type": "markdown",
      "source": [
        "## 8.2.Else Statement"
      ],
      "metadata": {
        "id": "EEPkan42UYwg"
      }
    },
    {
      "cell_type": "code",
      "source": [
        "%%writefile elseState.cpp\n",
        "#include <iostream>\n",
        "using namespace std;\n",
        "\n",
        "int main() {\n",
        "    double x;\n",
        "    double y;\n",
        "\n",
        "    cout << \"Type in x number: \";\n",
        "    cin >> x;\n",
        "    cout << \"Type in y number: \";\n",
        "    cin >> y;\n",
        "\n",
        "    if (x > y) {\n",
        "        cout << \"x is higher than y\" << endl;\n",
        "    } else {\n",
        "        cout << \"x is equal or lower than y\" << endl;\n",
        "    }\n",
        "}"
      ],
      "metadata": {
        "colab": {
          "base_uri": "https://localhost:8080/"
        },
        "id": "s6kQ5RQXUbCw",
        "outputId": "cca9e8e0-cf4b-4970-a4bd-7dfc71ea34c1"
      },
      "execution_count": null,
      "outputs": [
        {
          "output_type": "stream",
          "name": "stdout",
          "text": [
            "Writing elseState.cpp\n"
          ]
        }
      ]
    },
    {
      "cell_type": "code",
      "source": [
        "! g++ elseState.cpp -o elseStateProgram"
      ],
      "metadata": {
        "id": "6vRD9f8xVNWA"
      },
      "execution_count": null,
      "outputs": []
    },
    {
      "cell_type": "code",
      "source": [
        "! ./elseStateProgram"
      ],
      "metadata": {
        "colab": {
          "base_uri": "https://localhost:8080/"
        },
        "id": "a2Q1WgYZVQwj",
        "outputId": "3e0e6eb6-fd95-407d-a8d3-9c6edc4530ce"
      },
      "execution_count": null,
      "outputs": [
        {
          "output_type": "stream",
          "name": "stdout",
          "text": [
            "Type in x number: 12341\n",
            "Type in y number: 2312\n",
            "x is higher than y\n"
          ]
        }
      ]
    },
    {
      "cell_type": "markdown",
      "source": [
        "## 8.3.The else if statement"
      ],
      "metadata": {
        "id": "yhbQfXmoVbhD"
      }
    },
    {
      "cell_type": "code",
      "source": [
        "%%writefile elseIfState.cpp\n",
        "#include <iostream>\n",
        "\n",
        "using namespace std;\n",
        "\n",
        "int main(){\n",
        "  double x;\n",
        "  double left_bound;\n",
        "  double right_bound;\n",
        "\n",
        "  cout << \"Type in a number: \";\n",
        "  cin >> x;\n",
        "  cout << \"Type in left bound: \";\n",
        "  cin >> left_bound;\n",
        "  cout << \"Type in right bound: \";\n",
        "  cin >> right_bound;\n",
        "\n",
        "  if (x < left_bound){\n",
        "    cout << \"x is on the left side of given range\";\n",
        "  } else if (x > right_bound){\n",
        "    cout << \"x is on the right side of given range\";\n",
        "  } else {\n",
        "    cout << \"x is inside the range\";\n",
        "  }\n",
        "}"
      ],
      "metadata": {
        "colab": {
          "base_uri": "https://localhost:8080/"
        },
        "id": "niJrHGXuo9JA",
        "outputId": "474806a3-4d2b-452f-ebf0-b527c8ecdc64"
      },
      "execution_count": null,
      "outputs": [
        {
          "output_type": "stream",
          "name": "stdout",
          "text": [
            "Overwriting elseIfState.cpp\n"
          ]
        }
      ]
    },
    {
      "cell_type": "code",
      "source": [
        "! g++ elseIfState.cpp -o elseIfStateProgram"
      ],
      "metadata": {
        "id": "urgZh11Cp7gK"
      },
      "execution_count": null,
      "outputs": []
    },
    {
      "cell_type": "code",
      "source": [
        "! ./elseIfStateProgram"
      ],
      "metadata": {
        "colab": {
          "base_uri": "https://localhost:8080/"
        },
        "id": "x8P1xxhhqAds",
        "outputId": "dfe172dd-a023-42c9-e4aa-e1a1bc276123"
      },
      "execution_count": null,
      "outputs": [
        {
          "output_type": "stream",
          "name": "stdout",
          "text": [
            "Type in a number: 100\n",
            "Type in left bound: 200\n",
            "Type in right bound: 3\n",
            "x is on the left side of given range"
          ]
        }
      ]
    },
    {
      "cell_type": "code",
      "source": [
        "! ./elseIfStateProgram"
      ],
      "metadata": {
        "colab": {
          "base_uri": "https://localhost:8080/"
        },
        "id": "VdGdYgrxRc-S",
        "outputId": "4cf6fb10-84fa-4342-8313-20b6f53cb1a5"
      },
      "execution_count": null,
      "outputs": [
        {
          "output_type": "stream",
          "name": "stdout",
          "text": [
            "Type in a number: 500\n",
            "Type in left bound: 100\n",
            "Type in right bound: 1000\n",
            "x is inside the range"
          ]
        }
      ]
    },
    {
      "cell_type": "code",
      "source": [
        "! ./elseIfStateProgram"
      ],
      "metadata": {
        "colab": {
          "base_uri": "https://localhost:8080/"
        },
        "id": "-dCylT5qRnc8",
        "outputId": "d1b95dee-2a68-428b-a69c-9409eee1c75b"
      },
      "execution_count": null,
      "outputs": [
        {
          "output_type": "stream",
          "name": "stdout",
          "text": [
            "Type in a number: 500\n",
            "Type in left bound: 100\n",
            "Type in right bound: 400\n",
            "x is on the right side of given range"
          ]
        }
      ]
    },
    {
      "cell_type": "markdown",
      "source": [
        "# 9.Switch Statements"
      ],
      "metadata": {
        "id": "wg4Cvf03EM0A"
      }
    },
    {
      "cell_type": "code",
      "source": [
        "# %%writefile switch.cpp\n",
        "# #include <iostream>\n",
        "using namespace std;\n",
        "\n",
        "int main(){\n",
        "    int x = 3;\n",
        "    switch(x){\n",
        "    case (1):\n",
        "    cout << \"Number is 1\";\n",
        "    break;\n",
        "    case (2):\n",
        "    cout << \"Number is 2\";\n",
        "    break;\n",
        "    case (3):\n",
        "    cout << \"Number is 3\";\n",
        "    break;\n",
        "    default:\n",
        "    cout << \"No number\";\n",
        "    }\n",
        "}"
      ],
      "metadata": {
        "colab": {
          "base_uri": "https://localhost:8080/"
        },
        "id": "Ix6v0GfTETpJ",
        "outputId": "18802ab1-bdbe-4bd7-adef-7a713d523655"
      },
      "execution_count": null,
      "outputs": [
        {
          "output_type": "stream",
          "name": "stdout",
          "text": [
            "Overwriting switch.cpp\n"
          ]
        }
      ]
    },
    {
      "cell_type": "code",
      "source": [
        "! g++ switch.cpp -o switchProgram"
      ],
      "metadata": {
        "id": "Wtd_cinUE4JU"
      },
      "execution_count": null,
      "outputs": []
    },
    {
      "cell_type": "code",
      "source": [
        "! ./switchProgram"
      ],
      "metadata": {
        "colab": {
          "base_uri": "https://localhost:8080/"
        },
        "id": "Z3uHuB-LFpsb",
        "outputId": "6520e278-f27f-4a40-c4ec-09834cff8bcf"
      },
      "execution_count": null,
      "outputs": [
        {
          "output_type": "stream",
          "name": "stdout",
          "text": [
            "Number is 3"
          ]
        }
      ]
    },
    {
      "cell_type": "markdown",
      "source": [
        "# 10.Loops"
      ],
      "metadata": {
        "id": "ox8wIaBDMBm8"
      }
    },
    {
      "cell_type": "markdown",
      "source": [
        "## 10.1.Do/while Loop"
      ],
      "metadata": {
        "id": "uLK36j9SONOQ"
      }
    },
    {
      "cell_type": "code",
      "source": [
        "# %%writefile dowhile.cpp\n",
        "#include <iostream>\n",
        "using namespace std;\n",
        "\n",
        "int main(){\n",
        "    int i = 0;\n",
        "\n",
        "    do {\n",
        "        cout << \"Hello World\\n\";\n",
        "        i++;\n",
        "    }\n",
        "    while (i<5);\n",
        "    return 0;\n",
        "}"
      ],
      "metadata": {
        "colab": {
          "base_uri": "https://localhost:8080/"
        },
        "id": "X2mEas-MMDyd",
        "outputId": "09ed2281-620a-4acf-913c-9fec8f60d781"
      },
      "execution_count": null,
      "outputs": [
        {
          "output_type": "stream",
          "name": "stdout",
          "text": [
            "Overwriting dowhile.cpp\n"
          ]
        }
      ]
    },
    {
      "cell_type": "code",
      "source": [
        "!g++ dowhile.cpp -o dowhileProgram"
      ],
      "metadata": {
        "id": "brQoBIOQO1hv"
      },
      "execution_count": null,
      "outputs": []
    },
    {
      "cell_type": "code",
      "source": [
        "! ./dowhileProgram"
      ],
      "metadata": {
        "colab": {
          "base_uri": "https://localhost:8080/"
        },
        "id": "GPwq1AmZPFo7",
        "outputId": "f7b5f49a-50fb-48c7-dfd3-274d3075e5aa"
      },
      "execution_count": null,
      "outputs": [
        {
          "output_type": "stream",
          "name": "stdout",
          "text": [
            "Hello World\n",
            "Hello World\n",
            "Hello World\n",
            "Hello World\n",
            "Hello World\n"
          ]
        }
      ]
    },
    {
      "cell_type": "markdown",
      "source": [
        "## 10.2.Break Loop"
      ],
      "metadata": {
        "id": "EaKoAtmZSacE"
      }
    },
    {
      "cell_type": "code",
      "source": [
        "# %%writefile breakloop.cpp\n",
        "#include <iostream>\n",
        "using namespace std;\n",
        "\n",
        "int main() {\n",
        "  for (int i = 0; i < 10; i++) {\n",
        "    if (i == 5) {\n",
        "      break;\n",
        "    } else {\n",
        "      cout << i << endl;\n",
        "    }\n",
        "  }\n",
        "}"
      ],
      "metadata": {
        "colab": {
          "base_uri": "https://localhost:8080/"
        },
        "id": "Plrt3ir4SddX",
        "outputId": "806a8a6a-1905-4b6d-8ca1-7d038eda8164"
      },
      "execution_count": null,
      "outputs": [
        {
          "output_type": "stream",
          "name": "stdout",
          "text": [
            "Writing breakloop.cpp\n"
          ]
        }
      ]
    },
    {
      "cell_type": "code",
      "source": [
        "!g++ breakloop.cpp -o breakloopProgram"
      ],
      "metadata": {
        "id": "19xhqRPnTCHd"
      },
      "execution_count": null,
      "outputs": []
    },
    {
      "cell_type": "code",
      "source": [
        "! ./breakloopProgram"
      ],
      "metadata": {
        "colab": {
          "base_uri": "https://localhost:8080/"
        },
        "id": "oJCtjI9pTF2M",
        "outputId": "bc33f25b-0a28-497e-f266-018d077f4761"
      },
      "execution_count": null,
      "outputs": [
        {
          "output_type": "stream",
          "name": "stdout",
          "text": [
            "0\n",
            "1\n",
            "2\n",
            "3\n",
            "4\n"
          ]
        }
      ]
    },
    {
      "cell_type": "markdown",
      "source": [
        "## 10.3.Continue Loop"
      ],
      "metadata": {
        "id": "TFCJUneKUgw2"
      }
    },
    {
      "cell_type": "code",
      "source": [
        "%%writefile continueLoop.cpp\n",
        "#include <iostream>\n",
        "using namespace std;\n",
        "\n",
        "int main(){\n",
        "  for (int i = 0; i<20; i++) {\n",
        "    if (i%2 == 0) {\n",
        "      continue;\n",
        "    }\n",
        "    else {\n",
        "      cout << i << endl;\n",
        "    }\n",
        "  }\n",
        "}"
      ],
      "metadata": {
        "colab": {
          "base_uri": "https://localhost:8080/"
        },
        "id": "GVXMn5RQUlrt",
        "outputId": "027bdd6b-74b5-4e3e-b841-da1e159fc836"
      },
      "execution_count": null,
      "outputs": [
        {
          "output_type": "stream",
          "name": "stdout",
          "text": [
            "Overwriting continueLoop.cpp\n"
          ]
        }
      ]
    },
    {
      "cell_type": "code",
      "source": [
        "!g++ continueLoop.cpp -o continueLoopProgram"
      ],
      "metadata": {
        "id": "7adPf9u_ZHo9"
      },
      "execution_count": null,
      "outputs": []
    },
    {
      "cell_type": "code",
      "source": [
        "! ./continueLoopProgram"
      ],
      "metadata": {
        "colab": {
          "base_uri": "https://localhost:8080/"
        },
        "id": "YL3Uhs-1Zfj8",
        "outputId": "c8b5df6a-c6a0-4010-d93c-2c53905a8b86"
      },
      "execution_count": null,
      "outputs": [
        {
          "output_type": "stream",
          "name": "stdout",
          "text": [
            "1\n",
            "3\n",
            "5\n",
            "7\n",
            "9\n",
            "11\n",
            "13\n",
            "15\n",
            "17\n",
            "19\n"
          ]
        }
      ]
    },
    {
      "cell_type": "markdown",
      "source": [
        "# 11.Arrays"
      ],
      "metadata": {
        "id": "U7hO5uMBn16z"
      }
    },
    {
      "cell_type": "markdown",
      "source": [
        "## 11.1.Arrays and Loops"
      ],
      "metadata": {
        "id": "RyEyHpW7n4vo"
      }
    },
    {
      "cell_type": "code",
      "source": [
        "%%writefile arrays.cpp\n",
        "#include <iostream>\n",
        "using namespace std;\n",
        "\n",
        "int main() {\n",
        "  string arr[5] = {\"dog\",\"cat\",\"bird\",\"mouse\",\"monkey\"};\n",
        "  cout << arr[0] << endl;\n",
        "  cout << arr[1] << endl;\n",
        "  cout << arr[2] << endl;\n",
        "  cout << arr[3] << endl;\n",
        "  cout << arr[4] << endl;\n",
        "\n",
        "  cout << endl;\n",
        "\n",
        "  for (int i = 0; i < 5; i++) {\n",
        "    cout << arr[i] << endl;\n",
        "  }\n",
        "  return 0;\n",
        "}"
      ],
      "metadata": {
        "colab": {
          "base_uri": "https://localhost:8080/"
        },
        "id": "jgzv7b2Yn4Zx",
        "outputId": "c84d416a-8beb-485e-9cef-4ff929f0a2bd"
      },
      "execution_count": null,
      "outputs": [
        {
          "output_type": "stream",
          "name": "stdout",
          "text": [
            "Overwriting arrays.cpp\n"
          ]
        }
      ]
    },
    {
      "cell_type": "code",
      "source": [
        "!g++ arrays.cpp -o arraysProgram"
      ],
      "metadata": {
        "id": "rP7WUFLkpElV"
      },
      "execution_count": null,
      "outputs": []
    },
    {
      "cell_type": "code",
      "source": [
        "! ./arraysProgram"
      ],
      "metadata": {
        "colab": {
          "base_uri": "https://localhost:8080/"
        },
        "id": "wSMWMowSpQ8c",
        "outputId": "5aee3997-2ebb-4453-959a-6c27110a7372"
      },
      "execution_count": null,
      "outputs": [
        {
          "output_type": "stream",
          "name": "stdout",
          "text": [
            "dog\n",
            "cat\n",
            "bird\n",
            "mouse\n",
            "monkey\n",
            "\n",
            "dog\n",
            "cat\n",
            "bird\n",
            "mouse\n",
            "monkey\n"
          ]
        }
      ]
    },
    {
      "cell_type": "markdown",
      "source": [
        "## 11.2.Omit Array Size"
      ],
      "metadata": {
        "id": "wPmMwt1gqJeT"
      }
    },
    {
      "cell_type": "code",
      "source": [
        "%%writefile arraysNoSize.cpp\n",
        "# include <iostream>\n",
        "using namespace std;\n",
        "\n",
        "int main(){\n",
        "    string arr[] = {\"alfa\",\"beta\",\"gamma\",\"theta\"};\n",
        "\n",
        "    for (int i = 0; i < 4; i++) {\n",
        "      cout << arr[i] << \"\\n\";\n",
        "    }\n",
        "}"
      ],
      "metadata": {
        "colab": {
          "base_uri": "https://localhost:8080/"
        },
        "id": "jUTFK47-qMxK",
        "outputId": "f04dcc47-ebcd-4d0f-9a4d-203264dc567a"
      },
      "execution_count": null,
      "outputs": [
        {
          "output_type": "stream",
          "name": "stdout",
          "text": [
            "Writing arraysNoSize.cpp\n"
          ]
        }
      ]
    },
    {
      "cell_type": "code",
      "source": [
        "!g++ arraysNoSize.cpp -o arraysNoSizeProgram"
      ],
      "metadata": {
        "id": "plt2VCX8qrAr"
      },
      "execution_count": null,
      "outputs": []
    },
    {
      "cell_type": "code",
      "source": [
        "! ./arraysNoSizeProgram"
      ],
      "metadata": {
        "colab": {
          "base_uri": "https://localhost:8080/"
        },
        "id": "pissu-8eqsIB",
        "outputId": "a7ae1896-fd6f-4acb-cda0-b1f2bd572fd9"
      },
      "execution_count": null,
      "outputs": [
        {
          "output_type": "stream",
          "name": "stdout",
          "text": [
            "alfa\n",
            "beta\n",
            "gamma\n",
            "theta\n"
          ]
        }
      ]
    },
    {
      "cell_type": "markdown",
      "source": [
        "# 12.Reference"
      ],
      "metadata": {
        "id": "dI9uS7781GMW"
      }
    },
    {
      "cell_type": "markdown",
      "source": [
        "We can use reference variable by adding & before the variable"
      ],
      "metadata": {
        "id": "bJiiuuWo1uHs"
      }
    },
    {
      "cell_type": "code",
      "source": [
        "%%writefile reference.cpp\n",
        "# include <iostream>\n",
        "using namespace std;\n",
        "\n",
        "int main(){\n",
        "  string one = \"haba\";\n",
        "  string & two = one;\n",
        "\n",
        "  cout << one << endl;\n",
        "  cout << two << endl;\n",
        "\n",
        "  cout << endl;\n",
        "\n",
        "  //now I will change only variable one\n",
        "  one = \"abah\";\n",
        "\n",
        "  cout << \"after change single var:\" << endl;\n",
        "  cout << one << endl;\n",
        "  cout << two << endl;\n",
        "}"
      ],
      "metadata": {
        "colab": {
          "base_uri": "https://localhost:8080/"
        },
        "id": "q0QujQck1KvH",
        "outputId": "5bf72c6d-d077-4462-a812-7221f9b23d51"
      },
      "execution_count": null,
      "outputs": [
        {
          "output_type": "stream",
          "name": "stdout",
          "text": [
            "Overwriting reference.cpp\n"
          ]
        }
      ]
    },
    {
      "cell_type": "code",
      "source": [
        "!g++ reference.cpp -o referenceProgram"
      ],
      "metadata": {
        "id": "2xoETacD1cX0"
      },
      "execution_count": null,
      "outputs": []
    },
    {
      "cell_type": "code",
      "source": [
        "! ./referenceProgram"
      ],
      "metadata": {
        "colab": {
          "base_uri": "https://localhost:8080/"
        },
        "id": "ohdMryw51f0m",
        "outputId": "9ed2b62b-2b19-4304-a7e7-5af54413138a"
      },
      "execution_count": null,
      "outputs": [
        {
          "output_type": "stream",
          "name": "stdout",
          "text": [
            "haba\n",
            "haba\n",
            "\n",
            "after change single var:\n",
            "abah\n",
            "abah\n"
          ]
        }
      ]
    },
    {
      "cell_type": "markdown",
      "source": [
        "# 13.Memory Address"
      ],
      "metadata": {
        "id": "yAyN3HlH2KWh"
      }
    },
    {
      "cell_type": "markdown",
      "source": [
        "Previously we've used & as reference sign, however it actually works in a way it takes memory place where the variable to which we're referencing to is stored. By using & before variable in cout expression we will output memory id where given variable is stored"
      ],
      "metadata": {
        "id": "Z-1KP53E2ZCz"
      }
    },
    {
      "cell_type": "code",
      "source": [
        "%%writefile memoryAddress.cpp\n",
        "#include <iostream>\n",
        "using namespace std;\n",
        "\n",
        "int main() {\n",
        "  int var = 5;\n",
        "\n",
        "  cout << &var;\n",
        "  return 0;\n",
        "}"
      ],
      "metadata": {
        "colab": {
          "base_uri": "https://localhost:8080/"
        },
        "id": "dFjtYM1n2Zks",
        "outputId": "4f5a3286-cf4a-4ff8-ec9a-4b7ad9b3cfc6"
      },
      "execution_count": null,
      "outputs": [
        {
          "output_type": "stream",
          "name": "stdout",
          "text": [
            "Overwriting memoryAddress.cpp\n"
          ]
        }
      ]
    },
    {
      "cell_type": "code",
      "source": [
        "!g++ memoryAddress.cpp -o memoryAddressProgram"
      ],
      "metadata": {
        "id": "wEI3TMri2oFy"
      },
      "execution_count": null,
      "outputs": []
    },
    {
      "cell_type": "code",
      "source": [
        "! ./memoryAddressProgram"
      ],
      "metadata": {
        "colab": {
          "base_uri": "https://localhost:8080/"
        },
        "id": "jbdDkBLO27mH",
        "outputId": "0cf8081e-7a98-40cf-af57-bb8ec5be181e"
      },
      "execution_count": null,
      "outputs": [
        {
          "output_type": "stream",
          "name": "stdout",
          "text": [
            "0x7ffc15299be4"
          ]
        }
      ]
    }
  ]
}